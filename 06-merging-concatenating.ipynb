{
 "cells": [
  {
   "cell_type": "code",
   "execution_count": 4,
   "metadata": {},
   "outputs": [],
   "source": [
    "import pandas as pd\n",
    "import numpy as np"
   ]
  },
  {
   "cell_type": "markdown",
   "metadata": {},
   "source": [
    "# Merging and Concatenating"
   ]
  },
  {
   "cell_type": "code",
   "execution_count": 5,
   "metadata": {},
   "outputs": [
    {
     "data": {
      "application/vnd.microsoft.datawrangler.viewer.v0+json": {
       "columns": [
        {
         "name": "index",
         "rawType": "int64",
         "type": "integer"
        },
        {
         "name": "athlete_id",
         "rawType": "int64",
         "type": "integer"
        },
        {
         "name": "name",
         "rawType": "object",
         "type": "string"
        },
        {
         "name": "born_date",
         "rawType": "object",
         "type": "string"
        },
        {
         "name": "born_city",
         "rawType": "object",
         "type": "string"
        },
        {
         "name": "born_region",
         "rawType": "object",
         "type": "string"
        },
        {
         "name": "born_country",
         "rawType": "object",
         "type": "string"
        },
        {
         "name": "NOC",
         "rawType": "object",
         "type": "string"
        },
        {
         "name": "height_cm",
         "rawType": "float64",
         "type": "float"
        },
        {
         "name": "weight_kg",
         "rawType": "float64",
         "type": "float"
        },
        {
         "name": "died_date",
         "rawType": "object",
         "type": "unknown"
        }
       ],
       "conversionMethod": "pd.DataFrame",
       "ref": "a05f06f2-7c4d-4446-8057-ce0b39846945",
       "rows": [
        [
         "0",
         "1",
         "Jean-François Blanchy",
         "1886-12-12",
         "Bordeaux",
         "Gironde",
         "FRA",
         "France",
         null,
         null,
         "1960-10-02"
        ],
        [
         "1",
         "2",
         "Arnaud Boetsch",
         "1969-04-01",
         "Meulan",
         "Yvelines",
         "FRA",
         "France",
         "183.0",
         "76.0",
         null
        ],
        [
         "2",
         "3",
         "Jean Borotra",
         "1898-08-13",
         "Biarritz",
         "Pyrénées-Atlantiques",
         "FRA",
         "France",
         "183.0",
         "76.0",
         "1994-07-17"
        ],
        [
         "3",
         "4",
         "Jacques Brugnon",
         "1895-05-11",
         "Paris VIIIe",
         "Paris",
         "FRA",
         "France",
         "168.0",
         "64.0",
         "1978-03-20"
        ],
        [
         "4",
         "5",
         "Albert Canet",
         "1878-04-17",
         "Wandsworth",
         "England",
         "GBR",
         "France",
         null,
         null,
         "1930-07-25"
        ]
       ],
       "shape": {
        "columns": 10,
        "rows": 5
       }
      },
      "text/html": [
       "<div>\n",
       "<style scoped>\n",
       "    .dataframe tbody tr th:only-of-type {\n",
       "        vertical-align: middle;\n",
       "    }\n",
       "\n",
       "    .dataframe tbody tr th {\n",
       "        vertical-align: top;\n",
       "    }\n",
       "\n",
       "    .dataframe thead th {\n",
       "        text-align: right;\n",
       "    }\n",
       "</style>\n",
       "<table border=\"1\" class=\"dataframe\">\n",
       "  <thead>\n",
       "    <tr style=\"text-align: right;\">\n",
       "      <th></th>\n",
       "      <th>athlete_id</th>\n",
       "      <th>name</th>\n",
       "      <th>born_date</th>\n",
       "      <th>born_city</th>\n",
       "      <th>born_region</th>\n",
       "      <th>born_country</th>\n",
       "      <th>NOC</th>\n",
       "      <th>height_cm</th>\n",
       "      <th>weight_kg</th>\n",
       "      <th>died_date</th>\n",
       "    </tr>\n",
       "  </thead>\n",
       "  <tbody>\n",
       "    <tr>\n",
       "      <th>0</th>\n",
       "      <td>1</td>\n",
       "      <td>Jean-François Blanchy</td>\n",
       "      <td>1886-12-12</td>\n",
       "      <td>Bordeaux</td>\n",
       "      <td>Gironde</td>\n",
       "      <td>FRA</td>\n",
       "      <td>France</td>\n",
       "      <td>NaN</td>\n",
       "      <td>NaN</td>\n",
       "      <td>1960-10-02</td>\n",
       "    </tr>\n",
       "    <tr>\n",
       "      <th>1</th>\n",
       "      <td>2</td>\n",
       "      <td>Arnaud Boetsch</td>\n",
       "      <td>1969-04-01</td>\n",
       "      <td>Meulan</td>\n",
       "      <td>Yvelines</td>\n",
       "      <td>FRA</td>\n",
       "      <td>France</td>\n",
       "      <td>183.0</td>\n",
       "      <td>76.0</td>\n",
       "      <td>NaN</td>\n",
       "    </tr>\n",
       "    <tr>\n",
       "      <th>2</th>\n",
       "      <td>3</td>\n",
       "      <td>Jean Borotra</td>\n",
       "      <td>1898-08-13</td>\n",
       "      <td>Biarritz</td>\n",
       "      <td>Pyrénées-Atlantiques</td>\n",
       "      <td>FRA</td>\n",
       "      <td>France</td>\n",
       "      <td>183.0</td>\n",
       "      <td>76.0</td>\n",
       "      <td>1994-07-17</td>\n",
       "    </tr>\n",
       "    <tr>\n",
       "      <th>3</th>\n",
       "      <td>4</td>\n",
       "      <td>Jacques Brugnon</td>\n",
       "      <td>1895-05-11</td>\n",
       "      <td>Paris VIIIe</td>\n",
       "      <td>Paris</td>\n",
       "      <td>FRA</td>\n",
       "      <td>France</td>\n",
       "      <td>168.0</td>\n",
       "      <td>64.0</td>\n",
       "      <td>1978-03-20</td>\n",
       "    </tr>\n",
       "    <tr>\n",
       "      <th>4</th>\n",
       "      <td>5</td>\n",
       "      <td>Albert Canet</td>\n",
       "      <td>1878-04-17</td>\n",
       "      <td>Wandsworth</td>\n",
       "      <td>England</td>\n",
       "      <td>GBR</td>\n",
       "      <td>France</td>\n",
       "      <td>NaN</td>\n",
       "      <td>NaN</td>\n",
       "      <td>1930-07-25</td>\n",
       "    </tr>\n",
       "  </tbody>\n",
       "</table>\n",
       "</div>"
      ],
      "text/plain": [
       "   athlete_id                   name   born_date    born_city  \\\n",
       "0           1  Jean-François Blanchy  1886-12-12     Bordeaux   \n",
       "1           2         Arnaud Boetsch  1969-04-01       Meulan   \n",
       "2           3           Jean Borotra  1898-08-13     Biarritz   \n",
       "3           4        Jacques Brugnon  1895-05-11  Paris VIIIe   \n",
       "4           5           Albert Canet  1878-04-17   Wandsworth   \n",
       "\n",
       "            born_region born_country     NOC  height_cm  weight_kg   died_date  \n",
       "0               Gironde          FRA  France        NaN        NaN  1960-10-02  \n",
       "1              Yvelines          FRA  France      183.0       76.0         NaN  \n",
       "2  Pyrénées-Atlantiques          FRA  France      183.0       76.0  1994-07-17  \n",
       "3                 Paris          FRA  France      168.0       64.0  1978-03-20  \n",
       "4               England          GBR  France        NaN        NaN  1930-07-25  "
      ]
     },
     "execution_count": 5,
     "metadata": {},
     "output_type": "execute_result"
    }
   ],
   "source": [
    "bios = pd.read_csv('./data/bios.csv')\n",
    "bios.head()"
   ]
  },
  {
   "cell_type": "code",
   "execution_count": 6,
   "metadata": {},
   "outputs": [
    {
     "data": {
      "application/vnd.microsoft.datawrangler.viewer.v0+json": {
       "columns": [
        {
         "name": "index",
         "rawType": "int64",
         "type": "integer"
        },
        {
         "name": "NOC",
         "rawType": "object",
         "type": "string"
        },
        {
         "name": "region",
         "rawType": "object",
         "type": "string"
        },
        {
         "name": "notes",
         "rawType": "object",
         "type": "unknown"
        }
       ],
       "conversionMethod": "pd.DataFrame",
       "ref": "4cc3b62c-e111-44d9-9216-cec6d7052f64",
       "rows": [
        [
         "0",
         "AFG",
         "Afghanistan",
         null
        ],
        [
         "1",
         "AHO",
         "Curacao",
         "Netherlands Antilles"
        ],
        [
         "2",
         "ALB",
         "Albania",
         null
        ],
        [
         "3",
         "ALG",
         "Algeria",
         null
        ],
        [
         "4",
         "AND",
         "Andorra",
         null
        ]
       ],
       "shape": {
        "columns": 3,
        "rows": 5
       }
      },
      "text/html": [
       "<div>\n",
       "<style scoped>\n",
       "    .dataframe tbody tr th:only-of-type {\n",
       "        vertical-align: middle;\n",
       "    }\n",
       "\n",
       "    .dataframe tbody tr th {\n",
       "        vertical-align: top;\n",
       "    }\n",
       "\n",
       "    .dataframe thead th {\n",
       "        text-align: right;\n",
       "    }\n",
       "</style>\n",
       "<table border=\"1\" class=\"dataframe\">\n",
       "  <thead>\n",
       "    <tr style=\"text-align: right;\">\n",
       "      <th></th>\n",
       "      <th>NOC</th>\n",
       "      <th>region</th>\n",
       "      <th>notes</th>\n",
       "    </tr>\n",
       "  </thead>\n",
       "  <tbody>\n",
       "    <tr>\n",
       "      <th>0</th>\n",
       "      <td>AFG</td>\n",
       "      <td>Afghanistan</td>\n",
       "      <td>NaN</td>\n",
       "    </tr>\n",
       "    <tr>\n",
       "      <th>1</th>\n",
       "      <td>AHO</td>\n",
       "      <td>Curacao</td>\n",
       "      <td>Netherlands Antilles</td>\n",
       "    </tr>\n",
       "    <tr>\n",
       "      <th>2</th>\n",
       "      <td>ALB</td>\n",
       "      <td>Albania</td>\n",
       "      <td>NaN</td>\n",
       "    </tr>\n",
       "    <tr>\n",
       "      <th>3</th>\n",
       "      <td>ALG</td>\n",
       "      <td>Algeria</td>\n",
       "      <td>NaN</td>\n",
       "    </tr>\n",
       "    <tr>\n",
       "      <th>4</th>\n",
       "      <td>AND</td>\n",
       "      <td>Andorra</td>\n",
       "      <td>NaN</td>\n",
       "    </tr>\n",
       "  </tbody>\n",
       "</table>\n",
       "</div>"
      ],
      "text/plain": [
       "   NOC       region                 notes\n",
       "0  AFG  Afghanistan                   NaN\n",
       "1  AHO      Curacao  Netherlands Antilles\n",
       "2  ALB      Albania                   NaN\n",
       "3  ALG      Algeria                   NaN\n",
       "4  AND      Andorra                   NaN"
      ]
     },
     "execution_count": 6,
     "metadata": {},
     "output_type": "execute_result"
    }
   ],
   "source": [
    "nocs = pd.read_csv('./data/noc_regions.csv')\n",
    "nocs.head()"
   ]
  },
  {
   "cell_type": "markdown",
   "metadata": {},
   "source": [
    "## join dfs"
   ]
  },
  {
   "cell_type": "code",
   "execution_count": 7,
   "metadata": {},
   "outputs": [
    {
     "data": {
      "application/vnd.microsoft.datawrangler.viewer.v0+json": {
       "columns": [
        {
         "name": "index",
         "rawType": "int64",
         "type": "integer"
        },
        {
         "name": "athlete_id",
         "rawType": "int64",
         "type": "integer"
        },
        {
         "name": "name",
         "rawType": "object",
         "type": "string"
        },
        {
         "name": "born_date",
         "rawType": "object",
         "type": "string"
        },
        {
         "name": "born_city",
         "rawType": "object",
         "type": "string"
        },
        {
         "name": "born_region",
         "rawType": "object",
         "type": "string"
        },
        {
         "name": "born_country",
         "rawType": "object",
         "type": "string"
        },
        {
         "name": "NOC_bios",
         "rawType": "object",
         "type": "string"
        },
        {
         "name": "height_cm",
         "rawType": "float64",
         "type": "float"
        },
        {
         "name": "weight_kg",
         "rawType": "float64",
         "type": "float"
        },
        {
         "name": "died_date",
         "rawType": "object",
         "type": "unknown"
        },
        {
         "name": "NOC_noc",
         "rawType": "object",
         "type": "string"
        },
        {
         "name": "born_country_full",
         "rawType": "object",
         "type": "string"
        },
        {
         "name": "notes",
         "rawType": "object",
         "type": "unknown"
        }
       ],
       "conversionMethod": "pd.DataFrame",
       "ref": "c026d9c7-8ce9-4863-a73a-c9fb2ae34950",
       "rows": [
        [
         "0",
         "1",
         "Jean-François Blanchy",
         "1886-12-12",
         "Bordeaux",
         "Gironde",
         "FRA",
         "France",
         null,
         null,
         "1960-10-02",
         "FRA",
         "France",
         null
        ],
        [
         "1",
         "2",
         "Arnaud Boetsch",
         "1969-04-01",
         "Meulan",
         "Yvelines",
         "FRA",
         "France",
         "183.0",
         "76.0",
         null,
         "FRA",
         "France",
         null
        ],
        [
         "2",
         "3",
         "Jean Borotra",
         "1898-08-13",
         "Biarritz",
         "Pyrénées-Atlantiques",
         "FRA",
         "France",
         "183.0",
         "76.0",
         "1994-07-17",
         "FRA",
         "France",
         null
        ],
        [
         "3",
         "4",
         "Jacques Brugnon",
         "1895-05-11",
         "Paris VIIIe",
         "Paris",
         "FRA",
         "France",
         "168.0",
         "64.0",
         "1978-03-20",
         "FRA",
         "France",
         null
        ],
        [
         "4",
         "5",
         "Albert Canet",
         "1878-04-17",
         "Wandsworth",
         "England",
         "GBR",
         "France",
         null,
         null,
         "1930-07-25",
         "GBR",
         "UK",
         null
        ]
       ],
       "shape": {
        "columns": 13,
        "rows": 5
       }
      },
      "text/html": [
       "<div>\n",
       "<style scoped>\n",
       "    .dataframe tbody tr th:only-of-type {\n",
       "        vertical-align: middle;\n",
       "    }\n",
       "\n",
       "    .dataframe tbody tr th {\n",
       "        vertical-align: top;\n",
       "    }\n",
       "\n",
       "    .dataframe thead th {\n",
       "        text-align: right;\n",
       "    }\n",
       "</style>\n",
       "<table border=\"1\" class=\"dataframe\">\n",
       "  <thead>\n",
       "    <tr style=\"text-align: right;\">\n",
       "      <th></th>\n",
       "      <th>athlete_id</th>\n",
       "      <th>name</th>\n",
       "      <th>born_date</th>\n",
       "      <th>born_city</th>\n",
       "      <th>born_region</th>\n",
       "      <th>born_country</th>\n",
       "      <th>NOC_bios</th>\n",
       "      <th>height_cm</th>\n",
       "      <th>weight_kg</th>\n",
       "      <th>died_date</th>\n",
       "      <th>NOC_noc</th>\n",
       "      <th>born_country_full</th>\n",
       "      <th>notes</th>\n",
       "    </tr>\n",
       "  </thead>\n",
       "  <tbody>\n",
       "    <tr>\n",
       "      <th>0</th>\n",
       "      <td>1</td>\n",
       "      <td>Jean-François Blanchy</td>\n",
       "      <td>1886-12-12</td>\n",
       "      <td>Bordeaux</td>\n",
       "      <td>Gironde</td>\n",
       "      <td>FRA</td>\n",
       "      <td>France</td>\n",
       "      <td>NaN</td>\n",
       "      <td>NaN</td>\n",
       "      <td>1960-10-02</td>\n",
       "      <td>FRA</td>\n",
       "      <td>France</td>\n",
       "      <td>NaN</td>\n",
       "    </tr>\n",
       "    <tr>\n",
       "      <th>1</th>\n",
       "      <td>2</td>\n",
       "      <td>Arnaud Boetsch</td>\n",
       "      <td>1969-04-01</td>\n",
       "      <td>Meulan</td>\n",
       "      <td>Yvelines</td>\n",
       "      <td>FRA</td>\n",
       "      <td>France</td>\n",
       "      <td>183.0</td>\n",
       "      <td>76.0</td>\n",
       "      <td>NaN</td>\n",
       "      <td>FRA</td>\n",
       "      <td>France</td>\n",
       "      <td>NaN</td>\n",
       "    </tr>\n",
       "    <tr>\n",
       "      <th>2</th>\n",
       "      <td>3</td>\n",
       "      <td>Jean Borotra</td>\n",
       "      <td>1898-08-13</td>\n",
       "      <td>Biarritz</td>\n",
       "      <td>Pyrénées-Atlantiques</td>\n",
       "      <td>FRA</td>\n",
       "      <td>France</td>\n",
       "      <td>183.0</td>\n",
       "      <td>76.0</td>\n",
       "      <td>1994-07-17</td>\n",
       "      <td>FRA</td>\n",
       "      <td>France</td>\n",
       "      <td>NaN</td>\n",
       "    </tr>\n",
       "    <tr>\n",
       "      <th>3</th>\n",
       "      <td>4</td>\n",
       "      <td>Jacques Brugnon</td>\n",
       "      <td>1895-05-11</td>\n",
       "      <td>Paris VIIIe</td>\n",
       "      <td>Paris</td>\n",
       "      <td>FRA</td>\n",
       "      <td>France</td>\n",
       "      <td>168.0</td>\n",
       "      <td>64.0</td>\n",
       "      <td>1978-03-20</td>\n",
       "      <td>FRA</td>\n",
       "      <td>France</td>\n",
       "      <td>NaN</td>\n",
       "    </tr>\n",
       "    <tr>\n",
       "      <th>4</th>\n",
       "      <td>5</td>\n",
       "      <td>Albert Canet</td>\n",
       "      <td>1878-04-17</td>\n",
       "      <td>Wandsworth</td>\n",
       "      <td>England</td>\n",
       "      <td>GBR</td>\n",
       "      <td>France</td>\n",
       "      <td>NaN</td>\n",
       "      <td>NaN</td>\n",
       "      <td>1930-07-25</td>\n",
       "      <td>GBR</td>\n",
       "      <td>UK</td>\n",
       "      <td>NaN</td>\n",
       "    </tr>\n",
       "  </tbody>\n",
       "</table>\n",
       "</div>"
      ],
      "text/plain": [
       "   athlete_id                   name   born_date    born_city  \\\n",
       "0           1  Jean-François Blanchy  1886-12-12     Bordeaux   \n",
       "1           2         Arnaud Boetsch  1969-04-01       Meulan   \n",
       "2           3           Jean Borotra  1898-08-13     Biarritz   \n",
       "3           4        Jacques Brugnon  1895-05-11  Paris VIIIe   \n",
       "4           5           Albert Canet  1878-04-17   Wandsworth   \n",
       "\n",
       "            born_region born_country NOC_bios  height_cm  weight_kg  \\\n",
       "0               Gironde          FRA   France        NaN        NaN   \n",
       "1              Yvelines          FRA   France      183.0       76.0   \n",
       "2  Pyrénées-Atlantiques          FRA   France      183.0       76.0   \n",
       "3                 Paris          FRA   France      168.0       64.0   \n",
       "4               England          GBR   France        NaN        NaN   \n",
       "\n",
       "    died_date NOC_noc born_country_full notes  \n",
       "0  1960-10-02     FRA            France   NaN  \n",
       "1         NaN     FRA            France   NaN  \n",
       "2  1994-07-17     FRA            France   NaN  \n",
       "3  1978-03-20     FRA            France   NaN  \n",
       "4  1930-07-25     GBR                UK   NaN  "
      ]
     },
     "execution_count": 7,
     "metadata": {},
     "output_type": "execute_result"
    }
   ],
   "source": [
    "bios_merge = pd.merge(\n",
    "    bios, \n",
    "    nocs, \n",
    "    left_on='born_country', \n",
    "    right_on='NOC', \n",
    "    how='left',\n",
    "    suffixes=['_bios', '_noc']\n",
    ")\n",
    "bios_merge.rename(columns={'region': 'born_country_full'}, inplace=True)\n",
    "bios_merge.head()"
   ]
  },
  {
   "cell_type": "markdown",
   "metadata": {},
   "source": [
    "## concatenate dfs"
   ]
  },
  {
   "cell_type": "code",
   "execution_count": 8,
   "metadata": {},
   "outputs": [
    {
     "data": {
      "application/vnd.microsoft.datawrangler.viewer.v0+json": {
       "columns": [
        {
         "name": "index",
         "rawType": "int64",
         "type": "integer"
        },
        {
         "name": "athlete_id",
         "rawType": "int64",
         "type": "integer"
        },
        {
         "name": "name",
         "rawType": "object",
         "type": "string"
        },
        {
         "name": "born_date",
         "rawType": "object",
         "type": "string"
        },
        {
         "name": "born_city",
         "rawType": "object",
         "type": "string"
        },
        {
         "name": "born_region",
         "rawType": "object",
         "type": "string"
        },
        {
         "name": "born_country",
         "rawType": "object",
         "type": "string"
        },
        {
         "name": "NOC",
         "rawType": "object",
         "type": "string"
        },
        {
         "name": "height_cm",
         "rawType": "float64",
         "type": "float"
        },
        {
         "name": "weight_kg",
         "rawType": "float64",
         "type": "float"
        },
        {
         "name": "died_date",
         "rawType": "object",
         "type": "unknown"
        }
       ],
       "conversionMethod": "pd.DataFrame",
       "ref": "02ca95a5-0b0f-4c73-911e-2c14f2a8d498",
       "rows": [
        [
         "54",
         "55",
         "Monique Javer",
         "1967-07-22",
         "Burlingame",
         "California",
         "USA",
         "Great Britain",
         "177.0",
         "64.0",
         null
        ],
        [
         "960",
         "964",
         "Xóchitl Escobedo",
         "1968-09-17",
         "West Covina",
         "California",
         "USA",
         "Mexico",
         "170.0",
         "60.0",
         null
        ],
        [
         "961",
         "965",
         "Angélica Gavaldón",
         "1973-10-03",
         "El Centro",
         "California",
         "USA",
         "Mexico",
         "160.0",
         "54.0",
         null
        ],
        [
         "1231",
         "1238",
         "Bert Schneider",
         "1897-07-01",
         "Cleveland",
         "Ohio",
         "USA",
         "Canada",
         null,
         null,
         "1986-02-20"
        ],
        [
         "1345",
         "1352",
         "Laura Berg",
         "1975-01-06",
         "Santa Fe Springs",
         "California",
         "USA",
         "United States",
         "168.0",
         "61.0",
         null
        ]
       ],
       "shape": {
        "columns": 10,
        "rows": 5
       }
      },
      "text/html": [
       "<div>\n",
       "<style scoped>\n",
       "    .dataframe tbody tr th:only-of-type {\n",
       "        vertical-align: middle;\n",
       "    }\n",
       "\n",
       "    .dataframe tbody tr th {\n",
       "        vertical-align: top;\n",
       "    }\n",
       "\n",
       "    .dataframe thead th {\n",
       "        text-align: right;\n",
       "    }\n",
       "</style>\n",
       "<table border=\"1\" class=\"dataframe\">\n",
       "  <thead>\n",
       "    <tr style=\"text-align: right;\">\n",
       "      <th></th>\n",
       "      <th>athlete_id</th>\n",
       "      <th>name</th>\n",
       "      <th>born_date</th>\n",
       "      <th>born_city</th>\n",
       "      <th>born_region</th>\n",
       "      <th>born_country</th>\n",
       "      <th>NOC</th>\n",
       "      <th>height_cm</th>\n",
       "      <th>weight_kg</th>\n",
       "      <th>died_date</th>\n",
       "    </tr>\n",
       "  </thead>\n",
       "  <tbody>\n",
       "    <tr>\n",
       "      <th>54</th>\n",
       "      <td>55</td>\n",
       "      <td>Monique Javer</td>\n",
       "      <td>1967-07-22</td>\n",
       "      <td>Burlingame</td>\n",
       "      <td>California</td>\n",
       "      <td>USA</td>\n",
       "      <td>Great Britain</td>\n",
       "      <td>177.0</td>\n",
       "      <td>64.0</td>\n",
       "      <td>NaN</td>\n",
       "    </tr>\n",
       "    <tr>\n",
       "      <th>960</th>\n",
       "      <td>964</td>\n",
       "      <td>Xóchitl Escobedo</td>\n",
       "      <td>1968-09-17</td>\n",
       "      <td>West Covina</td>\n",
       "      <td>California</td>\n",
       "      <td>USA</td>\n",
       "      <td>Mexico</td>\n",
       "      <td>170.0</td>\n",
       "      <td>60.0</td>\n",
       "      <td>NaN</td>\n",
       "    </tr>\n",
       "    <tr>\n",
       "      <th>961</th>\n",
       "      <td>965</td>\n",
       "      <td>Angélica Gavaldón</td>\n",
       "      <td>1973-10-03</td>\n",
       "      <td>El Centro</td>\n",
       "      <td>California</td>\n",
       "      <td>USA</td>\n",
       "      <td>Mexico</td>\n",
       "      <td>160.0</td>\n",
       "      <td>54.0</td>\n",
       "      <td>NaN</td>\n",
       "    </tr>\n",
       "    <tr>\n",
       "      <th>1231</th>\n",
       "      <td>1238</td>\n",
       "      <td>Bert Schneider</td>\n",
       "      <td>1897-07-01</td>\n",
       "      <td>Cleveland</td>\n",
       "      <td>Ohio</td>\n",
       "      <td>USA</td>\n",
       "      <td>Canada</td>\n",
       "      <td>NaN</td>\n",
       "      <td>NaN</td>\n",
       "      <td>1986-02-20</td>\n",
       "    </tr>\n",
       "    <tr>\n",
       "      <th>1345</th>\n",
       "      <td>1352</td>\n",
       "      <td>Laura Berg</td>\n",
       "      <td>1975-01-06</td>\n",
       "      <td>Santa Fe Springs</td>\n",
       "      <td>California</td>\n",
       "      <td>USA</td>\n",
       "      <td>United States</td>\n",
       "      <td>168.0</td>\n",
       "      <td>61.0</td>\n",
       "      <td>NaN</td>\n",
       "    </tr>\n",
       "  </tbody>\n",
       "</table>\n",
       "</div>"
      ],
      "text/plain": [
       "      athlete_id               name   born_date         born_city born_region  \\\n",
       "54            55      Monique Javer  1967-07-22        Burlingame  California   \n",
       "960          964   Xóchitl Escobedo  1968-09-17       West Covina  California   \n",
       "961          965  Angélica Gavaldón  1973-10-03         El Centro  California   \n",
       "1231        1238     Bert Schneider  1897-07-01         Cleveland        Ohio   \n",
       "1345        1352         Laura Berg  1975-01-06  Santa Fe Springs  California   \n",
       "\n",
       "     born_country            NOC  height_cm  weight_kg   died_date  \n",
       "54            USA  Great Britain      177.0       64.0         NaN  \n",
       "960           USA         Mexico      170.0       60.0         NaN  \n",
       "961           USA         Mexico      160.0       54.0         NaN  \n",
       "1231          USA         Canada        NaN        NaN  1986-02-20  \n",
       "1345          USA  United States      168.0       61.0         NaN  "
      ]
     },
     "metadata": {},
     "output_type": "display_data"
    },
    {
     "data": {
      "application/vnd.microsoft.datawrangler.viewer.v0+json": {
       "columns": [
        {
         "name": "index",
         "rawType": "int64",
         "type": "integer"
        },
        {
         "name": "athlete_id",
         "rawType": "int64",
         "type": "integer"
        },
        {
         "name": "name",
         "rawType": "object",
         "type": "string"
        },
        {
         "name": "born_date",
         "rawType": "object",
         "type": "string"
        },
        {
         "name": "born_city",
         "rawType": "object",
         "type": "string"
        },
        {
         "name": "born_region",
         "rawType": "object",
         "type": "string"
        },
        {
         "name": "born_country",
         "rawType": "object",
         "type": "string"
        },
        {
         "name": "NOC",
         "rawType": "object",
         "type": "string"
        },
        {
         "name": "height_cm",
         "rawType": "float64",
         "type": "float"
        },
        {
         "name": "weight_kg",
         "rawType": "float64",
         "type": "float"
        },
        {
         "name": "died_date",
         "rawType": "object",
         "type": "unknown"
        }
       ],
       "conversionMethod": "pd.DataFrame",
       "ref": "759d797d-0c18-4776-9cd1-de14e8c84603",
       "rows": [
        [
         "4",
         "5",
         "Albert Canet",
         "1878-04-17",
         "Wandsworth",
         "England",
         "GBR",
         "France",
         null,
         null,
         "1930-07-25"
        ],
        [
         "37",
         "38",
         "Helen Aitchison",
         "1881-12-06",
         "Sunderland",
         "England",
         "GBR",
         "Great Britain",
         null,
         null,
         "1947-05-26"
        ],
        [
         "38",
         "39",
         "Geraldine Beamish",
         "1883-06-23",
         "Forest Gate",
         "England",
         "GBR",
         "Great Britain",
         null,
         null,
         "1972-05-10"
        ],
        [
         "39",
         "40",
         "Dora Boothby",
         "1881-08-02",
         "Finchley",
         "England",
         "GBR",
         "Great Britain",
         null,
         null,
         "1970-02-22"
        ],
        [
         "40",
         "41",
         "Julie Bradbury",
         "1967-02-12",
         "Oxford",
         "England",
         "GBR",
         "Great Britain",
         "175.0",
         "64.0",
         null
        ]
       ],
       "shape": {
        "columns": 10,
        "rows": 5
       }
      },
      "text/html": [
       "<div>\n",
       "<style scoped>\n",
       "    .dataframe tbody tr th:only-of-type {\n",
       "        vertical-align: middle;\n",
       "    }\n",
       "\n",
       "    .dataframe tbody tr th {\n",
       "        vertical-align: top;\n",
       "    }\n",
       "\n",
       "    .dataframe thead th {\n",
       "        text-align: right;\n",
       "    }\n",
       "</style>\n",
       "<table border=\"1\" class=\"dataframe\">\n",
       "  <thead>\n",
       "    <tr style=\"text-align: right;\">\n",
       "      <th></th>\n",
       "      <th>athlete_id</th>\n",
       "      <th>name</th>\n",
       "      <th>born_date</th>\n",
       "      <th>born_city</th>\n",
       "      <th>born_region</th>\n",
       "      <th>born_country</th>\n",
       "      <th>NOC</th>\n",
       "      <th>height_cm</th>\n",
       "      <th>weight_kg</th>\n",
       "      <th>died_date</th>\n",
       "    </tr>\n",
       "  </thead>\n",
       "  <tbody>\n",
       "    <tr>\n",
       "      <th>4</th>\n",
       "      <td>5</td>\n",
       "      <td>Albert Canet</td>\n",
       "      <td>1878-04-17</td>\n",
       "      <td>Wandsworth</td>\n",
       "      <td>England</td>\n",
       "      <td>GBR</td>\n",
       "      <td>France</td>\n",
       "      <td>NaN</td>\n",
       "      <td>NaN</td>\n",
       "      <td>1930-07-25</td>\n",
       "    </tr>\n",
       "    <tr>\n",
       "      <th>37</th>\n",
       "      <td>38</td>\n",
       "      <td>Helen Aitchison</td>\n",
       "      <td>1881-12-06</td>\n",
       "      <td>Sunderland</td>\n",
       "      <td>England</td>\n",
       "      <td>GBR</td>\n",
       "      <td>Great Britain</td>\n",
       "      <td>NaN</td>\n",
       "      <td>NaN</td>\n",
       "      <td>1947-05-26</td>\n",
       "    </tr>\n",
       "    <tr>\n",
       "      <th>38</th>\n",
       "      <td>39</td>\n",
       "      <td>Geraldine Beamish</td>\n",
       "      <td>1883-06-23</td>\n",
       "      <td>Forest Gate</td>\n",
       "      <td>England</td>\n",
       "      <td>GBR</td>\n",
       "      <td>Great Britain</td>\n",
       "      <td>NaN</td>\n",
       "      <td>NaN</td>\n",
       "      <td>1972-05-10</td>\n",
       "    </tr>\n",
       "    <tr>\n",
       "      <th>39</th>\n",
       "      <td>40</td>\n",
       "      <td>Dora Boothby</td>\n",
       "      <td>1881-08-02</td>\n",
       "      <td>Finchley</td>\n",
       "      <td>England</td>\n",
       "      <td>GBR</td>\n",
       "      <td>Great Britain</td>\n",
       "      <td>NaN</td>\n",
       "      <td>NaN</td>\n",
       "      <td>1970-02-22</td>\n",
       "    </tr>\n",
       "    <tr>\n",
       "      <th>40</th>\n",
       "      <td>41</td>\n",
       "      <td>Julie Bradbury</td>\n",
       "      <td>1967-02-12</td>\n",
       "      <td>Oxford</td>\n",
       "      <td>England</td>\n",
       "      <td>GBR</td>\n",
       "      <td>Great Britain</td>\n",
       "      <td>175.0</td>\n",
       "      <td>64.0</td>\n",
       "      <td>NaN</td>\n",
       "    </tr>\n",
       "  </tbody>\n",
       "</table>\n",
       "</div>"
      ],
      "text/plain": [
       "    athlete_id               name   born_date    born_city born_region  \\\n",
       "4            5       Albert Canet  1878-04-17   Wandsworth     England   \n",
       "37          38    Helen Aitchison  1881-12-06   Sunderland     England   \n",
       "38          39  Geraldine Beamish  1883-06-23  Forest Gate     England   \n",
       "39          40       Dora Boothby  1881-08-02     Finchley     England   \n",
       "40          41     Julie Bradbury  1967-02-12       Oxford     England   \n",
       "\n",
       "   born_country            NOC  height_cm  weight_kg   died_date  \n",
       "4           GBR         France        NaN        NaN  1930-07-25  \n",
       "37          GBR  Great Britain        NaN        NaN  1947-05-26  \n",
       "38          GBR  Great Britain        NaN        NaN  1972-05-10  \n",
       "39          GBR  Great Britain        NaN        NaN  1970-02-22  \n",
       "40          GBR  Great Britain      175.0       64.0         NaN  "
      ]
     },
     "metadata": {},
     "output_type": "display_data"
    }
   ],
   "source": [
    "usa = bios[bios['born_country']=='USA'].copy()\n",
    "gbr = bios[bios['born_country']=='GBR'].copy()\n",
    "\n",
    "display(usa.head())\n",
    "display(gbr.head())"
   ]
  },
  {
   "cell_type": "code",
   "execution_count": 9,
   "metadata": {},
   "outputs": [],
   "source": [
    "usa_gbr = pd.concat([usa, gbr])\n"
   ]
  },
  {
   "cell_type": "code",
   "execution_count": 10,
   "metadata": {},
   "outputs": [
    {
     "data": {
      "application/vnd.microsoft.datawrangler.viewer.v0+json": {
       "columns": [
        {
         "name": "index",
         "rawType": "int64",
         "type": "integer"
        },
        {
         "name": "athlete_id",
         "rawType": "int64",
         "type": "integer"
        },
        {
         "name": "name",
         "rawType": "object",
         "type": "string"
        },
        {
         "name": "born_date",
         "rawType": "object",
         "type": "string"
        },
        {
         "name": "born_city",
         "rawType": "object",
         "type": "string"
        },
        {
         "name": "born_region",
         "rawType": "object",
         "type": "string"
        },
        {
         "name": "born_country",
         "rawType": "object",
         "type": "string"
        },
        {
         "name": "NOC",
         "rawType": "object",
         "type": "string"
        },
        {
         "name": "height_cm",
         "rawType": "float64",
         "type": "float"
        },
        {
         "name": "weight_kg",
         "rawType": "float64",
         "type": "float"
        },
        {
         "name": "died_date",
         "rawType": "object",
         "type": "unknown"
        }
       ],
       "conversionMethod": "pd.DataFrame",
       "ref": "75215201-12fe-4d5b-8a25-ba02b2071c0d",
       "rows": [
        [
         "143737",
         "147392",
         "Scott Kazmir",
         "1984-01-24",
         "Houston",
         "Texas",
         "USA",
         "United States",
         "183.0",
         null,
         null
        ],
        [
         "68569",
         "69086",
         "George Gray",
         "1887-12-25",
         "Chesterton",
         "England",
         "GBR",
         "Great Britain",
         null,
         null,
         "1970-12-11"
        ],
        [
         "95853",
         "96627",
         "Chris Puckett",
         "1970-06-11",
         "Wheat Ridge",
         "Colorado",
         "USA",
         "United States",
         null,
         null,
         null
        ],
        [
         "126425",
         "128779",
         "Kelly Gunther",
         "1987-08-14",
         "Oberlin",
         "Ohio",
         "USA",
         "United States",
         "165.0",
         "65.0",
         null
        ],
        [
         "99913",
         "100714",
         "Derian Hatcher",
         "1972-06-04",
         "Sterling Heights",
         "Michigan",
         "USA",
         "United States",
         "195.0",
         "107.0",
         null
        ],
        [
         "126692",
         "129070",
         "Amie Thompson",
         "1996-01-31",
         "Hendon",
         "England",
         "GBR",
         "Australia",
         "165.0",
         "58.0",
         null
        ],
        [
         "140298",
         "143804",
         "Aaron Geramipoor",
         "1992-09-11",
         "Stockport",
         "England",
         "GBR",
         "Islamic Republic of Iran",
         "214.0",
         null,
         null
        ],
        [
         "56579",
         "56982",
         "Phil Grippaldi",
         "1946-09-27",
         "Newark",
         "New Jersey",
         "USA",
         "United States",
         "168.0",
         "77.0",
         null
        ],
        [
         "107199",
         "108322",
         "Sean Spencer",
         "1975-05-29",
         "Seattle",
         "Washington",
         "USA",
         "Greece",
         "165.0",
         "82.0",
         null
        ],
        [
         "46652",
         "47001",
         "Annabelle Cripps",
         "1968-02-16",
         "Madison",
         "Wisconsin",
         "USA",
         "Great Britain",
         "180.0",
         "66.0",
         null
        ]
       ],
       "shape": {
        "columns": 10,
        "rows": 10
       }
      },
      "text/html": [
       "<div>\n",
       "<style scoped>\n",
       "    .dataframe tbody tr th:only-of-type {\n",
       "        vertical-align: middle;\n",
       "    }\n",
       "\n",
       "    .dataframe tbody tr th {\n",
       "        vertical-align: top;\n",
       "    }\n",
       "\n",
       "    .dataframe thead th {\n",
       "        text-align: right;\n",
       "    }\n",
       "</style>\n",
       "<table border=\"1\" class=\"dataframe\">\n",
       "  <thead>\n",
       "    <tr style=\"text-align: right;\">\n",
       "      <th></th>\n",
       "      <th>athlete_id</th>\n",
       "      <th>name</th>\n",
       "      <th>born_date</th>\n",
       "      <th>born_city</th>\n",
       "      <th>born_region</th>\n",
       "      <th>born_country</th>\n",
       "      <th>NOC</th>\n",
       "      <th>height_cm</th>\n",
       "      <th>weight_kg</th>\n",
       "      <th>died_date</th>\n",
       "    </tr>\n",
       "  </thead>\n",
       "  <tbody>\n",
       "    <tr>\n",
       "      <th>143737</th>\n",
       "      <td>147392</td>\n",
       "      <td>Scott Kazmir</td>\n",
       "      <td>1984-01-24</td>\n",
       "      <td>Houston</td>\n",
       "      <td>Texas</td>\n",
       "      <td>USA</td>\n",
       "      <td>United States</td>\n",
       "      <td>183.0</td>\n",
       "      <td>NaN</td>\n",
       "      <td>NaN</td>\n",
       "    </tr>\n",
       "    <tr>\n",
       "      <th>68569</th>\n",
       "      <td>69086</td>\n",
       "      <td>George Gray</td>\n",
       "      <td>1887-12-25</td>\n",
       "      <td>Chesterton</td>\n",
       "      <td>England</td>\n",
       "      <td>GBR</td>\n",
       "      <td>Great Britain</td>\n",
       "      <td>NaN</td>\n",
       "      <td>NaN</td>\n",
       "      <td>1970-12-11</td>\n",
       "    </tr>\n",
       "    <tr>\n",
       "      <th>95853</th>\n",
       "      <td>96627</td>\n",
       "      <td>Chris Puckett</td>\n",
       "      <td>1970-06-11</td>\n",
       "      <td>Wheat Ridge</td>\n",
       "      <td>Colorado</td>\n",
       "      <td>USA</td>\n",
       "      <td>United States</td>\n",
       "      <td>NaN</td>\n",
       "      <td>NaN</td>\n",
       "      <td>NaN</td>\n",
       "    </tr>\n",
       "    <tr>\n",
       "      <th>126425</th>\n",
       "      <td>128779</td>\n",
       "      <td>Kelly Gunther</td>\n",
       "      <td>1987-08-14</td>\n",
       "      <td>Oberlin</td>\n",
       "      <td>Ohio</td>\n",
       "      <td>USA</td>\n",
       "      <td>United States</td>\n",
       "      <td>165.0</td>\n",
       "      <td>65.0</td>\n",
       "      <td>NaN</td>\n",
       "    </tr>\n",
       "    <tr>\n",
       "      <th>99913</th>\n",
       "      <td>100714</td>\n",
       "      <td>Derian Hatcher</td>\n",
       "      <td>1972-06-04</td>\n",
       "      <td>Sterling Heights</td>\n",
       "      <td>Michigan</td>\n",
       "      <td>USA</td>\n",
       "      <td>United States</td>\n",
       "      <td>195.0</td>\n",
       "      <td>107.0</td>\n",
       "      <td>NaN</td>\n",
       "    </tr>\n",
       "    <tr>\n",
       "      <th>126692</th>\n",
       "      <td>129070</td>\n",
       "      <td>Amie Thompson</td>\n",
       "      <td>1996-01-31</td>\n",
       "      <td>Hendon</td>\n",
       "      <td>England</td>\n",
       "      <td>GBR</td>\n",
       "      <td>Australia</td>\n",
       "      <td>165.0</td>\n",
       "      <td>58.0</td>\n",
       "      <td>NaN</td>\n",
       "    </tr>\n",
       "    <tr>\n",
       "      <th>140298</th>\n",
       "      <td>143804</td>\n",
       "      <td>Aaron Geramipoor</td>\n",
       "      <td>1992-09-11</td>\n",
       "      <td>Stockport</td>\n",
       "      <td>England</td>\n",
       "      <td>GBR</td>\n",
       "      <td>Islamic Republic of Iran</td>\n",
       "      <td>214.0</td>\n",
       "      <td>NaN</td>\n",
       "      <td>NaN</td>\n",
       "    </tr>\n",
       "    <tr>\n",
       "      <th>56579</th>\n",
       "      <td>56982</td>\n",
       "      <td>Phil Grippaldi</td>\n",
       "      <td>1946-09-27</td>\n",
       "      <td>Newark</td>\n",
       "      <td>New Jersey</td>\n",
       "      <td>USA</td>\n",
       "      <td>United States</td>\n",
       "      <td>168.0</td>\n",
       "      <td>77.0</td>\n",
       "      <td>NaN</td>\n",
       "    </tr>\n",
       "    <tr>\n",
       "      <th>107199</th>\n",
       "      <td>108322</td>\n",
       "      <td>Sean Spencer</td>\n",
       "      <td>1975-05-29</td>\n",
       "      <td>Seattle</td>\n",
       "      <td>Washington</td>\n",
       "      <td>USA</td>\n",
       "      <td>Greece</td>\n",
       "      <td>165.0</td>\n",
       "      <td>82.0</td>\n",
       "      <td>NaN</td>\n",
       "    </tr>\n",
       "    <tr>\n",
       "      <th>46652</th>\n",
       "      <td>47001</td>\n",
       "      <td>Annabelle Cripps</td>\n",
       "      <td>1968-02-16</td>\n",
       "      <td>Madison</td>\n",
       "      <td>Wisconsin</td>\n",
       "      <td>USA</td>\n",
       "      <td>Great Britain</td>\n",
       "      <td>180.0</td>\n",
       "      <td>66.0</td>\n",
       "      <td>NaN</td>\n",
       "    </tr>\n",
       "  </tbody>\n",
       "</table>\n",
       "</div>"
      ],
      "text/plain": [
       "        athlete_id              name   born_date         born_city  \\\n",
       "143737      147392      Scott Kazmir  1984-01-24           Houston   \n",
       "68569        69086       George Gray  1887-12-25        Chesterton   \n",
       "95853        96627     Chris Puckett  1970-06-11       Wheat Ridge   \n",
       "126425      128779     Kelly Gunther  1987-08-14           Oberlin   \n",
       "99913       100714    Derian Hatcher  1972-06-04  Sterling Heights   \n",
       "126692      129070     Amie Thompson  1996-01-31            Hendon   \n",
       "140298      143804  Aaron Geramipoor  1992-09-11         Stockport   \n",
       "56579        56982    Phil Grippaldi  1946-09-27            Newark   \n",
       "107199      108322      Sean Spencer  1975-05-29           Seattle   \n",
       "46652        47001  Annabelle Cripps  1968-02-16           Madison   \n",
       "\n",
       "       born_region born_country                       NOC  height_cm  \\\n",
       "143737       Texas          USA             United States      183.0   \n",
       "68569      England          GBR             Great Britain        NaN   \n",
       "95853     Colorado          USA             United States        NaN   \n",
       "126425        Ohio          USA             United States      165.0   \n",
       "99913     Michigan          USA             United States      195.0   \n",
       "126692     England          GBR                 Australia      165.0   \n",
       "140298     England          GBR  Islamic Republic of Iran      214.0   \n",
       "56579   New Jersey          USA             United States      168.0   \n",
       "107199  Washington          USA                    Greece      165.0   \n",
       "46652    Wisconsin          USA             Great Britain      180.0   \n",
       "\n",
       "        weight_kg   died_date  \n",
       "143737        NaN         NaN  \n",
       "68569         NaN  1970-12-11  \n",
       "95853         NaN         NaN  \n",
       "126425       65.0         NaN  \n",
       "99913       107.0         NaN  \n",
       "126692       58.0         NaN  \n",
       "140298        NaN         NaN  \n",
       "56579        77.0         NaN  \n",
       "107199       82.0         NaN  \n",
       "46652        66.0         NaN  "
      ]
     },
     "execution_count": 10,
     "metadata": {},
     "output_type": "execute_result"
    }
   ],
   "source": [
    "usa_gbr.sample(10)"
   ]
  },
  {
   "cell_type": "markdown",
   "metadata": {},
   "source": [
    "### check is the negated df is empty"
   ]
  },
  {
   "cell_type": "code",
   "execution_count": 11,
   "metadata": {},
   "outputs": [],
   "source": [
    "check = usa_gbr[ ~ usa_gbr['born_country'].isin(['USA', 'GBR'])]\n",
    "assert len(check) == 0\n",
    "# 1st element of Series -> scalar\n",
    "assert usa_gbr.head(1)['born_country'].iloc[0] == 'USA'\n",
    "# 1st element of Series -> scalar\n",
    "assert usa_gbr.head(1)['born_country'].iat[0] == 'USA'\n",
    "# 1st element of Series -> scalar\n",
    "assert usa_gbr.tail(1)['born_country'].iloc[0] == 'GBR'\n",
    "# 1st element of Series -> scalar\n",
    "assert usa_gbr.tail(1)['born_country'].iat[0] == 'GBR'"
   ]
  },
  {
   "cell_type": "code",
   "execution_count": 12,
   "metadata": {},
   "outputs": [
    {
     "data": {
      "application/vnd.microsoft.datawrangler.viewer.v0+json": {
       "columns": [
        {
         "name": "index",
         "rawType": "int64",
         "type": "integer"
        },
        {
         "name": "year",
         "rawType": "float64",
         "type": "float"
        },
        {
         "name": "type",
         "rawType": "object",
         "type": "string"
        },
        {
         "name": "discipline",
         "rawType": "object",
         "type": "string"
        },
        {
         "name": "event",
         "rawType": "object",
         "type": "string"
        },
        {
         "name": "as",
         "rawType": "object",
         "type": "string"
        },
        {
         "name": "athlete_id",
         "rawType": "int64",
         "type": "integer"
        },
        {
         "name": "noc",
         "rawType": "object",
         "type": "string"
        },
        {
         "name": "team",
         "rawType": "object",
         "type": "unknown"
        },
        {
         "name": "place",
         "rawType": "float64",
         "type": "float"
        },
        {
         "name": "tied",
         "rawType": "bool",
         "type": "boolean"
        },
        {
         "name": "medal",
         "rawType": "object",
         "type": "unknown"
        }
       ],
       "conversionMethod": "pd.DataFrame",
       "ref": "782a94f3-a749-46bd-bce0-e6638181808e",
       "rows": [
        [
         "0",
         "1912.0",
         "Summer",
         "Tennis",
         "Singles, Men (Olympic)",
         "Jean-François Blanchy",
         "1",
         "FRA",
         null,
         "17.0",
         "True",
         null
        ],
        [
         "1",
         "1912.0",
         "Summer",
         "Tennis",
         "Doubles, Men (Olympic)",
         "Jean-François Blanchy",
         "1",
         "FRA",
         "Jean Montariol",
         null,
         "False",
         null
        ],
        [
         "2",
         "1920.0",
         "Summer",
         "Tennis",
         "Singles, Men (Olympic)",
         "Jean-François Blanchy",
         "1",
         "FRA",
         null,
         "32.0",
         "True",
         null
        ]
       ],
       "shape": {
        "columns": 11,
        "rows": 3
       }
      },
      "text/html": [
       "<div>\n",
       "<style scoped>\n",
       "    .dataframe tbody tr th:only-of-type {\n",
       "        vertical-align: middle;\n",
       "    }\n",
       "\n",
       "    .dataframe tbody tr th {\n",
       "        vertical-align: top;\n",
       "    }\n",
       "\n",
       "    .dataframe thead th {\n",
       "        text-align: right;\n",
       "    }\n",
       "</style>\n",
       "<table border=\"1\" class=\"dataframe\">\n",
       "  <thead>\n",
       "    <tr style=\"text-align: right;\">\n",
       "      <th></th>\n",
       "      <th>year</th>\n",
       "      <th>type</th>\n",
       "      <th>discipline</th>\n",
       "      <th>event</th>\n",
       "      <th>as</th>\n",
       "      <th>athlete_id</th>\n",
       "      <th>noc</th>\n",
       "      <th>team</th>\n",
       "      <th>place</th>\n",
       "      <th>tied</th>\n",
       "      <th>medal</th>\n",
       "    </tr>\n",
       "  </thead>\n",
       "  <tbody>\n",
       "    <tr>\n",
       "      <th>0</th>\n",
       "      <td>1912.0</td>\n",
       "      <td>Summer</td>\n",
       "      <td>Tennis</td>\n",
       "      <td>Singles, Men (Olympic)</td>\n",
       "      <td>Jean-François Blanchy</td>\n",
       "      <td>1</td>\n",
       "      <td>FRA</td>\n",
       "      <td>None</td>\n",
       "      <td>17.0</td>\n",
       "      <td>True</td>\n",
       "      <td>None</td>\n",
       "    </tr>\n",
       "    <tr>\n",
       "      <th>1</th>\n",
       "      <td>1912.0</td>\n",
       "      <td>Summer</td>\n",
       "      <td>Tennis</td>\n",
       "      <td>Doubles, Men (Olympic)</td>\n",
       "      <td>Jean-François Blanchy</td>\n",
       "      <td>1</td>\n",
       "      <td>FRA</td>\n",
       "      <td>Jean Montariol</td>\n",
       "      <td>NaN</td>\n",
       "      <td>False</td>\n",
       "      <td>None</td>\n",
       "    </tr>\n",
       "    <tr>\n",
       "      <th>2</th>\n",
       "      <td>1920.0</td>\n",
       "      <td>Summer</td>\n",
       "      <td>Tennis</td>\n",
       "      <td>Singles, Men (Olympic)</td>\n",
       "      <td>Jean-François Blanchy</td>\n",
       "      <td>1</td>\n",
       "      <td>FRA</td>\n",
       "      <td>None</td>\n",
       "      <td>32.0</td>\n",
       "      <td>True</td>\n",
       "      <td>None</td>\n",
       "    </tr>\n",
       "  </tbody>\n",
       "</table>\n",
       "</div>"
      ],
      "text/plain": [
       "     year    type discipline                   event                     as  \\\n",
       "0  1912.0  Summer     Tennis  Singles, Men (Olympic)  Jean-François Blanchy   \n",
       "1  1912.0  Summer     Tennis  Doubles, Men (Olympic)  Jean-François Blanchy   \n",
       "2  1920.0  Summer     Tennis  Singles, Men (Olympic)  Jean-François Blanchy   \n",
       "\n",
       "   athlete_id  noc            team  place   tied medal  \n",
       "0           1  FRA            None   17.0   True  None  \n",
       "1           1  FRA  Jean Montariol    NaN  False  None  \n",
       "2           1  FRA            None   32.0   True  None  "
      ]
     },
     "metadata": {},
     "output_type": "display_data"
    },
    {
     "data": {
      "application/vnd.microsoft.datawrangler.viewer.v0+json": {
       "columns": [
        {
         "name": "index",
         "rawType": "int64",
         "type": "integer"
        },
        {
         "name": "athlete_id",
         "rawType": "int64",
         "type": "integer"
        },
        {
         "name": "name",
         "rawType": "object",
         "type": "string"
        },
        {
         "name": "born_date",
         "rawType": "object",
         "type": "string"
        },
        {
         "name": "born_city",
         "rawType": "object",
         "type": "string"
        },
        {
         "name": "born_region",
         "rawType": "object",
         "type": "string"
        },
        {
         "name": "born_country",
         "rawType": "object",
         "type": "string"
        },
        {
         "name": "NOC",
         "rawType": "object",
         "type": "string"
        },
        {
         "name": "height_cm",
         "rawType": "float64",
         "type": "float"
        },
        {
         "name": "weight_kg",
         "rawType": "float64",
         "type": "float"
        },
        {
         "name": "died_date",
         "rawType": "object",
         "type": "unknown"
        }
       ],
       "conversionMethod": "pd.DataFrame",
       "ref": "795fac69-0333-4297-9bac-76aa64ab93d1",
       "rows": [
        [
         "0",
         "1",
         "Jean-François Blanchy",
         "1886-12-12",
         "Bordeaux",
         "Gironde",
         "FRA",
         "France",
         null,
         null,
         "1960-10-02"
        ],
        [
         "1",
         "2",
         "Arnaud Boetsch",
         "1969-04-01",
         "Meulan",
         "Yvelines",
         "FRA",
         "France",
         "183.0",
         "76.0",
         null
        ],
        [
         "2",
         "3",
         "Jean Borotra",
         "1898-08-13",
         "Biarritz",
         "Pyrénées-Atlantiques",
         "FRA",
         "France",
         "183.0",
         "76.0",
         "1994-07-17"
        ]
       ],
       "shape": {
        "columns": 10,
        "rows": 3
       }
      },
      "text/html": [
       "<div>\n",
       "<style scoped>\n",
       "    .dataframe tbody tr th:only-of-type {\n",
       "        vertical-align: middle;\n",
       "    }\n",
       "\n",
       "    .dataframe tbody tr th {\n",
       "        vertical-align: top;\n",
       "    }\n",
       "\n",
       "    .dataframe thead th {\n",
       "        text-align: right;\n",
       "    }\n",
       "</style>\n",
       "<table border=\"1\" class=\"dataframe\">\n",
       "  <thead>\n",
       "    <tr style=\"text-align: right;\">\n",
       "      <th></th>\n",
       "      <th>athlete_id</th>\n",
       "      <th>name</th>\n",
       "      <th>born_date</th>\n",
       "      <th>born_city</th>\n",
       "      <th>born_region</th>\n",
       "      <th>born_country</th>\n",
       "      <th>NOC</th>\n",
       "      <th>height_cm</th>\n",
       "      <th>weight_kg</th>\n",
       "      <th>died_date</th>\n",
       "    </tr>\n",
       "  </thead>\n",
       "  <tbody>\n",
       "    <tr>\n",
       "      <th>0</th>\n",
       "      <td>1</td>\n",
       "      <td>Jean-François Blanchy</td>\n",
       "      <td>1886-12-12</td>\n",
       "      <td>Bordeaux</td>\n",
       "      <td>Gironde</td>\n",
       "      <td>FRA</td>\n",
       "      <td>France</td>\n",
       "      <td>NaN</td>\n",
       "      <td>NaN</td>\n",
       "      <td>1960-10-02</td>\n",
       "    </tr>\n",
       "    <tr>\n",
       "      <th>1</th>\n",
       "      <td>2</td>\n",
       "      <td>Arnaud Boetsch</td>\n",
       "      <td>1969-04-01</td>\n",
       "      <td>Meulan</td>\n",
       "      <td>Yvelines</td>\n",
       "      <td>FRA</td>\n",
       "      <td>France</td>\n",
       "      <td>183.0</td>\n",
       "      <td>76.0</td>\n",
       "      <td>NaN</td>\n",
       "    </tr>\n",
       "    <tr>\n",
       "      <th>2</th>\n",
       "      <td>3</td>\n",
       "      <td>Jean Borotra</td>\n",
       "      <td>1898-08-13</td>\n",
       "      <td>Biarritz</td>\n",
       "      <td>Pyrénées-Atlantiques</td>\n",
       "      <td>FRA</td>\n",
       "      <td>France</td>\n",
       "      <td>183.0</td>\n",
       "      <td>76.0</td>\n",
       "      <td>1994-07-17</td>\n",
       "    </tr>\n",
       "  </tbody>\n",
       "</table>\n",
       "</div>"
      ],
      "text/plain": [
       "   athlete_id                   name   born_date born_city  \\\n",
       "0           1  Jean-François Blanchy  1886-12-12  Bordeaux   \n",
       "1           2         Arnaud Boetsch  1969-04-01    Meulan   \n",
       "2           3           Jean Borotra  1898-08-13  Biarritz   \n",
       "\n",
       "            born_region born_country     NOC  height_cm  weight_kg   died_date  \n",
       "0               Gironde          FRA  France        NaN        NaN  1960-10-02  \n",
       "1              Yvelines          FRA  France      183.0       76.0         NaN  \n",
       "2  Pyrénées-Atlantiques          FRA  France      183.0       76.0  1994-07-17  "
      ]
     },
     "metadata": {},
     "output_type": "display_data"
    }
   ],
   "source": [
    "results = pd.read_parquet('./data/results.parquet')\n",
    "display(results.head(3))\n",
    "display(bios.head(3))"
   ]
  },
  {
   "cell_type": "code",
   "execution_count": 13,
   "metadata": {},
   "outputs": [
    {
     "data": {
      "application/vnd.microsoft.datawrangler.viewer.v0+json": {
       "columns": [
        {
         "name": "index",
         "rawType": "int64",
         "type": "integer"
        },
        {
         "name": "year",
         "rawType": "float64",
         "type": "float"
        },
        {
         "name": "type",
         "rawType": "object",
         "type": "string"
        },
        {
         "name": "discipline",
         "rawType": "object",
         "type": "string"
        },
        {
         "name": "event",
         "rawType": "object",
         "type": "string"
        },
        {
         "name": "as",
         "rawType": "object",
         "type": "string"
        },
        {
         "name": "athlete_id",
         "rawType": "int64",
         "type": "integer"
        },
        {
         "name": "noc",
         "rawType": "object",
         "type": "string"
        },
        {
         "name": "team",
         "rawType": "object",
         "type": "unknown"
        },
        {
         "name": "place",
         "rawType": "float64",
         "type": "float"
        },
        {
         "name": "tied",
         "rawType": "bool",
         "type": "boolean"
        },
        {
         "name": "medal",
         "rawType": "object",
         "type": "unknown"
        },
        {
         "name": "name",
         "rawType": "object",
         "type": "string"
        },
        {
         "name": "born_date",
         "rawType": "object",
         "type": "string"
        },
        {
         "name": "born_city",
         "rawType": "object",
         "type": "string"
        },
        {
         "name": "born_region",
         "rawType": "object",
         "type": "string"
        },
        {
         "name": "born_country",
         "rawType": "object",
         "type": "string"
        },
        {
         "name": "NOC",
         "rawType": "object",
         "type": "string"
        },
        {
         "name": "height_cm",
         "rawType": "float64",
         "type": "float"
        },
        {
         "name": "weight_kg",
         "rawType": "float64",
         "type": "float"
        },
        {
         "name": "died_date",
         "rawType": "object",
         "type": "string"
        }
       ],
       "conversionMethod": "pd.DataFrame",
       "ref": "8bc75ccd-407c-4500-ba4a-d3b0640be384",
       "rows": [
        [
         "0",
         "1912.0",
         "Summer",
         "Tennis",
         "Singles, Men (Olympic)",
         "Jean-François Blanchy",
         "1",
         "FRA",
         null,
         "17.0",
         "True",
         null,
         "Jean-François Blanchy",
         "1886-12-12",
         "Bordeaux",
         "Gironde",
         "FRA",
         "France",
         null,
         null,
         "1960-10-02"
        ],
        [
         "1",
         "1912.0",
         "Summer",
         "Tennis",
         "Doubles, Men (Olympic)",
         "Jean-François Blanchy",
         "1",
         "FRA",
         "Jean Montariol",
         null,
         "False",
         null,
         "Jean-François Blanchy",
         "1886-12-12",
         "Bordeaux",
         "Gironde",
         "FRA",
         "France",
         null,
         null,
         "1960-10-02"
        ],
        [
         "2",
         "1920.0",
         "Summer",
         "Tennis",
         "Singles, Men (Olympic)",
         "Jean-François Blanchy",
         "1",
         "FRA",
         null,
         "32.0",
         "True",
         null,
         "Jean-François Blanchy",
         "1886-12-12",
         "Bordeaux",
         "Gironde",
         "FRA",
         "France",
         null,
         null,
         "1960-10-02"
        ]
       ],
       "shape": {
        "columns": 20,
        "rows": 3
       }
      },
      "text/html": [
       "<div>\n",
       "<style scoped>\n",
       "    .dataframe tbody tr th:only-of-type {\n",
       "        vertical-align: middle;\n",
       "    }\n",
       "\n",
       "    .dataframe tbody tr th {\n",
       "        vertical-align: top;\n",
       "    }\n",
       "\n",
       "    .dataframe thead th {\n",
       "        text-align: right;\n",
       "    }\n",
       "</style>\n",
       "<table border=\"1\" class=\"dataframe\">\n",
       "  <thead>\n",
       "    <tr style=\"text-align: right;\">\n",
       "      <th></th>\n",
       "      <th>year</th>\n",
       "      <th>type</th>\n",
       "      <th>discipline</th>\n",
       "      <th>event</th>\n",
       "      <th>as</th>\n",
       "      <th>athlete_id</th>\n",
       "      <th>noc</th>\n",
       "      <th>team</th>\n",
       "      <th>place</th>\n",
       "      <th>tied</th>\n",
       "      <th>medal</th>\n",
       "      <th>name</th>\n",
       "      <th>born_date</th>\n",
       "      <th>born_city</th>\n",
       "      <th>born_region</th>\n",
       "      <th>born_country</th>\n",
       "      <th>NOC</th>\n",
       "      <th>height_cm</th>\n",
       "      <th>weight_kg</th>\n",
       "      <th>died_date</th>\n",
       "    </tr>\n",
       "  </thead>\n",
       "  <tbody>\n",
       "    <tr>\n",
       "      <th>0</th>\n",
       "      <td>1912.0</td>\n",
       "      <td>Summer</td>\n",
       "      <td>Tennis</td>\n",
       "      <td>Singles, Men (Olympic)</td>\n",
       "      <td>Jean-François Blanchy</td>\n",
       "      <td>1</td>\n",
       "      <td>FRA</td>\n",
       "      <td>None</td>\n",
       "      <td>17.0</td>\n",
       "      <td>True</td>\n",
       "      <td>None</td>\n",
       "      <td>Jean-François Blanchy</td>\n",
       "      <td>1886-12-12</td>\n",
       "      <td>Bordeaux</td>\n",
       "      <td>Gironde</td>\n",
       "      <td>FRA</td>\n",
       "      <td>France</td>\n",
       "      <td>NaN</td>\n",
       "      <td>NaN</td>\n",
       "      <td>1960-10-02</td>\n",
       "    </tr>\n",
       "    <tr>\n",
       "      <th>1</th>\n",
       "      <td>1912.0</td>\n",
       "      <td>Summer</td>\n",
       "      <td>Tennis</td>\n",
       "      <td>Doubles, Men (Olympic)</td>\n",
       "      <td>Jean-François Blanchy</td>\n",
       "      <td>1</td>\n",
       "      <td>FRA</td>\n",
       "      <td>Jean Montariol</td>\n",
       "      <td>NaN</td>\n",
       "      <td>False</td>\n",
       "      <td>None</td>\n",
       "      <td>Jean-François Blanchy</td>\n",
       "      <td>1886-12-12</td>\n",
       "      <td>Bordeaux</td>\n",
       "      <td>Gironde</td>\n",
       "      <td>FRA</td>\n",
       "      <td>France</td>\n",
       "      <td>NaN</td>\n",
       "      <td>NaN</td>\n",
       "      <td>1960-10-02</td>\n",
       "    </tr>\n",
       "    <tr>\n",
       "      <th>2</th>\n",
       "      <td>1920.0</td>\n",
       "      <td>Summer</td>\n",
       "      <td>Tennis</td>\n",
       "      <td>Singles, Men (Olympic)</td>\n",
       "      <td>Jean-François Blanchy</td>\n",
       "      <td>1</td>\n",
       "      <td>FRA</td>\n",
       "      <td>None</td>\n",
       "      <td>32.0</td>\n",
       "      <td>True</td>\n",
       "      <td>None</td>\n",
       "      <td>Jean-François Blanchy</td>\n",
       "      <td>1886-12-12</td>\n",
       "      <td>Bordeaux</td>\n",
       "      <td>Gironde</td>\n",
       "      <td>FRA</td>\n",
       "      <td>France</td>\n",
       "      <td>NaN</td>\n",
       "      <td>NaN</td>\n",
       "      <td>1960-10-02</td>\n",
       "    </tr>\n",
       "  </tbody>\n",
       "</table>\n",
       "</div>"
      ],
      "text/plain": [
       "     year    type discipline                   event                     as  \\\n",
       "0  1912.0  Summer     Tennis  Singles, Men (Olympic)  Jean-François Blanchy   \n",
       "1  1912.0  Summer     Tennis  Doubles, Men (Olympic)  Jean-François Blanchy   \n",
       "2  1920.0  Summer     Tennis  Singles, Men (Olympic)  Jean-François Blanchy   \n",
       "\n",
       "   athlete_id  noc            team  place   tied medal                   name  \\\n",
       "0           1  FRA            None   17.0   True  None  Jean-François Blanchy   \n",
       "1           1  FRA  Jean Montariol    NaN  False  None  Jean-François Blanchy   \n",
       "2           1  FRA            None   32.0   True  None  Jean-François Blanchy   \n",
       "\n",
       "    born_date born_city born_region born_country     NOC  height_cm  \\\n",
       "0  1886-12-12  Bordeaux     Gironde          FRA  France        NaN   \n",
       "1  1886-12-12  Bordeaux     Gironde          FRA  France        NaN   \n",
       "2  1886-12-12  Bordeaux     Gironde          FRA  France        NaN   \n",
       "\n",
       "   weight_kg   died_date  \n",
       "0        NaN  1960-10-02  \n",
       "1        NaN  1960-10-02  \n",
       "2        NaN  1960-10-02  "
      ]
     },
     "execution_count": 13,
     "metadata": {},
     "output_type": "execute_result"
    }
   ],
   "source": [
    "combined_df = pd.merge(results, bios, on='athlete_id', how='left')\n",
    "combined_df.head(3)"
   ]
  }
 ],
 "metadata": {
  "kernelspec": {
   "display_name": ".venv",
   "language": "python",
   "name": "python3"
  },
  "language_info": {
   "codemirror_mode": {
    "name": "ipython",
    "version": 3
   },
   "file_extension": ".py",
   "mimetype": "text/x-python",
   "name": "python",
   "nbconvert_exporter": "python",
   "pygments_lexer": "ipython3",
   "version": "3.12.4"
  }
 },
 "nbformat": 4,
 "nbformat_minor": 2
}
