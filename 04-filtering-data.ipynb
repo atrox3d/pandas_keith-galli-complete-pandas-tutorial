{
 "cells": [
  {
   "cell_type": "code",
   "execution_count": 61,
   "metadata": {},
   "outputs": [],
   "source": [
    "import pandas as pd\n",
    "import numpy as np"
   ]
  },
  {
   "cell_type": "markdown",
   "metadata": {},
   "source": [
    "# Filtering data"
   ]
  },
  {
   "cell_type": "code",
   "execution_count": 62,
   "metadata": {},
   "outputs": [
    {
     "data": {
      "application/vnd.microsoft.datawrangler.viewer.v0+json": {
       "columns": [
        {
         "name": "index",
         "rawType": "int64",
         "type": "integer"
        },
        {
         "name": "athlete_id",
         "rawType": "int64",
         "type": "integer"
        },
        {
         "name": "name",
         "rawType": "object",
         "type": "string"
        },
        {
         "name": "born_date",
         "rawType": "object",
         "type": "string"
        },
        {
         "name": "born_city",
         "rawType": "object",
         "type": "string"
        },
        {
         "name": "born_region",
         "rawType": "object",
         "type": "string"
        },
        {
         "name": "born_country",
         "rawType": "object",
         "type": "string"
        },
        {
         "name": "NOC",
         "rawType": "object",
         "type": "string"
        },
        {
         "name": "height_cm",
         "rawType": "float64",
         "type": "float"
        },
        {
         "name": "weight_kg",
         "rawType": "float64",
         "type": "float"
        },
        {
         "name": "died_date",
         "rawType": "object",
         "type": "unknown"
        }
       ],
       "conversionMethod": "pd.DataFrame",
       "ref": "52bd16a7-9c4f-4a69-8242-68db0d01060d",
       "rows": [
        [
         "0",
         "1",
         "Jean-François Blanchy",
         "1886-12-12",
         "Bordeaux",
         "Gironde",
         "FRA",
         "France",
         null,
         null,
         "1960-10-02"
        ],
        [
         "1",
         "2",
         "Arnaud Boetsch",
         "1969-04-01",
         "Meulan",
         "Yvelines",
         "FRA",
         "France",
         "183.0",
         "76.0",
         null
        ],
        [
         "2",
         "3",
         "Jean Borotra",
         "1898-08-13",
         "Biarritz",
         "Pyrénées-Atlantiques",
         "FRA",
         "France",
         "183.0",
         "76.0",
         "1994-07-17"
        ],
        [
         "3",
         "4",
         "Jacques Brugnon",
         "1895-05-11",
         "Paris VIIIe",
         "Paris",
         "FRA",
         "France",
         "168.0",
         "64.0",
         "1978-03-20"
        ],
        [
         "4",
         "5",
         "Albert Canet",
         "1878-04-17",
         "Wandsworth",
         "England",
         "GBR",
         "France",
         null,
         null,
         "1930-07-25"
        ]
       ],
       "shape": {
        "columns": 10,
        "rows": 5
       }
      },
      "text/html": [
       "<div>\n",
       "<style scoped>\n",
       "    .dataframe tbody tr th:only-of-type {\n",
       "        vertical-align: middle;\n",
       "    }\n",
       "\n",
       "    .dataframe tbody tr th {\n",
       "        vertical-align: top;\n",
       "    }\n",
       "\n",
       "    .dataframe thead th {\n",
       "        text-align: right;\n",
       "    }\n",
       "</style>\n",
       "<table border=\"1\" class=\"dataframe\">\n",
       "  <thead>\n",
       "    <tr style=\"text-align: right;\">\n",
       "      <th></th>\n",
       "      <th>athlete_id</th>\n",
       "      <th>name</th>\n",
       "      <th>born_date</th>\n",
       "      <th>born_city</th>\n",
       "      <th>born_region</th>\n",
       "      <th>born_country</th>\n",
       "      <th>NOC</th>\n",
       "      <th>height_cm</th>\n",
       "      <th>weight_kg</th>\n",
       "      <th>died_date</th>\n",
       "    </tr>\n",
       "  </thead>\n",
       "  <tbody>\n",
       "    <tr>\n",
       "      <th>0</th>\n",
       "      <td>1</td>\n",
       "      <td>Jean-François Blanchy</td>\n",
       "      <td>1886-12-12</td>\n",
       "      <td>Bordeaux</td>\n",
       "      <td>Gironde</td>\n",
       "      <td>FRA</td>\n",
       "      <td>France</td>\n",
       "      <td>NaN</td>\n",
       "      <td>NaN</td>\n",
       "      <td>1960-10-02</td>\n",
       "    </tr>\n",
       "    <tr>\n",
       "      <th>1</th>\n",
       "      <td>2</td>\n",
       "      <td>Arnaud Boetsch</td>\n",
       "      <td>1969-04-01</td>\n",
       "      <td>Meulan</td>\n",
       "      <td>Yvelines</td>\n",
       "      <td>FRA</td>\n",
       "      <td>France</td>\n",
       "      <td>183.0</td>\n",
       "      <td>76.0</td>\n",
       "      <td>NaN</td>\n",
       "    </tr>\n",
       "    <tr>\n",
       "      <th>2</th>\n",
       "      <td>3</td>\n",
       "      <td>Jean Borotra</td>\n",
       "      <td>1898-08-13</td>\n",
       "      <td>Biarritz</td>\n",
       "      <td>Pyrénées-Atlantiques</td>\n",
       "      <td>FRA</td>\n",
       "      <td>France</td>\n",
       "      <td>183.0</td>\n",
       "      <td>76.0</td>\n",
       "      <td>1994-07-17</td>\n",
       "    </tr>\n",
       "    <tr>\n",
       "      <th>3</th>\n",
       "      <td>4</td>\n",
       "      <td>Jacques Brugnon</td>\n",
       "      <td>1895-05-11</td>\n",
       "      <td>Paris VIIIe</td>\n",
       "      <td>Paris</td>\n",
       "      <td>FRA</td>\n",
       "      <td>France</td>\n",
       "      <td>168.0</td>\n",
       "      <td>64.0</td>\n",
       "      <td>1978-03-20</td>\n",
       "    </tr>\n",
       "    <tr>\n",
       "      <th>4</th>\n",
       "      <td>5</td>\n",
       "      <td>Albert Canet</td>\n",
       "      <td>1878-04-17</td>\n",
       "      <td>Wandsworth</td>\n",
       "      <td>England</td>\n",
       "      <td>GBR</td>\n",
       "      <td>France</td>\n",
       "      <td>NaN</td>\n",
       "      <td>NaN</td>\n",
       "      <td>1930-07-25</td>\n",
       "    </tr>\n",
       "  </tbody>\n",
       "</table>\n",
       "</div>"
      ],
      "text/plain": [
       "   athlete_id                   name   born_date    born_city  \\\n",
       "0           1  Jean-François Blanchy  1886-12-12     Bordeaux   \n",
       "1           2         Arnaud Boetsch  1969-04-01       Meulan   \n",
       "2           3           Jean Borotra  1898-08-13     Biarritz   \n",
       "3           4        Jacques Brugnon  1895-05-11  Paris VIIIe   \n",
       "4           5           Albert Canet  1878-04-17   Wandsworth   \n",
       "\n",
       "            born_region born_country     NOC  height_cm  weight_kg   died_date  \n",
       "0               Gironde          FRA  France        NaN        NaN  1960-10-02  \n",
       "1              Yvelines          FRA  France      183.0       76.0         NaN  \n",
       "2  Pyrénées-Atlantiques          FRA  France      183.0       76.0  1994-07-17  \n",
       "3                 Paris          FRA  France      168.0       64.0  1978-03-20  \n",
       "4               England          GBR  France        NaN        NaN  1930-07-25  "
      ]
     },
     "execution_count": 62,
     "metadata": {},
     "output_type": "execute_result"
    }
   ],
   "source": [
    "bios = pd.read_csv('./data/bios.csv')\n",
    "bios.head()"
   ]
  },
  {
   "cell_type": "markdown",
   "metadata": {},
   "source": [
    "## create panda series of boolean values for the condition"
   ]
  },
  {
   "cell_type": "code",
   "execution_count": 63,
   "metadata": {},
   "outputs": [
    {
     "data": {
      "text/plain": [
       "pandas.core.series.Series"
      ]
     },
     "metadata": {},
     "output_type": "display_data"
    },
    {
     "data": {
      "text/plain": [
       "145500"
      ]
     },
     "metadata": {},
     "output_type": "display_data"
    },
    {
     "data": {
      "text/plain": [
       "35"
      ]
     },
     "metadata": {},
     "output_type": "display_data"
    },
    {
     "data": {
      "text/plain": [
       "5089    True\n",
       "5583    True\n",
       "5673    True\n",
       "5716    True\n",
       "5781    True\n",
       "Name: height_cm, dtype: bool"
      ]
     },
     "execution_count": 63,
     "metadata": {},
     "output_type": "execute_result"
    }
   ],
   "source": [
    "is_tall = bios.height_cm > 215   # get boolean series for condition\n",
    "display(type(is_tall))\n",
    "display(len(is_tall))\n",
    "true_is_tall = is_tall[is_tall]          # filter true values from series\n",
    "display(len(true_is_tall))\n",
    "true_is_tall.head()"
   ]
  },
  {
   "cell_type": "markdown",
   "metadata": {},
   "source": [
    "## use the panda series to filter df"
   ]
  },
  {
   "cell_type": "code",
   "execution_count": 64,
   "metadata": {},
   "outputs": [
    {
     "data": {
      "application/vnd.microsoft.datawrangler.viewer.v0+json": {
       "columns": [
        {
         "name": "index",
         "rawType": "int64",
         "type": "integer"
        },
        {
         "name": "athlete_id",
         "rawType": "int64",
         "type": "integer"
        },
        {
         "name": "name",
         "rawType": "object",
         "type": "string"
        },
        {
         "name": "born_date",
         "rawType": "object",
         "type": "string"
        },
        {
         "name": "born_city",
         "rawType": "object",
         "type": "string"
        },
        {
         "name": "born_region",
         "rawType": "object",
         "type": "string"
        },
        {
         "name": "born_country",
         "rawType": "object",
         "type": "string"
        },
        {
         "name": "NOC",
         "rawType": "object",
         "type": "string"
        },
        {
         "name": "height_cm",
         "rawType": "float64",
         "type": "float"
        },
        {
         "name": "weight_kg",
         "rawType": "float64",
         "type": "float"
        },
        {
         "name": "died_date",
         "rawType": "object",
         "type": "unknown"
        }
       ],
       "conversionMethod": "pd.DataFrame",
       "ref": "aa2b1bb8-aec1-4923-a7d2-390037feecbf",
       "rows": [
        [
         "5089",
         "5108",
         "Viktor Pankrashkin",
         "1957-06-19",
         "Moskva (Moscow)",
         "Moskva",
         "RUS",
         "Soviet Union",
         "220.0",
         "112.0",
         "1993-07-24"
        ],
        [
         "5583",
         "5606",
         " Paulinho Villas Boas",
         "1963-01-26",
         "São Paulo",
         "São Paulo",
         "BRA",
         "Brazil",
         "217.0",
         "106.0",
         null
        ],
        [
         "5673",
         "5696",
         "Gunther Behnke",
         "1963-01-19",
         "Leverkusen",
         "Nordrhein-Westfalen",
         "GER",
         "Germany",
         "221.0",
         "114.0",
         null
        ],
        [
         "5716",
         "5739",
         "Uwe Blab",
         "1962-03-26",
         "München (Munich)",
         "Bayern",
         "GER",
         "Germany West Germany",
         "218.0",
         "110.0",
         null
        ],
        [
         "5781",
         "5804",
         "Tommy Burleson",
         "1952-02-24",
         "Crossnore",
         "North Carolina",
         "USA",
         "United States",
         "223.0",
         "102.0",
         null
        ]
       ],
       "shape": {
        "columns": 10,
        "rows": 5
       }
      },
      "text/html": [
       "<div>\n",
       "<style scoped>\n",
       "    .dataframe tbody tr th:only-of-type {\n",
       "        vertical-align: middle;\n",
       "    }\n",
       "\n",
       "    .dataframe tbody tr th {\n",
       "        vertical-align: top;\n",
       "    }\n",
       "\n",
       "    .dataframe thead th {\n",
       "        text-align: right;\n",
       "    }\n",
       "</style>\n",
       "<table border=\"1\" class=\"dataframe\">\n",
       "  <thead>\n",
       "    <tr style=\"text-align: right;\">\n",
       "      <th></th>\n",
       "      <th>athlete_id</th>\n",
       "      <th>name</th>\n",
       "      <th>born_date</th>\n",
       "      <th>born_city</th>\n",
       "      <th>born_region</th>\n",
       "      <th>born_country</th>\n",
       "      <th>NOC</th>\n",
       "      <th>height_cm</th>\n",
       "      <th>weight_kg</th>\n",
       "      <th>died_date</th>\n",
       "    </tr>\n",
       "  </thead>\n",
       "  <tbody>\n",
       "    <tr>\n",
       "      <th>5089</th>\n",
       "      <td>5108</td>\n",
       "      <td>Viktor Pankrashkin</td>\n",
       "      <td>1957-06-19</td>\n",
       "      <td>Moskva (Moscow)</td>\n",
       "      <td>Moskva</td>\n",
       "      <td>RUS</td>\n",
       "      <td>Soviet Union</td>\n",
       "      <td>220.0</td>\n",
       "      <td>112.0</td>\n",
       "      <td>1993-07-24</td>\n",
       "    </tr>\n",
       "    <tr>\n",
       "      <th>5583</th>\n",
       "      <td>5606</td>\n",
       "      <td>Paulinho Villas Boas</td>\n",
       "      <td>1963-01-26</td>\n",
       "      <td>São Paulo</td>\n",
       "      <td>São Paulo</td>\n",
       "      <td>BRA</td>\n",
       "      <td>Brazil</td>\n",
       "      <td>217.0</td>\n",
       "      <td>106.0</td>\n",
       "      <td>NaN</td>\n",
       "    </tr>\n",
       "    <tr>\n",
       "      <th>5673</th>\n",
       "      <td>5696</td>\n",
       "      <td>Gunther Behnke</td>\n",
       "      <td>1963-01-19</td>\n",
       "      <td>Leverkusen</td>\n",
       "      <td>Nordrhein-Westfalen</td>\n",
       "      <td>GER</td>\n",
       "      <td>Germany</td>\n",
       "      <td>221.0</td>\n",
       "      <td>114.0</td>\n",
       "      <td>NaN</td>\n",
       "    </tr>\n",
       "    <tr>\n",
       "      <th>5716</th>\n",
       "      <td>5739</td>\n",
       "      <td>Uwe Blab</td>\n",
       "      <td>1962-03-26</td>\n",
       "      <td>München (Munich)</td>\n",
       "      <td>Bayern</td>\n",
       "      <td>GER</td>\n",
       "      <td>Germany West Germany</td>\n",
       "      <td>218.0</td>\n",
       "      <td>110.0</td>\n",
       "      <td>NaN</td>\n",
       "    </tr>\n",
       "    <tr>\n",
       "      <th>5781</th>\n",
       "      <td>5804</td>\n",
       "      <td>Tommy Burleson</td>\n",
       "      <td>1952-02-24</td>\n",
       "      <td>Crossnore</td>\n",
       "      <td>North Carolina</td>\n",
       "      <td>USA</td>\n",
       "      <td>United States</td>\n",
       "      <td>223.0</td>\n",
       "      <td>102.0</td>\n",
       "      <td>NaN</td>\n",
       "    </tr>\n",
       "  </tbody>\n",
       "</table>\n",
       "</div>"
      ],
      "text/plain": [
       "      athlete_id                   name   born_date         born_city  \\\n",
       "5089        5108     Viktor Pankrashkin  1957-06-19   Moskva (Moscow)   \n",
       "5583        5606   Paulinho Villas Boas  1963-01-26         São Paulo   \n",
       "5673        5696         Gunther Behnke  1963-01-19        Leverkusen   \n",
       "5716        5739               Uwe Blab  1962-03-26  München (Munich)   \n",
       "5781        5804         Tommy Burleson  1952-02-24         Crossnore   \n",
       "\n",
       "              born_region born_country                   NOC  height_cm  \\\n",
       "5089               Moskva          RUS          Soviet Union      220.0   \n",
       "5583            São Paulo          BRA                Brazil      217.0   \n",
       "5673  Nordrhein-Westfalen          GER               Germany      221.0   \n",
       "5716               Bayern          GER  Germany West Germany      218.0   \n",
       "5781       North Carolina          USA         United States      223.0   \n",
       "\n",
       "      weight_kg   died_date  \n",
       "5089      112.0  1993-07-24  \n",
       "5583      106.0         NaN  \n",
       "5673      114.0         NaN  \n",
       "5716      110.0         NaN  \n",
       "5781      102.0         NaN  "
      ]
     },
     "metadata": {},
     "output_type": "display_data"
    },
    {
     "data": {
      "application/vnd.microsoft.datawrangler.viewer.v0+json": {
       "columns": [
        {
         "name": "index",
         "rawType": "int64",
         "type": "integer"
        },
        {
         "name": "athlete_id",
         "rawType": "int64",
         "type": "integer"
        },
        {
         "name": "name",
         "rawType": "object",
         "type": "string"
        },
        {
         "name": "born_date",
         "rawType": "object",
         "type": "string"
        },
        {
         "name": "born_city",
         "rawType": "object",
         "type": "string"
        },
        {
         "name": "born_region",
         "rawType": "object",
         "type": "string"
        },
        {
         "name": "born_country",
         "rawType": "object",
         "type": "string"
        },
        {
         "name": "NOC",
         "rawType": "object",
         "type": "string"
        },
        {
         "name": "height_cm",
         "rawType": "float64",
         "type": "float"
        },
        {
         "name": "weight_kg",
         "rawType": "float64",
         "type": "float"
        },
        {
         "name": "died_date",
         "rawType": "object",
         "type": "unknown"
        }
       ],
       "conversionMethod": "pd.DataFrame",
       "ref": "c757e9a5-91ae-4f41-87d8-978f8ccc0ffe",
       "rows": [
        [
         "5089",
         "5108",
         "Viktor Pankrashkin",
         "1957-06-19",
         "Moskva (Moscow)",
         "Moskva",
         "RUS",
         "Soviet Union",
         "220.0",
         "112.0",
         "1993-07-24"
        ],
        [
         "5583",
         "5606",
         " Paulinho Villas Boas",
         "1963-01-26",
         "São Paulo",
         "São Paulo",
         "BRA",
         "Brazil",
         "217.0",
         "106.0",
         null
        ],
        [
         "5673",
         "5696",
         "Gunther Behnke",
         "1963-01-19",
         "Leverkusen",
         "Nordrhein-Westfalen",
         "GER",
         "Germany",
         "221.0",
         "114.0",
         null
        ],
        [
         "5716",
         "5739",
         "Uwe Blab",
         "1962-03-26",
         "München (Munich)",
         "Bayern",
         "GER",
         "Germany West Germany",
         "218.0",
         "110.0",
         null
        ],
        [
         "5781",
         "5804",
         "Tommy Burleson",
         "1952-02-24",
         "Crossnore",
         "North Carolina",
         "USA",
         "United States",
         "223.0",
         "102.0",
         null
        ]
       ],
       "shape": {
        "columns": 10,
        "rows": 5
       }
      },
      "text/html": [
       "<div>\n",
       "<style scoped>\n",
       "    .dataframe tbody tr th:only-of-type {\n",
       "        vertical-align: middle;\n",
       "    }\n",
       "\n",
       "    .dataframe tbody tr th {\n",
       "        vertical-align: top;\n",
       "    }\n",
       "\n",
       "    .dataframe thead th {\n",
       "        text-align: right;\n",
       "    }\n",
       "</style>\n",
       "<table border=\"1\" class=\"dataframe\">\n",
       "  <thead>\n",
       "    <tr style=\"text-align: right;\">\n",
       "      <th></th>\n",
       "      <th>athlete_id</th>\n",
       "      <th>name</th>\n",
       "      <th>born_date</th>\n",
       "      <th>born_city</th>\n",
       "      <th>born_region</th>\n",
       "      <th>born_country</th>\n",
       "      <th>NOC</th>\n",
       "      <th>height_cm</th>\n",
       "      <th>weight_kg</th>\n",
       "      <th>died_date</th>\n",
       "    </tr>\n",
       "  </thead>\n",
       "  <tbody>\n",
       "    <tr>\n",
       "      <th>5089</th>\n",
       "      <td>5108</td>\n",
       "      <td>Viktor Pankrashkin</td>\n",
       "      <td>1957-06-19</td>\n",
       "      <td>Moskva (Moscow)</td>\n",
       "      <td>Moskva</td>\n",
       "      <td>RUS</td>\n",
       "      <td>Soviet Union</td>\n",
       "      <td>220.0</td>\n",
       "      <td>112.0</td>\n",
       "      <td>1993-07-24</td>\n",
       "    </tr>\n",
       "    <tr>\n",
       "      <th>5583</th>\n",
       "      <td>5606</td>\n",
       "      <td>Paulinho Villas Boas</td>\n",
       "      <td>1963-01-26</td>\n",
       "      <td>São Paulo</td>\n",
       "      <td>São Paulo</td>\n",
       "      <td>BRA</td>\n",
       "      <td>Brazil</td>\n",
       "      <td>217.0</td>\n",
       "      <td>106.0</td>\n",
       "      <td>NaN</td>\n",
       "    </tr>\n",
       "    <tr>\n",
       "      <th>5673</th>\n",
       "      <td>5696</td>\n",
       "      <td>Gunther Behnke</td>\n",
       "      <td>1963-01-19</td>\n",
       "      <td>Leverkusen</td>\n",
       "      <td>Nordrhein-Westfalen</td>\n",
       "      <td>GER</td>\n",
       "      <td>Germany</td>\n",
       "      <td>221.0</td>\n",
       "      <td>114.0</td>\n",
       "      <td>NaN</td>\n",
       "    </tr>\n",
       "    <tr>\n",
       "      <th>5716</th>\n",
       "      <td>5739</td>\n",
       "      <td>Uwe Blab</td>\n",
       "      <td>1962-03-26</td>\n",
       "      <td>München (Munich)</td>\n",
       "      <td>Bayern</td>\n",
       "      <td>GER</td>\n",
       "      <td>Germany West Germany</td>\n",
       "      <td>218.0</td>\n",
       "      <td>110.0</td>\n",
       "      <td>NaN</td>\n",
       "    </tr>\n",
       "    <tr>\n",
       "      <th>5781</th>\n",
       "      <td>5804</td>\n",
       "      <td>Tommy Burleson</td>\n",
       "      <td>1952-02-24</td>\n",
       "      <td>Crossnore</td>\n",
       "      <td>North Carolina</td>\n",
       "      <td>USA</td>\n",
       "      <td>United States</td>\n",
       "      <td>223.0</td>\n",
       "      <td>102.0</td>\n",
       "      <td>NaN</td>\n",
       "    </tr>\n",
       "  </tbody>\n",
       "</table>\n",
       "</div>"
      ],
      "text/plain": [
       "      athlete_id                   name   born_date         born_city  \\\n",
       "5089        5108     Viktor Pankrashkin  1957-06-19   Moskva (Moscow)   \n",
       "5583        5606   Paulinho Villas Boas  1963-01-26         São Paulo   \n",
       "5673        5696         Gunther Behnke  1963-01-19        Leverkusen   \n",
       "5716        5739               Uwe Blab  1962-03-26  München (Munich)   \n",
       "5781        5804         Tommy Burleson  1952-02-24         Crossnore   \n",
       "\n",
       "              born_region born_country                   NOC  height_cm  \\\n",
       "5089               Moskva          RUS          Soviet Union      220.0   \n",
       "5583            São Paulo          BRA                Brazil      217.0   \n",
       "5673  Nordrhein-Westfalen          GER               Germany      221.0   \n",
       "5716               Bayern          GER  Germany West Germany      218.0   \n",
       "5781       North Carolina          USA         United States      223.0   \n",
       "\n",
       "      weight_kg   died_date  \n",
       "5089      112.0  1993-07-24  \n",
       "5583      106.0         NaN  \n",
       "5673      114.0         NaN  \n",
       "5716      110.0         NaN  \n",
       "5781      102.0         NaN  "
      ]
     },
     "execution_count": 64,
     "metadata": {},
     "output_type": "execute_result"
    }
   ],
   "source": [
    "len(bios[is_tall])\n",
    "display(bios[is_tall].head())\n",
    "bios[bios['height_cm'] > 215].head()"
   ]
  },
  {
   "cell_type": "markdown",
   "metadata": {},
   "source": [
    "## filter df using loc"
   ]
  },
  {
   "cell_type": "code",
   "execution_count": 65,
   "metadata": {},
   "outputs": [
    {
     "data": {
      "application/vnd.microsoft.datawrangler.viewer.v0+json": {
       "columns": [
        {
         "name": "index",
         "rawType": "int64",
         "type": "integer"
        },
        {
         "name": "name",
         "rawType": "object",
         "type": "string"
        },
        {
         "name": "height_cm",
         "rawType": "float64",
         "type": "float"
        }
       ],
       "conversionMethod": "pd.DataFrame",
       "ref": "ebe3fb92-6118-4c5f-84b3-a601fed40296",
       "rows": [
        [
         "5089",
         "Viktor Pankrashkin",
         "220.0"
        ],
        [
         "5583",
         " Paulinho Villas Boas",
         "217.0"
        ],
        [
         "5673",
         "Gunther Behnke",
         "221.0"
        ],
        [
         "5716",
         "Uwe Blab",
         "218.0"
        ],
        [
         "5781",
         "Tommy Burleson",
         "223.0"
        ]
       ],
       "shape": {
        "columns": 2,
        "rows": 5
       }
      },
      "text/html": [
       "<div>\n",
       "<style scoped>\n",
       "    .dataframe tbody tr th:only-of-type {\n",
       "        vertical-align: middle;\n",
       "    }\n",
       "\n",
       "    .dataframe tbody tr th {\n",
       "        vertical-align: top;\n",
       "    }\n",
       "\n",
       "    .dataframe thead th {\n",
       "        text-align: right;\n",
       "    }\n",
       "</style>\n",
       "<table border=\"1\" class=\"dataframe\">\n",
       "  <thead>\n",
       "    <tr style=\"text-align: right;\">\n",
       "      <th></th>\n",
       "      <th>name</th>\n",
       "      <th>height_cm</th>\n",
       "    </tr>\n",
       "  </thead>\n",
       "  <tbody>\n",
       "    <tr>\n",
       "      <th>5089</th>\n",
       "      <td>Viktor Pankrashkin</td>\n",
       "      <td>220.0</td>\n",
       "    </tr>\n",
       "    <tr>\n",
       "      <th>5583</th>\n",
       "      <td>Paulinho Villas Boas</td>\n",
       "      <td>217.0</td>\n",
       "    </tr>\n",
       "    <tr>\n",
       "      <th>5673</th>\n",
       "      <td>Gunther Behnke</td>\n",
       "      <td>221.0</td>\n",
       "    </tr>\n",
       "    <tr>\n",
       "      <th>5716</th>\n",
       "      <td>Uwe Blab</td>\n",
       "      <td>218.0</td>\n",
       "    </tr>\n",
       "    <tr>\n",
       "      <th>5781</th>\n",
       "      <td>Tommy Burleson</td>\n",
       "      <td>223.0</td>\n",
       "    </tr>\n",
       "  </tbody>\n",
       "</table>\n",
       "</div>"
      ],
      "text/plain": [
       "                       name  height_cm\n",
       "5089     Viktor Pankrashkin      220.0\n",
       "5583   Paulinho Villas Boas      217.0\n",
       "5673         Gunther Behnke      221.0\n",
       "5716               Uwe Blab      218.0\n",
       "5781         Tommy Burleson      223.0"
      ]
     },
     "execution_count": 65,
     "metadata": {},
     "output_type": "execute_result"
    }
   ],
   "source": [
    "bios.loc[\n",
    "    bios['height_cm'] > 215,    # filter\n",
    "    ['name', 'height_cm']       # output columns\n",
    "].head()"
   ]
  },
  {
   "cell_type": "markdown",
   "metadata": {},
   "source": [
    "## alternate syntax"
   ]
  },
  {
   "cell_type": "code",
   "execution_count": 66,
   "metadata": {},
   "outputs": [
    {
     "data": {
      "application/vnd.microsoft.datawrangler.viewer.v0+json": {
       "columns": [
        {
         "name": "index",
         "rawType": "int64",
         "type": "integer"
        },
        {
         "name": "name",
         "rawType": "object",
         "type": "string"
        },
        {
         "name": "height_cm",
         "rawType": "float64",
         "type": "float"
        }
       ],
       "conversionMethod": "pd.DataFrame",
       "ref": "a4b1f74a-b39e-4dd7-8068-b10f73f2f5da",
       "rows": [
        [
         "5089",
         "Viktor Pankrashkin",
         "220.0"
        ],
        [
         "5583",
         " Paulinho Villas Boas",
         "217.0"
        ],
        [
         "5673",
         "Gunther Behnke",
         "221.0"
        ],
        [
         "5716",
         "Uwe Blab",
         "218.0"
        ],
        [
         "5781",
         "Tommy Burleson",
         "223.0"
        ]
       ],
       "shape": {
        "columns": 2,
        "rows": 5
       }
      },
      "text/html": [
       "<div>\n",
       "<style scoped>\n",
       "    .dataframe tbody tr th:only-of-type {\n",
       "        vertical-align: middle;\n",
       "    }\n",
       "\n",
       "    .dataframe tbody tr th {\n",
       "        vertical-align: top;\n",
       "    }\n",
       "\n",
       "    .dataframe thead th {\n",
       "        text-align: right;\n",
       "    }\n",
       "</style>\n",
       "<table border=\"1\" class=\"dataframe\">\n",
       "  <thead>\n",
       "    <tr style=\"text-align: right;\">\n",
       "      <th></th>\n",
       "      <th>name</th>\n",
       "      <th>height_cm</th>\n",
       "    </tr>\n",
       "  </thead>\n",
       "  <tbody>\n",
       "    <tr>\n",
       "      <th>5089</th>\n",
       "      <td>Viktor Pankrashkin</td>\n",
       "      <td>220.0</td>\n",
       "    </tr>\n",
       "    <tr>\n",
       "      <th>5583</th>\n",
       "      <td>Paulinho Villas Boas</td>\n",
       "      <td>217.0</td>\n",
       "    </tr>\n",
       "    <tr>\n",
       "      <th>5673</th>\n",
       "      <td>Gunther Behnke</td>\n",
       "      <td>221.0</td>\n",
       "    </tr>\n",
       "    <tr>\n",
       "      <th>5716</th>\n",
       "      <td>Uwe Blab</td>\n",
       "      <td>218.0</td>\n",
       "    </tr>\n",
       "    <tr>\n",
       "      <th>5781</th>\n",
       "      <td>Tommy Burleson</td>\n",
       "      <td>223.0</td>\n",
       "    </tr>\n",
       "  </tbody>\n",
       "</table>\n",
       "</div>"
      ],
      "text/plain": [
       "                       name  height_cm\n",
       "5089     Viktor Pankrashkin      220.0\n",
       "5583   Paulinho Villas Boas      217.0\n",
       "5673         Gunther Behnke      221.0\n",
       "5716               Uwe Blab      218.0\n",
       "5781         Tommy Burleson      223.0"
      ]
     },
     "execution_count": 66,
     "metadata": {},
     "output_type": "execute_result"
    }
   ],
   "source": [
    "bios[bios['height_cm']>215][['name', 'height_cm']].head()"
   ]
  },
  {
   "cell_type": "markdown",
   "metadata": {},
   "source": [
    "## multiple conditions"
   ]
  },
  {
   "cell_type": "code",
   "execution_count": 67,
   "metadata": {},
   "outputs": [
    {
     "data": {
      "application/vnd.microsoft.datawrangler.viewer.v0+json": {
       "columns": [
        {
         "name": "index",
         "rawType": "int64",
         "type": "integer"
        },
        {
         "name": "name",
         "rawType": "object",
         "type": "string"
        },
        {
         "name": "height_cm",
         "rawType": "float64",
         "type": "float"
        },
        {
         "name": "born_country",
         "rawType": "object",
         "type": "string"
        }
       ],
       "conversionMethod": "pd.DataFrame",
       "ref": "b20eaea0-1fc6-4406-ba67-b05117c120e6",
       "rows": [
        [
         "5781",
         "Tommy Burleson",
         "223.0",
         "USA"
        ],
        [
         "6722",
         "Shaquille O'Neal",
         "216.0",
         "USA"
        ],
        [
         "6937",
         "David Robinson",
         "216.0",
         "USA"
        ],
        [
         "123850",
         "Tyson Chandler",
         "216.0",
         "USA"
        ]
       ],
       "shape": {
        "columns": 3,
        "rows": 4
       }
      },
      "text/html": [
       "<div>\n",
       "<style scoped>\n",
       "    .dataframe tbody tr th:only-of-type {\n",
       "        vertical-align: middle;\n",
       "    }\n",
       "\n",
       "    .dataframe tbody tr th {\n",
       "        vertical-align: top;\n",
       "    }\n",
       "\n",
       "    .dataframe thead th {\n",
       "        text-align: right;\n",
       "    }\n",
       "</style>\n",
       "<table border=\"1\" class=\"dataframe\">\n",
       "  <thead>\n",
       "    <tr style=\"text-align: right;\">\n",
       "      <th></th>\n",
       "      <th>name</th>\n",
       "      <th>height_cm</th>\n",
       "      <th>born_country</th>\n",
       "    </tr>\n",
       "  </thead>\n",
       "  <tbody>\n",
       "    <tr>\n",
       "      <th>5781</th>\n",
       "      <td>Tommy Burleson</td>\n",
       "      <td>223.0</td>\n",
       "      <td>USA</td>\n",
       "    </tr>\n",
       "    <tr>\n",
       "      <th>6722</th>\n",
       "      <td>Shaquille O'Neal</td>\n",
       "      <td>216.0</td>\n",
       "      <td>USA</td>\n",
       "    </tr>\n",
       "    <tr>\n",
       "      <th>6937</th>\n",
       "      <td>David Robinson</td>\n",
       "      <td>216.0</td>\n",
       "      <td>USA</td>\n",
       "    </tr>\n",
       "    <tr>\n",
       "      <th>123850</th>\n",
       "      <td>Tyson Chandler</td>\n",
       "      <td>216.0</td>\n",
       "      <td>USA</td>\n",
       "    </tr>\n",
       "  </tbody>\n",
       "</table>\n",
       "</div>"
      ],
      "text/plain": [
       "                    name  height_cm born_country\n",
       "5781      Tommy Burleson      223.0          USA\n",
       "6722    Shaquille O'Neal      216.0          USA\n",
       "6937      David Robinson      216.0          USA\n",
       "123850    Tyson Chandler      216.0          USA"
      ]
     },
     "execution_count": 67,
     "metadata": {},
     "output_type": "execute_result"
    }
   ],
   "source": [
    "bios[\n",
    "    (bios['height_cm']>215) & \n",
    "    (bios['born_country'].str.casefold() == 'usa'.casefold())\n",
    "][\n",
    "    ['name', 'height_cm', 'born_country']\n",
    "]"
   ]
  },
  {
   "cell_type": "markdown",
   "metadata": {},
   "source": [
    "## string accessor"
   ]
  },
  {
   "cell_type": "code",
   "execution_count": 68,
   "metadata": {},
   "outputs": [
    {
     "data": {
      "application/vnd.microsoft.datawrangler.viewer.v0+json": {
       "columns": [
        {
         "name": "index",
         "rawType": "int64",
         "type": "integer"
        },
        {
         "name": "athlete_id",
         "rawType": "int64",
         "type": "integer"
        },
        {
         "name": "name",
         "rawType": "object",
         "type": "string"
        },
        {
         "name": "born_date",
         "rawType": "object",
         "type": "string"
        },
        {
         "name": "born_city",
         "rawType": "object",
         "type": "unknown"
        },
        {
         "name": "born_region",
         "rawType": "object",
         "type": "unknown"
        },
        {
         "name": "born_country",
         "rawType": "object",
         "type": "unknown"
        },
        {
         "name": "NOC",
         "rawType": "object",
         "type": "string"
        },
        {
         "name": "height_cm",
         "rawType": "float64",
         "type": "float"
        },
        {
         "name": "weight_kg",
         "rawType": "float64",
         "type": "float"
        },
        {
         "name": "died_date",
         "rawType": "object",
         "type": "unknown"
        }
       ],
       "conversionMethod": "pd.DataFrame",
       "ref": "41e31d55-55bf-4faf-855f-1eee3d07a324",
       "rows": [
        [
         "756",
         "760",
         "Bobby Powell",
         "1881-04-02",
         "Victoria",
         "British Columbia",
         "CAN",
         "Canada",
         null,
         null,
         "1917-04-28"
        ],
        [
         "1897",
         "1907",
         "Keith Hanlon",
         "1966-09-01",
         null,
         null,
         null,
         "Ireland",
         null,
         null,
         null
        ],
        [
         "3422",
         "3434",
         "Bobby Kelsey",
         "1938-12-08",
         "London",
         "England",
         "GBR",
         "Great Britain",
         "177.0",
         "62.0",
         null
        ],
        [
         "3505",
         "3517",
         "Keith Wallace",
         "1961-03-29",
         "Preston",
         "England",
         "GBR",
         "Great Britain",
         "165.0",
         "51.0",
         "1999-12-31"
        ],
        [
         "3513",
         "3525",
         "Bobby Wells",
         "1961-05-15",
         "London",
         "England",
         "GBR",
         "Great Britain",
         "193.0",
         "91.0",
         null
        ]
       ],
       "shape": {
        "columns": 10,
        "rows": 5
       }
      },
      "text/html": [
       "<div>\n",
       "<style scoped>\n",
       "    .dataframe tbody tr th:only-of-type {\n",
       "        vertical-align: middle;\n",
       "    }\n",
       "\n",
       "    .dataframe tbody tr th {\n",
       "        vertical-align: top;\n",
       "    }\n",
       "\n",
       "    .dataframe thead th {\n",
       "        text-align: right;\n",
       "    }\n",
       "</style>\n",
       "<table border=\"1\" class=\"dataframe\">\n",
       "  <thead>\n",
       "    <tr style=\"text-align: right;\">\n",
       "      <th></th>\n",
       "      <th>athlete_id</th>\n",
       "      <th>name</th>\n",
       "      <th>born_date</th>\n",
       "      <th>born_city</th>\n",
       "      <th>born_region</th>\n",
       "      <th>born_country</th>\n",
       "      <th>NOC</th>\n",
       "      <th>height_cm</th>\n",
       "      <th>weight_kg</th>\n",
       "      <th>died_date</th>\n",
       "    </tr>\n",
       "  </thead>\n",
       "  <tbody>\n",
       "    <tr>\n",
       "      <th>756</th>\n",
       "      <td>760</td>\n",
       "      <td>Bobby Powell</td>\n",
       "      <td>1881-04-02</td>\n",
       "      <td>Victoria</td>\n",
       "      <td>British Columbia</td>\n",
       "      <td>CAN</td>\n",
       "      <td>Canada</td>\n",
       "      <td>NaN</td>\n",
       "      <td>NaN</td>\n",
       "      <td>1917-04-28</td>\n",
       "    </tr>\n",
       "    <tr>\n",
       "      <th>1897</th>\n",
       "      <td>1907</td>\n",
       "      <td>Keith Hanlon</td>\n",
       "      <td>1966-09-01</td>\n",
       "      <td>NaN</td>\n",
       "      <td>NaN</td>\n",
       "      <td>NaN</td>\n",
       "      <td>Ireland</td>\n",
       "      <td>NaN</td>\n",
       "      <td>NaN</td>\n",
       "      <td>NaN</td>\n",
       "    </tr>\n",
       "    <tr>\n",
       "      <th>3422</th>\n",
       "      <td>3434</td>\n",
       "      <td>Bobby Kelsey</td>\n",
       "      <td>1938-12-08</td>\n",
       "      <td>London</td>\n",
       "      <td>England</td>\n",
       "      <td>GBR</td>\n",
       "      <td>Great Britain</td>\n",
       "      <td>177.0</td>\n",
       "      <td>62.0</td>\n",
       "      <td>NaN</td>\n",
       "    </tr>\n",
       "    <tr>\n",
       "      <th>3505</th>\n",
       "      <td>3517</td>\n",
       "      <td>Keith Wallace</td>\n",
       "      <td>1961-03-29</td>\n",
       "      <td>Preston</td>\n",
       "      <td>England</td>\n",
       "      <td>GBR</td>\n",
       "      <td>Great Britain</td>\n",
       "      <td>165.0</td>\n",
       "      <td>51.0</td>\n",
       "      <td>1999-12-31</td>\n",
       "    </tr>\n",
       "    <tr>\n",
       "      <th>3513</th>\n",
       "      <td>3525</td>\n",
       "      <td>Bobby Wells</td>\n",
       "      <td>1961-05-15</td>\n",
       "      <td>London</td>\n",
       "      <td>England</td>\n",
       "      <td>GBR</td>\n",
       "      <td>Great Britain</td>\n",
       "      <td>193.0</td>\n",
       "      <td>91.0</td>\n",
       "      <td>NaN</td>\n",
       "    </tr>\n",
       "  </tbody>\n",
       "</table>\n",
       "</div>"
      ],
      "text/plain": [
       "      athlete_id           name   born_date born_city       born_region  \\\n",
       "756          760   Bobby Powell  1881-04-02  Victoria  British Columbia   \n",
       "1897        1907   Keith Hanlon  1966-09-01       NaN               NaN   \n",
       "3422        3434   Bobby Kelsey  1938-12-08    London           England   \n",
       "3505        3517  Keith Wallace  1961-03-29   Preston           England   \n",
       "3513        3525    Bobby Wells  1961-05-15    London           England   \n",
       "\n",
       "     born_country            NOC  height_cm  weight_kg   died_date  \n",
       "756           CAN         Canada        NaN        NaN  1917-04-28  \n",
       "1897          NaN        Ireland        NaN        NaN         NaN  \n",
       "3422          GBR  Great Britain      177.0       62.0         NaN  \n",
       "3505          GBR  Great Britain      165.0       51.0  1999-12-31  \n",
       "3513          GBR  Great Britain      193.0       91.0         NaN  "
      ]
     },
     "execution_count": 68,
     "metadata": {},
     "output_type": "execute_result"
    }
   ],
   "source": [
    "bios[bios['name'].str.contains('bob|keith', case=False)].head()"
   ]
  },
  {
   "cell_type": "markdown",
   "metadata": {},
   "source": [
    "## .isin()"
   ]
  },
  {
   "cell_type": "code",
   "execution_count": 69,
   "metadata": {},
   "outputs": [
    {
     "data": {
      "application/vnd.microsoft.datawrangler.viewer.v0+json": {
       "columns": [
        {
         "name": "index",
         "rawType": "int64",
         "type": "integer"
        },
        {
         "name": "athlete_id",
         "rawType": "int64",
         "type": "integer"
        },
        {
         "name": "name",
         "rawType": "object",
         "type": "string"
        },
        {
         "name": "born_date",
         "rawType": "object",
         "type": "string"
        },
        {
         "name": "born_city",
         "rawType": "object",
         "type": "string"
        },
        {
         "name": "born_region",
         "rawType": "object",
         "type": "string"
        },
        {
         "name": "born_country",
         "rawType": "object",
         "type": "string"
        },
        {
         "name": "NOC",
         "rawType": "object",
         "type": "string"
        },
        {
         "name": "height_cm",
         "rawType": "float64",
         "type": "float"
        },
        {
         "name": "weight_kg",
         "rawType": "float64",
         "type": "float"
        },
        {
         "name": "died_date",
         "rawType": "object",
         "type": "unknown"
        }
       ],
       "conversionMethod": "pd.DataFrame",
       "ref": "0ee0d0c4-b6b5-4bcd-a565-4e0ef42b4bd8",
       "rows": [
        [
         "33296",
         "33548",
         "Fabien Canu",
         "1960-04-23",
         "Saint-Valery-en-Caux",
         "Seine-Maritime",
         "FRA",
         "France",
         "182.0",
         "87.0",
         null
        ],
        [
         "105036",
         "106066",
         "Fabrice Jeannet",
         "1980-10-20",
         "Fort-de-France",
         "Martinique",
         "FRA",
         "France",
         "193.0",
         "85.0",
         null
        ],
        [
         "140578",
         "144090",
         "Fabrizia Marrone",
         "1996-10-10",
         "Chieti",
         "Chieti",
         "ITA",
         "Italy",
         "160.0",
         null,
         null
        ],
        [
         "71278",
         "71817",
         "Fabia Trabaldo",
         "1972-03-05",
         "Borgosesia",
         "Vercelli",
         "ITA",
         "Italy",
         "168.0",
         "53.0",
         null
        ],
        [
         "37991",
         "38293",
         "Fabrizio Biondi",
         "1954-11-07",
         "Livorno",
         "Livorno",
         "ITA",
         "Italy",
         "181.0",
         "82.0",
         null
        ]
       ],
       "shape": {
        "columns": 10,
        "rows": 5
       }
      },
      "text/html": [
       "<div>\n",
       "<style scoped>\n",
       "    .dataframe tbody tr th:only-of-type {\n",
       "        vertical-align: middle;\n",
       "    }\n",
       "\n",
       "    .dataframe tbody tr th {\n",
       "        vertical-align: top;\n",
       "    }\n",
       "\n",
       "    .dataframe thead th {\n",
       "        text-align: right;\n",
       "    }\n",
       "</style>\n",
       "<table border=\"1\" class=\"dataframe\">\n",
       "  <thead>\n",
       "    <tr style=\"text-align: right;\">\n",
       "      <th></th>\n",
       "      <th>athlete_id</th>\n",
       "      <th>name</th>\n",
       "      <th>born_date</th>\n",
       "      <th>born_city</th>\n",
       "      <th>born_region</th>\n",
       "      <th>born_country</th>\n",
       "      <th>NOC</th>\n",
       "      <th>height_cm</th>\n",
       "      <th>weight_kg</th>\n",
       "      <th>died_date</th>\n",
       "    </tr>\n",
       "  </thead>\n",
       "  <tbody>\n",
       "    <tr>\n",
       "      <th>33296</th>\n",
       "      <td>33548</td>\n",
       "      <td>Fabien Canu</td>\n",
       "      <td>1960-04-23</td>\n",
       "      <td>Saint-Valery-en-Caux</td>\n",
       "      <td>Seine-Maritime</td>\n",
       "      <td>FRA</td>\n",
       "      <td>France</td>\n",
       "      <td>182.0</td>\n",
       "      <td>87.0</td>\n",
       "      <td>NaN</td>\n",
       "    </tr>\n",
       "    <tr>\n",
       "      <th>105036</th>\n",
       "      <td>106066</td>\n",
       "      <td>Fabrice Jeannet</td>\n",
       "      <td>1980-10-20</td>\n",
       "      <td>Fort-de-France</td>\n",
       "      <td>Martinique</td>\n",
       "      <td>FRA</td>\n",
       "      <td>France</td>\n",
       "      <td>193.0</td>\n",
       "      <td>85.0</td>\n",
       "      <td>NaN</td>\n",
       "    </tr>\n",
       "    <tr>\n",
       "      <th>140578</th>\n",
       "      <td>144090</td>\n",
       "      <td>Fabrizia Marrone</td>\n",
       "      <td>1996-10-10</td>\n",
       "      <td>Chieti</td>\n",
       "      <td>Chieti</td>\n",
       "      <td>ITA</td>\n",
       "      <td>Italy</td>\n",
       "      <td>160.0</td>\n",
       "      <td>NaN</td>\n",
       "      <td>NaN</td>\n",
       "    </tr>\n",
       "    <tr>\n",
       "      <th>71278</th>\n",
       "      <td>71817</td>\n",
       "      <td>Fabia Trabaldo</td>\n",
       "      <td>1972-03-05</td>\n",
       "      <td>Borgosesia</td>\n",
       "      <td>Vercelli</td>\n",
       "      <td>ITA</td>\n",
       "      <td>Italy</td>\n",
       "      <td>168.0</td>\n",
       "      <td>53.0</td>\n",
       "      <td>NaN</td>\n",
       "    </tr>\n",
       "    <tr>\n",
       "      <th>37991</th>\n",
       "      <td>38293</td>\n",
       "      <td>Fabrizio Biondi</td>\n",
       "      <td>1954-11-07</td>\n",
       "      <td>Livorno</td>\n",
       "      <td>Livorno</td>\n",
       "      <td>ITA</td>\n",
       "      <td>Italy</td>\n",
       "      <td>181.0</td>\n",
       "      <td>82.0</td>\n",
       "      <td>NaN</td>\n",
       "    </tr>\n",
       "  </tbody>\n",
       "</table>\n",
       "</div>"
      ],
      "text/plain": [
       "        athlete_id              name   born_date             born_city  \\\n",
       "33296        33548       Fabien Canu  1960-04-23  Saint-Valery-en-Caux   \n",
       "105036      106066   Fabrice Jeannet  1980-10-20        Fort-de-France   \n",
       "140578      144090  Fabrizia Marrone  1996-10-10                Chieti   \n",
       "71278        71817    Fabia Trabaldo  1972-03-05            Borgosesia   \n",
       "37991        38293   Fabrizio Biondi  1954-11-07               Livorno   \n",
       "\n",
       "           born_region born_country     NOC  height_cm  weight_kg died_date  \n",
       "33296   Seine-Maritime          FRA  France      182.0       87.0       NaN  \n",
       "105036      Martinique          FRA  France      193.0       85.0       NaN  \n",
       "140578          Chieti          ITA   Italy      160.0        NaN       NaN  \n",
       "71278         Vercelli          ITA   Italy      168.0       53.0       NaN  \n",
       "37991          Livorno          ITA   Italy      181.0       82.0       NaN  "
      ]
     },
     "execution_count": 69,
     "metadata": {},
     "output_type": "execute_result"
    }
   ],
   "source": [
    "bios[\n",
    "    (bios['born_country'].str.lower()\n",
    "    .isin('usa ita fra'.split())) &\n",
    "    (bios['name'].str.lower().str.startswith('fab'))\n",
    "].sample(5).head()"
   ]
  },
  {
   "cell_type": "markdown",
   "metadata": {},
   "source": [
    "## using .query"
   ]
  },
  {
   "cell_type": "code",
   "execution_count": 70,
   "metadata": {},
   "outputs": [
    {
     "data": {
      "application/vnd.microsoft.datawrangler.viewer.v0+json": {
       "columns": [
        {
         "name": "index",
         "rawType": "int64",
         "type": "integer"
        },
        {
         "name": "athlete_id",
         "rawType": "int64",
         "type": "integer"
        },
        {
         "name": "name",
         "rawType": "object",
         "type": "string"
        },
        {
         "name": "born_date",
         "rawType": "object",
         "type": "string"
        },
        {
         "name": "born_city",
         "rawType": "object",
         "type": "string"
        },
        {
         "name": "born_region",
         "rawType": "object",
         "type": "string"
        },
        {
         "name": "born_country",
         "rawType": "object",
         "type": "string"
        },
        {
         "name": "NOC",
         "rawType": "object",
         "type": "string"
        },
        {
         "name": "height_cm",
         "rawType": "float64",
         "type": "float"
        },
        {
         "name": "weight_kg",
         "rawType": "float64",
         "type": "float"
        },
        {
         "name": "died_date",
         "rawType": "object",
         "type": "unknown"
        }
       ],
       "conversionMethod": "pd.DataFrame",
       "ref": "c58ecded-1b2e-42dc-8f05-02058bc51bef",
       "rows": [
        [
         "801",
         "805",
         "Paola Bologna",
         "1898-08-20",
         "Torino",
         "Torino",
         "ITA",
         "Italy",
         null,
         null,
         "1960-01-13"
        ],
        [
         "1555",
         "1562",
         "Dante Carbini",
         "1973-08-09",
         "Torino",
         "Torino",
         "ITA",
         "Italy",
         "188.0",
         "86.0",
         null
        ],
        [
         "5512",
         "5533",
         "Rosanna Vergnano",
         "1954-05-21",
         "Torino",
         "Torino",
         "ITA",
         "Italy",
         "172.0",
         "64.0",
         null
        ],
        [
         "10088",
         "10144",
         "Maria Cristina Giai Pron",
         "1974-08-21",
         "Torino",
         "Torino",
         "ITA",
         "Italy",
         "168.0",
         "60.0",
         null
        ],
        [
         "10158",
         "10214",
         "Eligio Valentino",
         "1925-07-19",
         "Torino",
         "Torino",
         "ITA",
         "Italy",
         null,
         null,
         "2012-10-10"
        ]
       ],
       "shape": {
        "columns": 10,
        "rows": 5
       }
      },
      "text/html": [
       "<div>\n",
       "<style scoped>\n",
       "    .dataframe tbody tr th:only-of-type {\n",
       "        vertical-align: middle;\n",
       "    }\n",
       "\n",
       "    .dataframe tbody tr th {\n",
       "        vertical-align: top;\n",
       "    }\n",
       "\n",
       "    .dataframe thead th {\n",
       "        text-align: right;\n",
       "    }\n",
       "</style>\n",
       "<table border=\"1\" class=\"dataframe\">\n",
       "  <thead>\n",
       "    <tr style=\"text-align: right;\">\n",
       "      <th></th>\n",
       "      <th>athlete_id</th>\n",
       "      <th>name</th>\n",
       "      <th>born_date</th>\n",
       "      <th>born_city</th>\n",
       "      <th>born_region</th>\n",
       "      <th>born_country</th>\n",
       "      <th>NOC</th>\n",
       "      <th>height_cm</th>\n",
       "      <th>weight_kg</th>\n",
       "      <th>died_date</th>\n",
       "    </tr>\n",
       "  </thead>\n",
       "  <tbody>\n",
       "    <tr>\n",
       "      <th>801</th>\n",
       "      <td>805</td>\n",
       "      <td>Paola Bologna</td>\n",
       "      <td>1898-08-20</td>\n",
       "      <td>Torino</td>\n",
       "      <td>Torino</td>\n",
       "      <td>ITA</td>\n",
       "      <td>Italy</td>\n",
       "      <td>NaN</td>\n",
       "      <td>NaN</td>\n",
       "      <td>1960-01-13</td>\n",
       "    </tr>\n",
       "    <tr>\n",
       "      <th>1555</th>\n",
       "      <td>1562</td>\n",
       "      <td>Dante Carbini</td>\n",
       "      <td>1973-08-09</td>\n",
       "      <td>Torino</td>\n",
       "      <td>Torino</td>\n",
       "      <td>ITA</td>\n",
       "      <td>Italy</td>\n",
       "      <td>188.0</td>\n",
       "      <td>86.0</td>\n",
       "      <td>NaN</td>\n",
       "    </tr>\n",
       "    <tr>\n",
       "      <th>5512</th>\n",
       "      <td>5533</td>\n",
       "      <td>Rosanna Vergnano</td>\n",
       "      <td>1954-05-21</td>\n",
       "      <td>Torino</td>\n",
       "      <td>Torino</td>\n",
       "      <td>ITA</td>\n",
       "      <td>Italy</td>\n",
       "      <td>172.0</td>\n",
       "      <td>64.0</td>\n",
       "      <td>NaN</td>\n",
       "    </tr>\n",
       "    <tr>\n",
       "      <th>10088</th>\n",
       "      <td>10144</td>\n",
       "      <td>Maria Cristina Giai Pron</td>\n",
       "      <td>1974-08-21</td>\n",
       "      <td>Torino</td>\n",
       "      <td>Torino</td>\n",
       "      <td>ITA</td>\n",
       "      <td>Italy</td>\n",
       "      <td>168.0</td>\n",
       "      <td>60.0</td>\n",
       "      <td>NaN</td>\n",
       "    </tr>\n",
       "    <tr>\n",
       "      <th>10158</th>\n",
       "      <td>10214</td>\n",
       "      <td>Eligio Valentino</td>\n",
       "      <td>1925-07-19</td>\n",
       "      <td>Torino</td>\n",
       "      <td>Torino</td>\n",
       "      <td>ITA</td>\n",
       "      <td>Italy</td>\n",
       "      <td>NaN</td>\n",
       "      <td>NaN</td>\n",
       "      <td>2012-10-10</td>\n",
       "    </tr>\n",
       "  </tbody>\n",
       "</table>\n",
       "</div>"
      ],
      "text/plain": [
       "       athlete_id                      name   born_date born_city born_region  \\\n",
       "801           805             Paola Bologna  1898-08-20    Torino      Torino   \n",
       "1555         1562             Dante Carbini  1973-08-09    Torino      Torino   \n",
       "5512         5533          Rosanna Vergnano  1954-05-21    Torino      Torino   \n",
       "10088       10144  Maria Cristina Giai Pron  1974-08-21    Torino      Torino   \n",
       "10158       10214          Eligio Valentino  1925-07-19    Torino      Torino   \n",
       "\n",
       "      born_country    NOC  height_cm  weight_kg   died_date  \n",
       "801            ITA  Italy        NaN        NaN  1960-01-13  \n",
       "1555           ITA  Italy      188.0       86.0         NaN  \n",
       "5512           ITA  Italy      172.0       64.0         NaN  \n",
       "10088          ITA  Italy      168.0       60.0         NaN  \n",
       "10158          ITA  Italy        NaN        NaN  2012-10-10  "
      ]
     },
     "execution_count": 70,
     "metadata": {},
     "output_type": "execute_result"
    }
   ],
   "source": [
    "bios.query('born_country == \"ITA\" and born_city == \"Torino\"').head()"
   ]
  },
  {
   "cell_type": "code",
   "execution_count": 71,
   "metadata": {},
   "outputs": [
    {
     "data": {
      "application/vnd.microsoft.datawrangler.viewer.v0+json": {
       "columns": [
        {
         "name": "index",
         "rawType": "int64",
         "type": "integer"
        },
        {
         "name": "athlete_id",
         "rawType": "int64",
         "type": "integer"
        },
        {
         "name": "name",
         "rawType": "object",
         "type": "string"
        },
        {
         "name": "born_date",
         "rawType": "object",
         "type": "string"
        },
        {
         "name": "born_city",
         "rawType": "object",
         "type": "string"
        },
        {
         "name": "born_region",
         "rawType": "object",
         "type": "string"
        },
        {
         "name": "born_country",
         "rawType": "object",
         "type": "string"
        },
        {
         "name": "NOC",
         "rawType": "object",
         "type": "string"
        },
        {
         "name": "height_cm",
         "rawType": "float64",
         "type": "float"
        },
        {
         "name": "weight_kg",
         "rawType": "float64",
         "type": "float"
        },
        {
         "name": "died_date",
         "rawType": "object",
         "type": "unknown"
        }
       ],
       "conversionMethod": "pd.DataFrame",
       "ref": "1b899d2f-657e-4186-ad26-967c009eded2",
       "rows": [
        [
         "801",
         "805",
         "Paola Bologna",
         "1898-08-20",
         "Torino",
         "Torino",
         "ITA",
         "Italy",
         null,
         null,
         "1960-01-13"
        ],
        [
         "1555",
         "1562",
         "Dante Carbini",
         "1973-08-09",
         "Torino",
         "Torino",
         "ITA",
         "Italy",
         "188.0",
         "86.0",
         null
        ],
        [
         "5512",
         "5533",
         "Rosanna Vergnano",
         "1954-05-21",
         "Torino",
         "Torino",
         "ITA",
         "Italy",
         "172.0",
         "64.0",
         null
        ],
        [
         "10088",
         "10144",
         "Maria Cristina Giai Pron",
         "1974-08-21",
         "Torino",
         "Torino",
         "ITA",
         "Italy",
         "168.0",
         "60.0",
         null
        ],
        [
         "10158",
         "10214",
         "Eligio Valentino",
         "1925-07-19",
         "Torino",
         "Torino",
         "ITA",
         "Italy",
         null,
         null,
         "2012-10-10"
        ]
       ],
       "shape": {
        "columns": 10,
        "rows": 5
       }
      },
      "text/html": [
       "<div>\n",
       "<style scoped>\n",
       "    .dataframe tbody tr th:only-of-type {\n",
       "        vertical-align: middle;\n",
       "    }\n",
       "\n",
       "    .dataframe tbody tr th {\n",
       "        vertical-align: top;\n",
       "    }\n",
       "\n",
       "    .dataframe thead th {\n",
       "        text-align: right;\n",
       "    }\n",
       "</style>\n",
       "<table border=\"1\" class=\"dataframe\">\n",
       "  <thead>\n",
       "    <tr style=\"text-align: right;\">\n",
       "      <th></th>\n",
       "      <th>athlete_id</th>\n",
       "      <th>name</th>\n",
       "      <th>born_date</th>\n",
       "      <th>born_city</th>\n",
       "      <th>born_region</th>\n",
       "      <th>born_country</th>\n",
       "      <th>NOC</th>\n",
       "      <th>height_cm</th>\n",
       "      <th>weight_kg</th>\n",
       "      <th>died_date</th>\n",
       "    </tr>\n",
       "  </thead>\n",
       "  <tbody>\n",
       "    <tr>\n",
       "      <th>801</th>\n",
       "      <td>805</td>\n",
       "      <td>Paola Bologna</td>\n",
       "      <td>1898-08-20</td>\n",
       "      <td>Torino</td>\n",
       "      <td>Torino</td>\n",
       "      <td>ITA</td>\n",
       "      <td>Italy</td>\n",
       "      <td>NaN</td>\n",
       "      <td>NaN</td>\n",
       "      <td>1960-01-13</td>\n",
       "    </tr>\n",
       "    <tr>\n",
       "      <th>1555</th>\n",
       "      <td>1562</td>\n",
       "      <td>Dante Carbini</td>\n",
       "      <td>1973-08-09</td>\n",
       "      <td>Torino</td>\n",
       "      <td>Torino</td>\n",
       "      <td>ITA</td>\n",
       "      <td>Italy</td>\n",
       "      <td>188.0</td>\n",
       "      <td>86.0</td>\n",
       "      <td>NaN</td>\n",
       "    </tr>\n",
       "    <tr>\n",
       "      <th>5512</th>\n",
       "      <td>5533</td>\n",
       "      <td>Rosanna Vergnano</td>\n",
       "      <td>1954-05-21</td>\n",
       "      <td>Torino</td>\n",
       "      <td>Torino</td>\n",
       "      <td>ITA</td>\n",
       "      <td>Italy</td>\n",
       "      <td>172.0</td>\n",
       "      <td>64.0</td>\n",
       "      <td>NaN</td>\n",
       "    </tr>\n",
       "    <tr>\n",
       "      <th>10088</th>\n",
       "      <td>10144</td>\n",
       "      <td>Maria Cristina Giai Pron</td>\n",
       "      <td>1974-08-21</td>\n",
       "      <td>Torino</td>\n",
       "      <td>Torino</td>\n",
       "      <td>ITA</td>\n",
       "      <td>Italy</td>\n",
       "      <td>168.0</td>\n",
       "      <td>60.0</td>\n",
       "      <td>NaN</td>\n",
       "    </tr>\n",
       "    <tr>\n",
       "      <th>10158</th>\n",
       "      <td>10214</td>\n",
       "      <td>Eligio Valentino</td>\n",
       "      <td>1925-07-19</td>\n",
       "      <td>Torino</td>\n",
       "      <td>Torino</td>\n",
       "      <td>ITA</td>\n",
       "      <td>Italy</td>\n",
       "      <td>NaN</td>\n",
       "      <td>NaN</td>\n",
       "      <td>2012-10-10</td>\n",
       "    </tr>\n",
       "  </tbody>\n",
       "</table>\n",
       "</div>"
      ],
      "text/plain": [
       "       athlete_id                      name   born_date born_city born_region  \\\n",
       "801           805             Paola Bologna  1898-08-20    Torino      Torino   \n",
       "1555         1562             Dante Carbini  1973-08-09    Torino      Torino   \n",
       "5512         5533          Rosanna Vergnano  1954-05-21    Torino      Torino   \n",
       "10088       10144  Maria Cristina Giai Pron  1974-08-21    Torino      Torino   \n",
       "10158       10214          Eligio Valentino  1925-07-19    Torino      Torino   \n",
       "\n",
       "      born_country    NOC  height_cm  weight_kg   died_date  \n",
       "801            ITA  Italy        NaN        NaN  1960-01-13  \n",
       "1555           ITA  Italy      188.0       86.0         NaN  \n",
       "5512           ITA  Italy      172.0       64.0         NaN  \n",
       "10088          ITA  Italy      168.0       60.0         NaN  \n",
       "10158          ITA  Italy        NaN        NaN  2012-10-10  "
      ]
     },
     "execution_count": 71,
     "metadata": {},
     "output_type": "execute_result"
    }
   ],
   "source": [
    "bios.query(\n",
    "    'born_country.str.lower() == \"ita\" '\n",
    "    'and born_city.str.lower() == \"torino\"'\n",
    ").head()"
   ]
  },
  {
   "cell_type": "markdown",
   "metadata": {},
   "source": [
    "## using .isin() inside .query()"
   ]
  },
  {
   "cell_type": "code",
   "execution_count": 72,
   "metadata": {},
   "outputs": [
    {
     "data": {
      "application/vnd.microsoft.datawrangler.viewer.v0+json": {
       "columns": [
        {
         "name": "index",
         "rawType": "int64",
         "type": "integer"
        },
        {
         "name": "athlete_id",
         "rawType": "int64",
         "type": "integer"
        },
        {
         "name": "name",
         "rawType": "object",
         "type": "string"
        },
        {
         "name": "born_date",
         "rawType": "object",
         "type": "string"
        },
        {
         "name": "born_city",
         "rawType": "object",
         "type": "string"
        },
        {
         "name": "born_region",
         "rawType": "object",
         "type": "string"
        },
        {
         "name": "born_country",
         "rawType": "object",
         "type": "string"
        },
        {
         "name": "NOC",
         "rawType": "object",
         "type": "string"
        },
        {
         "name": "height_cm",
         "rawType": "float64",
         "type": "float"
        },
        {
         "name": "weight_kg",
         "rawType": "float64",
         "type": "float"
        },
        {
         "name": "died_date",
         "rawType": "object",
         "type": "unknown"
        }
       ],
       "conversionMethod": "pd.DataFrame",
       "ref": "00fc882f-134f-4567-bf73-0ea47fa441c7",
       "rows": [
        [
         "67924",
         "68439",
         "Robert Paul",
         "1910-04-20",
         "Facture-Biganos",
         "Gironde",
         "FRA",
         "France",
         "170.0",
         "65.0",
         "1998-12-15"
        ],
        [
         "7256",
         "7294",
         "Gabriele Vianello",
         "1938-05-06",
         "Venezia",
         "Venezia",
         "ITA",
         "Italy",
         "191.0",
         "83.0",
         null
        ],
        [
         "129403",
         "132019",
         "Brianna Rollins",
         "1991-08-18",
         "Miami",
         "Florida",
         "USA",
         "United States",
         "165.0",
         "59.0",
         null
        ],
        [
         "77200",
         "77791",
         "Gwyn Coogan",
         "1965-08-21",
         "Trenton",
         "New Jersey",
         "USA",
         "United States",
         "155.0",
         "50.0",
         null
        ],
        [
         "67850",
         "68364",
         "Louis Lesca",
         "1887-02-05",
         "Bordeaux",
         "Gironde",
         "FRA",
         "France",
         "176.0",
         null,
         "1974-04-30"
        ]
       ],
       "shape": {
        "columns": 10,
        "rows": 5
       }
      },
      "text/html": [
       "<div>\n",
       "<style scoped>\n",
       "    .dataframe tbody tr th:only-of-type {\n",
       "        vertical-align: middle;\n",
       "    }\n",
       "\n",
       "    .dataframe tbody tr th {\n",
       "        vertical-align: top;\n",
       "    }\n",
       "\n",
       "    .dataframe thead th {\n",
       "        text-align: right;\n",
       "    }\n",
       "</style>\n",
       "<table border=\"1\" class=\"dataframe\">\n",
       "  <thead>\n",
       "    <tr style=\"text-align: right;\">\n",
       "      <th></th>\n",
       "      <th>athlete_id</th>\n",
       "      <th>name</th>\n",
       "      <th>born_date</th>\n",
       "      <th>born_city</th>\n",
       "      <th>born_region</th>\n",
       "      <th>born_country</th>\n",
       "      <th>NOC</th>\n",
       "      <th>height_cm</th>\n",
       "      <th>weight_kg</th>\n",
       "      <th>died_date</th>\n",
       "    </tr>\n",
       "  </thead>\n",
       "  <tbody>\n",
       "    <tr>\n",
       "      <th>67924</th>\n",
       "      <td>68439</td>\n",
       "      <td>Robert Paul</td>\n",
       "      <td>1910-04-20</td>\n",
       "      <td>Facture-Biganos</td>\n",
       "      <td>Gironde</td>\n",
       "      <td>FRA</td>\n",
       "      <td>France</td>\n",
       "      <td>170.0</td>\n",
       "      <td>65.0</td>\n",
       "      <td>1998-12-15</td>\n",
       "    </tr>\n",
       "    <tr>\n",
       "      <th>7256</th>\n",
       "      <td>7294</td>\n",
       "      <td>Gabriele Vianello</td>\n",
       "      <td>1938-05-06</td>\n",
       "      <td>Venezia</td>\n",
       "      <td>Venezia</td>\n",
       "      <td>ITA</td>\n",
       "      <td>Italy</td>\n",
       "      <td>191.0</td>\n",
       "      <td>83.0</td>\n",
       "      <td>NaN</td>\n",
       "    </tr>\n",
       "    <tr>\n",
       "      <th>129403</th>\n",
       "      <td>132019</td>\n",
       "      <td>Brianna Rollins</td>\n",
       "      <td>1991-08-18</td>\n",
       "      <td>Miami</td>\n",
       "      <td>Florida</td>\n",
       "      <td>USA</td>\n",
       "      <td>United States</td>\n",
       "      <td>165.0</td>\n",
       "      <td>59.0</td>\n",
       "      <td>NaN</td>\n",
       "    </tr>\n",
       "    <tr>\n",
       "      <th>77200</th>\n",
       "      <td>77791</td>\n",
       "      <td>Gwyn Coogan</td>\n",
       "      <td>1965-08-21</td>\n",
       "      <td>Trenton</td>\n",
       "      <td>New Jersey</td>\n",
       "      <td>USA</td>\n",
       "      <td>United States</td>\n",
       "      <td>155.0</td>\n",
       "      <td>50.0</td>\n",
       "      <td>NaN</td>\n",
       "    </tr>\n",
       "    <tr>\n",
       "      <th>67850</th>\n",
       "      <td>68364</td>\n",
       "      <td>Louis Lesca</td>\n",
       "      <td>1887-02-05</td>\n",
       "      <td>Bordeaux</td>\n",
       "      <td>Gironde</td>\n",
       "      <td>FRA</td>\n",
       "      <td>France</td>\n",
       "      <td>176.0</td>\n",
       "      <td>NaN</td>\n",
       "      <td>1974-04-30</td>\n",
       "    </tr>\n",
       "  </tbody>\n",
       "</table>\n",
       "</div>"
      ],
      "text/plain": [
       "        athlete_id               name   born_date        born_city  \\\n",
       "67924        68439        Robert Paul  1910-04-20  Facture-Biganos   \n",
       "7256          7294  Gabriele Vianello  1938-05-06          Venezia   \n",
       "129403      132019    Brianna Rollins  1991-08-18            Miami   \n",
       "77200        77791        Gwyn Coogan  1965-08-21          Trenton   \n",
       "67850        68364        Louis Lesca  1887-02-05         Bordeaux   \n",
       "\n",
       "       born_region born_country            NOC  height_cm  weight_kg  \\\n",
       "67924      Gironde          FRA         France      170.0       65.0   \n",
       "7256       Venezia          ITA          Italy      191.0       83.0   \n",
       "129403     Florida          USA  United States      165.0       59.0   \n",
       "77200   New Jersey          USA  United States      155.0       50.0   \n",
       "67850      Gironde          FRA         France      176.0        NaN   \n",
       "\n",
       "         died_date  \n",
       "67924   1998-12-15  \n",
       "7256           NaN  \n",
       "129403         NaN  \n",
       "77200          NaN  \n",
       "67850   1974-04-30  "
      ]
     },
     "execution_count": 72,
     "metadata": {},
     "output_type": "execute_result"
    }
   ],
   "source": [
    "states = 'ITA FRA USA'.lower().split()\n",
    "bios.query(\n",
    "    'born_country.str.lower().isin(@states)'\n",
    ").sample(5)"
   ]
  }
 ],
 "metadata": {
  "kernelspec": {
   "display_name": ".venv",
   "language": "python",
   "name": "python3"
  },
  "language_info": {
   "codemirror_mode": {
    "name": "ipython",
    "version": 3
   },
   "file_extension": ".py",
   "mimetype": "text/x-python",
   "name": "python",
   "nbconvert_exporter": "python",
   "pygments_lexer": "ipython3",
   "version": "3.12.4"
  }
 },
 "nbformat": 4,
 "nbformat_minor": 2
}
