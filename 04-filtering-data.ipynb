{
 "cells": [
  {
   "cell_type": "code",
   "execution_count": 1,
   "metadata": {},
   "outputs": [],
   "source": [
    "import pandas as pd\n",
    "import numpy as np"
   ]
  },
  {
   "cell_type": "markdown",
   "metadata": {},
   "source": [
    "# Filtering data"
   ]
  },
  {
   "cell_type": "code",
   "execution_count": 4,
   "metadata": {},
   "outputs": [
    {
     "data": {
      "application/vnd.microsoft.datawrangler.viewer.v0+json": {
       "columns": [
        {
         "name": "index",
         "rawType": "int64",
         "type": "integer"
        },
        {
         "name": "athlete_id",
         "rawType": "int64",
         "type": "integer"
        },
        {
         "name": "name",
         "rawType": "object",
         "type": "string"
        },
        {
         "name": "born_date",
         "rawType": "object",
         "type": "string"
        },
        {
         "name": "born_city",
         "rawType": "object",
         "type": "string"
        },
        {
         "name": "born_region",
         "rawType": "object",
         "type": "string"
        },
        {
         "name": "born_country",
         "rawType": "object",
         "type": "string"
        },
        {
         "name": "NOC",
         "rawType": "object",
         "type": "string"
        },
        {
         "name": "height_cm",
         "rawType": "float64",
         "type": "float"
        },
        {
         "name": "weight_kg",
         "rawType": "float64",
         "type": "float"
        },
        {
         "name": "died_date",
         "rawType": "object",
         "type": "unknown"
        }
       ],
       "conversionMethod": "pd.DataFrame",
       "ref": "8bc19a24-d035-4710-8f55-1e2c31b53911",
       "rows": [
        [
         "0",
         "1",
         "Jean-François Blanchy",
         "1886-12-12",
         "Bordeaux",
         "Gironde",
         "FRA",
         "France",
         null,
         null,
         "1960-10-02"
        ],
        [
         "1",
         "2",
         "Arnaud Boetsch",
         "1969-04-01",
         "Meulan",
         "Yvelines",
         "FRA",
         "France",
         "183.0",
         "76.0",
         null
        ],
        [
         "2",
         "3",
         "Jean Borotra",
         "1898-08-13",
         "Biarritz",
         "Pyrénées-Atlantiques",
         "FRA",
         "France",
         "183.0",
         "76.0",
         "1994-07-17"
        ],
        [
         "3",
         "4",
         "Jacques Brugnon",
         "1895-05-11",
         "Paris VIIIe",
         "Paris",
         "FRA",
         "France",
         "168.0",
         "64.0",
         "1978-03-20"
        ],
        [
         "4",
         "5",
         "Albert Canet",
         "1878-04-17",
         "Wandsworth",
         "England",
         "GBR",
         "France",
         null,
         null,
         "1930-07-25"
        ]
       ],
       "shape": {
        "columns": 10,
        "rows": 5
       }
      },
      "text/html": [
       "<div>\n",
       "<style scoped>\n",
       "    .dataframe tbody tr th:only-of-type {\n",
       "        vertical-align: middle;\n",
       "    }\n",
       "\n",
       "    .dataframe tbody tr th {\n",
       "        vertical-align: top;\n",
       "    }\n",
       "\n",
       "    .dataframe thead th {\n",
       "        text-align: right;\n",
       "    }\n",
       "</style>\n",
       "<table border=\"1\" class=\"dataframe\">\n",
       "  <thead>\n",
       "    <tr style=\"text-align: right;\">\n",
       "      <th></th>\n",
       "      <th>athlete_id</th>\n",
       "      <th>name</th>\n",
       "      <th>born_date</th>\n",
       "      <th>born_city</th>\n",
       "      <th>born_region</th>\n",
       "      <th>born_country</th>\n",
       "      <th>NOC</th>\n",
       "      <th>height_cm</th>\n",
       "      <th>weight_kg</th>\n",
       "      <th>died_date</th>\n",
       "    </tr>\n",
       "  </thead>\n",
       "  <tbody>\n",
       "    <tr>\n",
       "      <th>0</th>\n",
       "      <td>1</td>\n",
       "      <td>Jean-François Blanchy</td>\n",
       "      <td>1886-12-12</td>\n",
       "      <td>Bordeaux</td>\n",
       "      <td>Gironde</td>\n",
       "      <td>FRA</td>\n",
       "      <td>France</td>\n",
       "      <td>NaN</td>\n",
       "      <td>NaN</td>\n",
       "      <td>1960-10-02</td>\n",
       "    </tr>\n",
       "    <tr>\n",
       "      <th>1</th>\n",
       "      <td>2</td>\n",
       "      <td>Arnaud Boetsch</td>\n",
       "      <td>1969-04-01</td>\n",
       "      <td>Meulan</td>\n",
       "      <td>Yvelines</td>\n",
       "      <td>FRA</td>\n",
       "      <td>France</td>\n",
       "      <td>183.0</td>\n",
       "      <td>76.0</td>\n",
       "      <td>NaN</td>\n",
       "    </tr>\n",
       "    <tr>\n",
       "      <th>2</th>\n",
       "      <td>3</td>\n",
       "      <td>Jean Borotra</td>\n",
       "      <td>1898-08-13</td>\n",
       "      <td>Biarritz</td>\n",
       "      <td>Pyrénées-Atlantiques</td>\n",
       "      <td>FRA</td>\n",
       "      <td>France</td>\n",
       "      <td>183.0</td>\n",
       "      <td>76.0</td>\n",
       "      <td>1994-07-17</td>\n",
       "    </tr>\n",
       "    <tr>\n",
       "      <th>3</th>\n",
       "      <td>4</td>\n",
       "      <td>Jacques Brugnon</td>\n",
       "      <td>1895-05-11</td>\n",
       "      <td>Paris VIIIe</td>\n",
       "      <td>Paris</td>\n",
       "      <td>FRA</td>\n",
       "      <td>France</td>\n",
       "      <td>168.0</td>\n",
       "      <td>64.0</td>\n",
       "      <td>1978-03-20</td>\n",
       "    </tr>\n",
       "    <tr>\n",
       "      <th>4</th>\n",
       "      <td>5</td>\n",
       "      <td>Albert Canet</td>\n",
       "      <td>1878-04-17</td>\n",
       "      <td>Wandsworth</td>\n",
       "      <td>England</td>\n",
       "      <td>GBR</td>\n",
       "      <td>France</td>\n",
       "      <td>NaN</td>\n",
       "      <td>NaN</td>\n",
       "      <td>1930-07-25</td>\n",
       "    </tr>\n",
       "  </tbody>\n",
       "</table>\n",
       "</div>"
      ],
      "text/plain": [
       "   athlete_id                   name   born_date    born_city  \\\n",
       "0           1  Jean-François Blanchy  1886-12-12     Bordeaux   \n",
       "1           2         Arnaud Boetsch  1969-04-01       Meulan   \n",
       "2           3           Jean Borotra  1898-08-13     Biarritz   \n",
       "3           4        Jacques Brugnon  1895-05-11  Paris VIIIe   \n",
       "4           5           Albert Canet  1878-04-17   Wandsworth   \n",
       "\n",
       "            born_region born_country     NOC  height_cm  weight_kg   died_date  \n",
       "0               Gironde          FRA  France        NaN        NaN  1960-10-02  \n",
       "1              Yvelines          FRA  France      183.0       76.0         NaN  \n",
       "2  Pyrénées-Atlantiques          FRA  France      183.0       76.0  1994-07-17  \n",
       "3                 Paris          FRA  France      168.0       64.0  1978-03-20  \n",
       "4               England          GBR  France        NaN        NaN  1930-07-25  "
      ]
     },
     "execution_count": 4,
     "metadata": {},
     "output_type": "execute_result"
    }
   ],
   "source": [
    "bios = pd.read_csv('./data/bios.csv')\n",
    "bios.head()"
   ]
  },
  {
   "cell_type": "markdown",
   "metadata": {},
   "source": [
    "## create panda series of boolean values for the condition"
   ]
  },
  {
   "cell_type": "code",
   "execution_count": 25,
   "metadata": {},
   "outputs": [
    {
     "data": {
      "text/plain": [
       "pandas.core.series.Series"
      ]
     },
     "metadata": {},
     "output_type": "display_data"
    },
    {
     "data": {
      "text/plain": [
       "145500"
      ]
     },
     "metadata": {},
     "output_type": "display_data"
    },
    {
     "data": {
      "text/plain": [
       "35"
      ]
     },
     "metadata": {},
     "output_type": "display_data"
    },
    {
     "data": {
      "text/plain": [
       "5089    True\n",
       "5583    True\n",
       "5673    True\n",
       "5716    True\n",
       "5781    True\n",
       "Name: height_cm, dtype: bool"
      ]
     },
     "execution_count": 25,
     "metadata": {},
     "output_type": "execute_result"
    }
   ],
   "source": [
    "is_tall = bios.height_cm > 215   # get boolean series for condition\n",
    "display(type(is_tall))\n",
    "display(len(is_tall))\n",
    "true_is_tall = is_tall[is_tall]          # filter true values from series\n",
    "display(len(true_is_tall))\n",
    "true_is_tall.head()"
   ]
  },
  {
   "cell_type": "markdown",
   "metadata": {},
   "source": [
    "## use the panda series to filter df"
   ]
  },
  {
   "cell_type": "code",
   "execution_count": 24,
   "metadata": {},
   "outputs": [
    {
     "data": {
      "application/vnd.microsoft.datawrangler.viewer.v0+json": {
       "columns": [
        {
         "name": "index",
         "rawType": "int64",
         "type": "integer"
        },
        {
         "name": "athlete_id",
         "rawType": "int64",
         "type": "integer"
        },
        {
         "name": "name",
         "rawType": "object",
         "type": "string"
        },
        {
         "name": "born_date",
         "rawType": "object",
         "type": "string"
        },
        {
         "name": "born_city",
         "rawType": "object",
         "type": "string"
        },
        {
         "name": "born_region",
         "rawType": "object",
         "type": "string"
        },
        {
         "name": "born_country",
         "rawType": "object",
         "type": "string"
        },
        {
         "name": "NOC",
         "rawType": "object",
         "type": "string"
        },
        {
         "name": "height_cm",
         "rawType": "float64",
         "type": "float"
        },
        {
         "name": "weight_kg",
         "rawType": "float64",
         "type": "float"
        },
        {
         "name": "died_date",
         "rawType": "object",
         "type": "unknown"
        }
       ],
       "conversionMethod": "pd.DataFrame",
       "ref": "9247fef5-2bab-44d0-8f26-fb2b70054ea9",
       "rows": [
        [
         "5089",
         "5108",
         "Viktor Pankrashkin",
         "1957-06-19",
         "Moskva (Moscow)",
         "Moskva",
         "RUS",
         "Soviet Union",
         "220.0",
         "112.0",
         "1993-07-24"
        ],
        [
         "5583",
         "5606",
         " Paulinho Villas Boas",
         "1963-01-26",
         "São Paulo",
         "São Paulo",
         "BRA",
         "Brazil",
         "217.0",
         "106.0",
         null
        ],
        [
         "5673",
         "5696",
         "Gunther Behnke",
         "1963-01-19",
         "Leverkusen",
         "Nordrhein-Westfalen",
         "GER",
         "Germany",
         "221.0",
         "114.0",
         null
        ],
        [
         "5716",
         "5739",
         "Uwe Blab",
         "1962-03-26",
         "München (Munich)",
         "Bayern",
         "GER",
         "Germany West Germany",
         "218.0",
         "110.0",
         null
        ],
        [
         "5781",
         "5804",
         "Tommy Burleson",
         "1952-02-24",
         "Crossnore",
         "North Carolina",
         "USA",
         "United States",
         "223.0",
         "102.0",
         null
        ]
       ],
       "shape": {
        "columns": 10,
        "rows": 5
       }
      },
      "text/html": [
       "<div>\n",
       "<style scoped>\n",
       "    .dataframe tbody tr th:only-of-type {\n",
       "        vertical-align: middle;\n",
       "    }\n",
       "\n",
       "    .dataframe tbody tr th {\n",
       "        vertical-align: top;\n",
       "    }\n",
       "\n",
       "    .dataframe thead th {\n",
       "        text-align: right;\n",
       "    }\n",
       "</style>\n",
       "<table border=\"1\" class=\"dataframe\">\n",
       "  <thead>\n",
       "    <tr style=\"text-align: right;\">\n",
       "      <th></th>\n",
       "      <th>athlete_id</th>\n",
       "      <th>name</th>\n",
       "      <th>born_date</th>\n",
       "      <th>born_city</th>\n",
       "      <th>born_region</th>\n",
       "      <th>born_country</th>\n",
       "      <th>NOC</th>\n",
       "      <th>height_cm</th>\n",
       "      <th>weight_kg</th>\n",
       "      <th>died_date</th>\n",
       "    </tr>\n",
       "  </thead>\n",
       "  <tbody>\n",
       "    <tr>\n",
       "      <th>5089</th>\n",
       "      <td>5108</td>\n",
       "      <td>Viktor Pankrashkin</td>\n",
       "      <td>1957-06-19</td>\n",
       "      <td>Moskva (Moscow)</td>\n",
       "      <td>Moskva</td>\n",
       "      <td>RUS</td>\n",
       "      <td>Soviet Union</td>\n",
       "      <td>220.0</td>\n",
       "      <td>112.0</td>\n",
       "      <td>1993-07-24</td>\n",
       "    </tr>\n",
       "    <tr>\n",
       "      <th>5583</th>\n",
       "      <td>5606</td>\n",
       "      <td>Paulinho Villas Boas</td>\n",
       "      <td>1963-01-26</td>\n",
       "      <td>São Paulo</td>\n",
       "      <td>São Paulo</td>\n",
       "      <td>BRA</td>\n",
       "      <td>Brazil</td>\n",
       "      <td>217.0</td>\n",
       "      <td>106.0</td>\n",
       "      <td>NaN</td>\n",
       "    </tr>\n",
       "    <tr>\n",
       "      <th>5673</th>\n",
       "      <td>5696</td>\n",
       "      <td>Gunther Behnke</td>\n",
       "      <td>1963-01-19</td>\n",
       "      <td>Leverkusen</td>\n",
       "      <td>Nordrhein-Westfalen</td>\n",
       "      <td>GER</td>\n",
       "      <td>Germany</td>\n",
       "      <td>221.0</td>\n",
       "      <td>114.0</td>\n",
       "      <td>NaN</td>\n",
       "    </tr>\n",
       "    <tr>\n",
       "      <th>5716</th>\n",
       "      <td>5739</td>\n",
       "      <td>Uwe Blab</td>\n",
       "      <td>1962-03-26</td>\n",
       "      <td>München (Munich)</td>\n",
       "      <td>Bayern</td>\n",
       "      <td>GER</td>\n",
       "      <td>Germany West Germany</td>\n",
       "      <td>218.0</td>\n",
       "      <td>110.0</td>\n",
       "      <td>NaN</td>\n",
       "    </tr>\n",
       "    <tr>\n",
       "      <th>5781</th>\n",
       "      <td>5804</td>\n",
       "      <td>Tommy Burleson</td>\n",
       "      <td>1952-02-24</td>\n",
       "      <td>Crossnore</td>\n",
       "      <td>North Carolina</td>\n",
       "      <td>USA</td>\n",
       "      <td>United States</td>\n",
       "      <td>223.0</td>\n",
       "      <td>102.0</td>\n",
       "      <td>NaN</td>\n",
       "    </tr>\n",
       "  </tbody>\n",
       "</table>\n",
       "</div>"
      ],
      "text/plain": [
       "      athlete_id                   name   born_date         born_city  \\\n",
       "5089        5108     Viktor Pankrashkin  1957-06-19   Moskva (Moscow)   \n",
       "5583        5606   Paulinho Villas Boas  1963-01-26         São Paulo   \n",
       "5673        5696         Gunther Behnke  1963-01-19        Leverkusen   \n",
       "5716        5739               Uwe Blab  1962-03-26  München (Munich)   \n",
       "5781        5804         Tommy Burleson  1952-02-24         Crossnore   \n",
       "\n",
       "              born_region born_country                   NOC  height_cm  \\\n",
       "5089               Moskva          RUS          Soviet Union      220.0   \n",
       "5583            São Paulo          BRA                Brazil      217.0   \n",
       "5673  Nordrhein-Westfalen          GER               Germany      221.0   \n",
       "5716               Bayern          GER  Germany West Germany      218.0   \n",
       "5781       North Carolina          USA         United States      223.0   \n",
       "\n",
       "      weight_kg   died_date  \n",
       "5089      112.0  1993-07-24  \n",
       "5583      106.0         NaN  \n",
       "5673      114.0         NaN  \n",
       "5716      110.0         NaN  \n",
       "5781      102.0         NaN  "
      ]
     },
     "metadata": {},
     "output_type": "display_data"
    },
    {
     "data": {
      "application/vnd.microsoft.datawrangler.viewer.v0+json": {
       "columns": [
        {
         "name": "index",
         "rawType": "int64",
         "type": "integer"
        },
        {
         "name": "athlete_id",
         "rawType": "int64",
         "type": "integer"
        },
        {
         "name": "name",
         "rawType": "object",
         "type": "string"
        },
        {
         "name": "born_date",
         "rawType": "object",
         "type": "string"
        },
        {
         "name": "born_city",
         "rawType": "object",
         "type": "string"
        },
        {
         "name": "born_region",
         "rawType": "object",
         "type": "string"
        },
        {
         "name": "born_country",
         "rawType": "object",
         "type": "string"
        },
        {
         "name": "NOC",
         "rawType": "object",
         "type": "string"
        },
        {
         "name": "height_cm",
         "rawType": "float64",
         "type": "float"
        },
        {
         "name": "weight_kg",
         "rawType": "float64",
         "type": "float"
        },
        {
         "name": "died_date",
         "rawType": "object",
         "type": "unknown"
        }
       ],
       "conversionMethod": "pd.DataFrame",
       "ref": "19658d3a-4478-4140-a0d7-6d0dcabacc24",
       "rows": [
        [
         "5089",
         "5108",
         "Viktor Pankrashkin",
         "1957-06-19",
         "Moskva (Moscow)",
         "Moskva",
         "RUS",
         "Soviet Union",
         "220.0",
         "112.0",
         "1993-07-24"
        ],
        [
         "5583",
         "5606",
         " Paulinho Villas Boas",
         "1963-01-26",
         "São Paulo",
         "São Paulo",
         "BRA",
         "Brazil",
         "217.0",
         "106.0",
         null
        ],
        [
         "5673",
         "5696",
         "Gunther Behnke",
         "1963-01-19",
         "Leverkusen",
         "Nordrhein-Westfalen",
         "GER",
         "Germany",
         "221.0",
         "114.0",
         null
        ],
        [
         "5716",
         "5739",
         "Uwe Blab",
         "1962-03-26",
         "München (Munich)",
         "Bayern",
         "GER",
         "Germany West Germany",
         "218.0",
         "110.0",
         null
        ],
        [
         "5781",
         "5804",
         "Tommy Burleson",
         "1952-02-24",
         "Crossnore",
         "North Carolina",
         "USA",
         "United States",
         "223.0",
         "102.0",
         null
        ]
       ],
       "shape": {
        "columns": 10,
        "rows": 5
       }
      },
      "text/html": [
       "<div>\n",
       "<style scoped>\n",
       "    .dataframe tbody tr th:only-of-type {\n",
       "        vertical-align: middle;\n",
       "    }\n",
       "\n",
       "    .dataframe tbody tr th {\n",
       "        vertical-align: top;\n",
       "    }\n",
       "\n",
       "    .dataframe thead th {\n",
       "        text-align: right;\n",
       "    }\n",
       "</style>\n",
       "<table border=\"1\" class=\"dataframe\">\n",
       "  <thead>\n",
       "    <tr style=\"text-align: right;\">\n",
       "      <th></th>\n",
       "      <th>athlete_id</th>\n",
       "      <th>name</th>\n",
       "      <th>born_date</th>\n",
       "      <th>born_city</th>\n",
       "      <th>born_region</th>\n",
       "      <th>born_country</th>\n",
       "      <th>NOC</th>\n",
       "      <th>height_cm</th>\n",
       "      <th>weight_kg</th>\n",
       "      <th>died_date</th>\n",
       "    </tr>\n",
       "  </thead>\n",
       "  <tbody>\n",
       "    <tr>\n",
       "      <th>5089</th>\n",
       "      <td>5108</td>\n",
       "      <td>Viktor Pankrashkin</td>\n",
       "      <td>1957-06-19</td>\n",
       "      <td>Moskva (Moscow)</td>\n",
       "      <td>Moskva</td>\n",
       "      <td>RUS</td>\n",
       "      <td>Soviet Union</td>\n",
       "      <td>220.0</td>\n",
       "      <td>112.0</td>\n",
       "      <td>1993-07-24</td>\n",
       "    </tr>\n",
       "    <tr>\n",
       "      <th>5583</th>\n",
       "      <td>5606</td>\n",
       "      <td>Paulinho Villas Boas</td>\n",
       "      <td>1963-01-26</td>\n",
       "      <td>São Paulo</td>\n",
       "      <td>São Paulo</td>\n",
       "      <td>BRA</td>\n",
       "      <td>Brazil</td>\n",
       "      <td>217.0</td>\n",
       "      <td>106.0</td>\n",
       "      <td>NaN</td>\n",
       "    </tr>\n",
       "    <tr>\n",
       "      <th>5673</th>\n",
       "      <td>5696</td>\n",
       "      <td>Gunther Behnke</td>\n",
       "      <td>1963-01-19</td>\n",
       "      <td>Leverkusen</td>\n",
       "      <td>Nordrhein-Westfalen</td>\n",
       "      <td>GER</td>\n",
       "      <td>Germany</td>\n",
       "      <td>221.0</td>\n",
       "      <td>114.0</td>\n",
       "      <td>NaN</td>\n",
       "    </tr>\n",
       "    <tr>\n",
       "      <th>5716</th>\n",
       "      <td>5739</td>\n",
       "      <td>Uwe Blab</td>\n",
       "      <td>1962-03-26</td>\n",
       "      <td>München (Munich)</td>\n",
       "      <td>Bayern</td>\n",
       "      <td>GER</td>\n",
       "      <td>Germany West Germany</td>\n",
       "      <td>218.0</td>\n",
       "      <td>110.0</td>\n",
       "      <td>NaN</td>\n",
       "    </tr>\n",
       "    <tr>\n",
       "      <th>5781</th>\n",
       "      <td>5804</td>\n",
       "      <td>Tommy Burleson</td>\n",
       "      <td>1952-02-24</td>\n",
       "      <td>Crossnore</td>\n",
       "      <td>North Carolina</td>\n",
       "      <td>USA</td>\n",
       "      <td>United States</td>\n",
       "      <td>223.0</td>\n",
       "      <td>102.0</td>\n",
       "      <td>NaN</td>\n",
       "    </tr>\n",
       "  </tbody>\n",
       "</table>\n",
       "</div>"
      ],
      "text/plain": [
       "      athlete_id                   name   born_date         born_city  \\\n",
       "5089        5108     Viktor Pankrashkin  1957-06-19   Moskva (Moscow)   \n",
       "5583        5606   Paulinho Villas Boas  1963-01-26         São Paulo   \n",
       "5673        5696         Gunther Behnke  1963-01-19        Leverkusen   \n",
       "5716        5739               Uwe Blab  1962-03-26  München (Munich)   \n",
       "5781        5804         Tommy Burleson  1952-02-24         Crossnore   \n",
       "\n",
       "              born_region born_country                   NOC  height_cm  \\\n",
       "5089               Moskva          RUS          Soviet Union      220.0   \n",
       "5583            São Paulo          BRA                Brazil      217.0   \n",
       "5673  Nordrhein-Westfalen          GER               Germany      221.0   \n",
       "5716               Bayern          GER  Germany West Germany      218.0   \n",
       "5781       North Carolina          USA         United States      223.0   \n",
       "\n",
       "      weight_kg   died_date  \n",
       "5089      112.0  1993-07-24  \n",
       "5583      106.0         NaN  \n",
       "5673      114.0         NaN  \n",
       "5716      110.0         NaN  \n",
       "5781      102.0         NaN  "
      ]
     },
     "execution_count": 24,
     "metadata": {},
     "output_type": "execute_result"
    }
   ],
   "source": [
    "len(bios[is_tall])\n",
    "display(bios[is_tall].head())\n",
    "bios[bios['height_cm'] > 215].head()"
   ]
  },
  {
   "cell_type": "markdown",
   "metadata": {},
   "source": [
    "## filter df using loc"
   ]
  },
  {
   "cell_type": "code",
   "execution_count": 31,
   "metadata": {},
   "outputs": [
    {
     "data": {
      "application/vnd.microsoft.datawrangler.viewer.v0+json": {
       "columns": [
        {
         "name": "index",
         "rawType": "int64",
         "type": "integer"
        },
        {
         "name": "name",
         "rawType": "object",
         "type": "string"
        },
        {
         "name": "height_cm",
         "rawType": "float64",
         "type": "float"
        }
       ],
       "conversionMethod": "pd.DataFrame",
       "ref": "12c39d36-6d55-4d88-aad8-ca3d15f2f865",
       "rows": [
        [
         "5089",
         "Viktor Pankrashkin",
         "220.0"
        ],
        [
         "5583",
         " Paulinho Villas Boas",
         "217.0"
        ],
        [
         "5673",
         "Gunther Behnke",
         "221.0"
        ],
        [
         "5716",
         "Uwe Blab",
         "218.0"
        ],
        [
         "5781",
         "Tommy Burleson",
         "223.0"
        ]
       ],
       "shape": {
        "columns": 2,
        "rows": 5
       }
      },
      "text/html": [
       "<div>\n",
       "<style scoped>\n",
       "    .dataframe tbody tr th:only-of-type {\n",
       "        vertical-align: middle;\n",
       "    }\n",
       "\n",
       "    .dataframe tbody tr th {\n",
       "        vertical-align: top;\n",
       "    }\n",
       "\n",
       "    .dataframe thead th {\n",
       "        text-align: right;\n",
       "    }\n",
       "</style>\n",
       "<table border=\"1\" class=\"dataframe\">\n",
       "  <thead>\n",
       "    <tr style=\"text-align: right;\">\n",
       "      <th></th>\n",
       "      <th>name</th>\n",
       "      <th>height_cm</th>\n",
       "    </tr>\n",
       "  </thead>\n",
       "  <tbody>\n",
       "    <tr>\n",
       "      <th>5089</th>\n",
       "      <td>Viktor Pankrashkin</td>\n",
       "      <td>220.0</td>\n",
       "    </tr>\n",
       "    <tr>\n",
       "      <th>5583</th>\n",
       "      <td>Paulinho Villas Boas</td>\n",
       "      <td>217.0</td>\n",
       "    </tr>\n",
       "    <tr>\n",
       "      <th>5673</th>\n",
       "      <td>Gunther Behnke</td>\n",
       "      <td>221.0</td>\n",
       "    </tr>\n",
       "    <tr>\n",
       "      <th>5716</th>\n",
       "      <td>Uwe Blab</td>\n",
       "      <td>218.0</td>\n",
       "    </tr>\n",
       "    <tr>\n",
       "      <th>5781</th>\n",
       "      <td>Tommy Burleson</td>\n",
       "      <td>223.0</td>\n",
       "    </tr>\n",
       "  </tbody>\n",
       "</table>\n",
       "</div>"
      ],
      "text/plain": [
       "                       name  height_cm\n",
       "5089     Viktor Pankrashkin      220.0\n",
       "5583   Paulinho Villas Boas      217.0\n",
       "5673         Gunther Behnke      221.0\n",
       "5716               Uwe Blab      218.0\n",
       "5781         Tommy Burleson      223.0"
      ]
     },
     "execution_count": 31,
     "metadata": {},
     "output_type": "execute_result"
    }
   ],
   "source": [
    "bios.loc[\n",
    "    bios['height_cm'] > 215,    # filter\n",
    "    ['name', 'height_cm']       # output columns\n",
    "].head()"
   ]
  },
  {
   "cell_type": "markdown",
   "metadata": {},
   "source": [
    "## alternate syntax"
   ]
  },
  {
   "cell_type": "code",
   "execution_count": 33,
   "metadata": {},
   "outputs": [
    {
     "data": {
      "application/vnd.microsoft.datawrangler.viewer.v0+json": {
       "columns": [
        {
         "name": "index",
         "rawType": "int64",
         "type": "integer"
        },
        {
         "name": "name",
         "rawType": "object",
         "type": "string"
        },
        {
         "name": "height_cm",
         "rawType": "float64",
         "type": "float"
        }
       ],
       "conversionMethod": "pd.DataFrame",
       "ref": "6bf3cc58-2645-4396-9d46-a0bf34d84598",
       "rows": [
        [
         "5089",
         "Viktor Pankrashkin",
         "220.0"
        ],
        [
         "5583",
         " Paulinho Villas Boas",
         "217.0"
        ],
        [
         "5673",
         "Gunther Behnke",
         "221.0"
        ],
        [
         "5716",
         "Uwe Blab",
         "218.0"
        ],
        [
         "5781",
         "Tommy Burleson",
         "223.0"
        ]
       ],
       "shape": {
        "columns": 2,
        "rows": 5
       }
      },
      "text/html": [
       "<div>\n",
       "<style scoped>\n",
       "    .dataframe tbody tr th:only-of-type {\n",
       "        vertical-align: middle;\n",
       "    }\n",
       "\n",
       "    .dataframe tbody tr th {\n",
       "        vertical-align: top;\n",
       "    }\n",
       "\n",
       "    .dataframe thead th {\n",
       "        text-align: right;\n",
       "    }\n",
       "</style>\n",
       "<table border=\"1\" class=\"dataframe\">\n",
       "  <thead>\n",
       "    <tr style=\"text-align: right;\">\n",
       "      <th></th>\n",
       "      <th>name</th>\n",
       "      <th>height_cm</th>\n",
       "    </tr>\n",
       "  </thead>\n",
       "  <tbody>\n",
       "    <tr>\n",
       "      <th>5089</th>\n",
       "      <td>Viktor Pankrashkin</td>\n",
       "      <td>220.0</td>\n",
       "    </tr>\n",
       "    <tr>\n",
       "      <th>5583</th>\n",
       "      <td>Paulinho Villas Boas</td>\n",
       "      <td>217.0</td>\n",
       "    </tr>\n",
       "    <tr>\n",
       "      <th>5673</th>\n",
       "      <td>Gunther Behnke</td>\n",
       "      <td>221.0</td>\n",
       "    </tr>\n",
       "    <tr>\n",
       "      <th>5716</th>\n",
       "      <td>Uwe Blab</td>\n",
       "      <td>218.0</td>\n",
       "    </tr>\n",
       "    <tr>\n",
       "      <th>5781</th>\n",
       "      <td>Tommy Burleson</td>\n",
       "      <td>223.0</td>\n",
       "    </tr>\n",
       "  </tbody>\n",
       "</table>\n",
       "</div>"
      ],
      "text/plain": [
       "                       name  height_cm\n",
       "5089     Viktor Pankrashkin      220.0\n",
       "5583   Paulinho Villas Boas      217.0\n",
       "5673         Gunther Behnke      221.0\n",
       "5716               Uwe Blab      218.0\n",
       "5781         Tommy Burleson      223.0"
      ]
     },
     "execution_count": 33,
     "metadata": {},
     "output_type": "execute_result"
    }
   ],
   "source": [
    "bios[bios['height_cm']>215][['name', 'height_cm']].head()"
   ]
  },
  {
   "cell_type": "markdown",
   "metadata": {},
   "source": [
    "## multiple conditions"
   ]
  },
  {
   "cell_type": "code",
   "execution_count": 37,
   "metadata": {},
   "outputs": [
    {
     "data": {
      "application/vnd.microsoft.datawrangler.viewer.v0+json": {
       "columns": [
        {
         "name": "index",
         "rawType": "int64",
         "type": "integer"
        },
        {
         "name": "name",
         "rawType": "object",
         "type": "string"
        },
        {
         "name": "height_cm",
         "rawType": "float64",
         "type": "float"
        },
        {
         "name": "born_country",
         "rawType": "object",
         "type": "string"
        }
       ],
       "conversionMethod": "pd.DataFrame",
       "ref": "57622731-5718-42e0-bea8-d89d7db1434e",
       "rows": [
        [
         "5781",
         "Tommy Burleson",
         "223.0",
         "USA"
        ],
        [
         "6722",
         "Shaquille O'Neal",
         "216.0",
         "USA"
        ],
        [
         "6937",
         "David Robinson",
         "216.0",
         "USA"
        ],
        [
         "123850",
         "Tyson Chandler",
         "216.0",
         "USA"
        ]
       ],
       "shape": {
        "columns": 3,
        "rows": 4
       }
      },
      "text/html": [
       "<div>\n",
       "<style scoped>\n",
       "    .dataframe tbody tr th:only-of-type {\n",
       "        vertical-align: middle;\n",
       "    }\n",
       "\n",
       "    .dataframe tbody tr th {\n",
       "        vertical-align: top;\n",
       "    }\n",
       "\n",
       "    .dataframe thead th {\n",
       "        text-align: right;\n",
       "    }\n",
       "</style>\n",
       "<table border=\"1\" class=\"dataframe\">\n",
       "  <thead>\n",
       "    <tr style=\"text-align: right;\">\n",
       "      <th></th>\n",
       "      <th>name</th>\n",
       "      <th>height_cm</th>\n",
       "      <th>born_country</th>\n",
       "    </tr>\n",
       "  </thead>\n",
       "  <tbody>\n",
       "    <tr>\n",
       "      <th>5781</th>\n",
       "      <td>Tommy Burleson</td>\n",
       "      <td>223.0</td>\n",
       "      <td>USA</td>\n",
       "    </tr>\n",
       "    <tr>\n",
       "      <th>6722</th>\n",
       "      <td>Shaquille O'Neal</td>\n",
       "      <td>216.0</td>\n",
       "      <td>USA</td>\n",
       "    </tr>\n",
       "    <tr>\n",
       "      <th>6937</th>\n",
       "      <td>David Robinson</td>\n",
       "      <td>216.0</td>\n",
       "      <td>USA</td>\n",
       "    </tr>\n",
       "    <tr>\n",
       "      <th>123850</th>\n",
       "      <td>Tyson Chandler</td>\n",
       "      <td>216.0</td>\n",
       "      <td>USA</td>\n",
       "    </tr>\n",
       "  </tbody>\n",
       "</table>\n",
       "</div>"
      ],
      "text/plain": [
       "                    name  height_cm born_country\n",
       "5781      Tommy Burleson      223.0          USA\n",
       "6722    Shaquille O'Neal      216.0          USA\n",
       "6937      David Robinson      216.0          USA\n",
       "123850    Tyson Chandler      216.0          USA"
      ]
     },
     "execution_count": 37,
     "metadata": {},
     "output_type": "execute_result"
    }
   ],
   "source": [
    "bios[\n",
    "    (bios['height_cm']>215) & \n",
    "    (bios['born_country'].str.casefold() == 'usa'.casefold())\n",
    "][\n",
    "    ['name', 'height_cm', 'born_country']\n",
    "]"
   ]
  },
  {
   "cell_type": "markdown",
   "metadata": {},
   "source": [
    "## string accessor"
   ]
  },
  {
   "cell_type": "code",
   "execution_count": 40,
   "metadata": {},
   "outputs": [
    {
     "data": {
      "application/vnd.microsoft.datawrangler.viewer.v0+json": {
       "columns": [
        {
         "name": "index",
         "rawType": "int64",
         "type": "integer"
        },
        {
         "name": "athlete_id",
         "rawType": "int64",
         "type": "integer"
        },
        {
         "name": "name",
         "rawType": "object",
         "type": "string"
        },
        {
         "name": "born_date",
         "rawType": "object",
         "type": "string"
        },
        {
         "name": "born_city",
         "rawType": "object",
         "type": "unknown"
        },
        {
         "name": "born_region",
         "rawType": "object",
         "type": "unknown"
        },
        {
         "name": "born_country",
         "rawType": "object",
         "type": "unknown"
        },
        {
         "name": "NOC",
         "rawType": "object",
         "type": "string"
        },
        {
         "name": "height_cm",
         "rawType": "float64",
         "type": "float"
        },
        {
         "name": "weight_kg",
         "rawType": "float64",
         "type": "float"
        },
        {
         "name": "died_date",
         "rawType": "object",
         "type": "unknown"
        }
       ],
       "conversionMethod": "pd.DataFrame",
       "ref": "a2265414-5374-4956-a95d-3d71457c351e",
       "rows": [
        [
         "756",
         "760",
         "Bobby Powell",
         "1881-04-02",
         "Victoria",
         "British Columbia",
         "CAN",
         "Canada",
         null,
         null,
         "1917-04-28"
        ],
        [
         "1897",
         "1907",
         "Keith Hanlon",
         "1966-09-01",
         null,
         null,
         null,
         "Ireland",
         null,
         null,
         null
        ],
        [
         "3422",
         "3434",
         "Bobby Kelsey",
         "1938-12-08",
         "London",
         "England",
         "GBR",
         "Great Britain",
         "177.0",
         "62.0",
         null
        ],
        [
         "3505",
         "3517",
         "Keith Wallace",
         "1961-03-29",
         "Preston",
         "England",
         "GBR",
         "Great Britain",
         "165.0",
         "51.0",
         "1999-12-31"
        ],
        [
         "3513",
         "3525",
         "Bobby Wells",
         "1961-05-15",
         "London",
         "England",
         "GBR",
         "Great Britain",
         "193.0",
         "91.0",
         null
        ]
       ],
       "shape": {
        "columns": 10,
        "rows": 5
       }
      },
      "text/html": [
       "<div>\n",
       "<style scoped>\n",
       "    .dataframe tbody tr th:only-of-type {\n",
       "        vertical-align: middle;\n",
       "    }\n",
       "\n",
       "    .dataframe tbody tr th {\n",
       "        vertical-align: top;\n",
       "    }\n",
       "\n",
       "    .dataframe thead th {\n",
       "        text-align: right;\n",
       "    }\n",
       "</style>\n",
       "<table border=\"1\" class=\"dataframe\">\n",
       "  <thead>\n",
       "    <tr style=\"text-align: right;\">\n",
       "      <th></th>\n",
       "      <th>athlete_id</th>\n",
       "      <th>name</th>\n",
       "      <th>born_date</th>\n",
       "      <th>born_city</th>\n",
       "      <th>born_region</th>\n",
       "      <th>born_country</th>\n",
       "      <th>NOC</th>\n",
       "      <th>height_cm</th>\n",
       "      <th>weight_kg</th>\n",
       "      <th>died_date</th>\n",
       "    </tr>\n",
       "  </thead>\n",
       "  <tbody>\n",
       "    <tr>\n",
       "      <th>756</th>\n",
       "      <td>760</td>\n",
       "      <td>Bobby Powell</td>\n",
       "      <td>1881-04-02</td>\n",
       "      <td>Victoria</td>\n",
       "      <td>British Columbia</td>\n",
       "      <td>CAN</td>\n",
       "      <td>Canada</td>\n",
       "      <td>NaN</td>\n",
       "      <td>NaN</td>\n",
       "      <td>1917-04-28</td>\n",
       "    </tr>\n",
       "    <tr>\n",
       "      <th>1897</th>\n",
       "      <td>1907</td>\n",
       "      <td>Keith Hanlon</td>\n",
       "      <td>1966-09-01</td>\n",
       "      <td>NaN</td>\n",
       "      <td>NaN</td>\n",
       "      <td>NaN</td>\n",
       "      <td>Ireland</td>\n",
       "      <td>NaN</td>\n",
       "      <td>NaN</td>\n",
       "      <td>NaN</td>\n",
       "    </tr>\n",
       "    <tr>\n",
       "      <th>3422</th>\n",
       "      <td>3434</td>\n",
       "      <td>Bobby Kelsey</td>\n",
       "      <td>1938-12-08</td>\n",
       "      <td>London</td>\n",
       "      <td>England</td>\n",
       "      <td>GBR</td>\n",
       "      <td>Great Britain</td>\n",
       "      <td>177.0</td>\n",
       "      <td>62.0</td>\n",
       "      <td>NaN</td>\n",
       "    </tr>\n",
       "    <tr>\n",
       "      <th>3505</th>\n",
       "      <td>3517</td>\n",
       "      <td>Keith Wallace</td>\n",
       "      <td>1961-03-29</td>\n",
       "      <td>Preston</td>\n",
       "      <td>England</td>\n",
       "      <td>GBR</td>\n",
       "      <td>Great Britain</td>\n",
       "      <td>165.0</td>\n",
       "      <td>51.0</td>\n",
       "      <td>1999-12-31</td>\n",
       "    </tr>\n",
       "    <tr>\n",
       "      <th>3513</th>\n",
       "      <td>3525</td>\n",
       "      <td>Bobby Wells</td>\n",
       "      <td>1961-05-15</td>\n",
       "      <td>London</td>\n",
       "      <td>England</td>\n",
       "      <td>GBR</td>\n",
       "      <td>Great Britain</td>\n",
       "      <td>193.0</td>\n",
       "      <td>91.0</td>\n",
       "      <td>NaN</td>\n",
       "    </tr>\n",
       "  </tbody>\n",
       "</table>\n",
       "</div>"
      ],
      "text/plain": [
       "      athlete_id           name   born_date born_city       born_region  \\\n",
       "756          760   Bobby Powell  1881-04-02  Victoria  British Columbia   \n",
       "1897        1907   Keith Hanlon  1966-09-01       NaN               NaN   \n",
       "3422        3434   Bobby Kelsey  1938-12-08    London           England   \n",
       "3505        3517  Keith Wallace  1961-03-29   Preston           England   \n",
       "3513        3525    Bobby Wells  1961-05-15    London           England   \n",
       "\n",
       "     born_country            NOC  height_cm  weight_kg   died_date  \n",
       "756           CAN         Canada        NaN        NaN  1917-04-28  \n",
       "1897          NaN        Ireland        NaN        NaN         NaN  \n",
       "3422          GBR  Great Britain      177.0       62.0         NaN  \n",
       "3505          GBR  Great Britain      165.0       51.0  1999-12-31  \n",
       "3513          GBR  Great Britain      193.0       91.0         NaN  "
      ]
     },
     "execution_count": 40,
     "metadata": {},
     "output_type": "execute_result"
    }
   ],
   "source": [
    "bios[bios['name'].str.contains('bob|keith', case=False)].head()"
   ]
  },
  {
   "cell_type": "markdown",
   "metadata": {},
   "source": [
    "## .isin()"
   ]
  },
  {
   "cell_type": "code",
   "execution_count": 50,
   "metadata": {},
   "outputs": [
    {
     "data": {
      "application/vnd.microsoft.datawrangler.viewer.v0+json": {
       "columns": [
        {
         "name": "index",
         "rawType": "int64",
         "type": "integer"
        },
        {
         "name": "athlete_id",
         "rawType": "int64",
         "type": "integer"
        },
        {
         "name": "name",
         "rawType": "object",
         "type": "string"
        },
        {
         "name": "born_date",
         "rawType": "object",
         "type": "string"
        },
        {
         "name": "born_city",
         "rawType": "object",
         "type": "string"
        },
        {
         "name": "born_region",
         "rawType": "object",
         "type": "string"
        },
        {
         "name": "born_country",
         "rawType": "object",
         "type": "string"
        },
        {
         "name": "NOC",
         "rawType": "object",
         "type": "string"
        },
        {
         "name": "height_cm",
         "rawType": "float64",
         "type": "float"
        },
        {
         "name": "weight_kg",
         "rawType": "float64",
         "type": "float"
        },
        {
         "name": "died_date",
         "rawType": "object",
         "type": "unknown"
        }
       ],
       "conversionMethod": "pd.DataFrame",
       "ref": "cdb2d6dd-4c17-4bf1-94e2-8ed2e5c1b61d",
       "rows": [
        [
         "61797",
         "62252",
         "Robbie Haines",
         "1954-03-27",
         "San Diego",
         "California",
         "USA",
         "United States",
         "188.0",
         "95.0",
         null
        ],
        [
         "48137",
         "48490",
         "Roberto Cassio",
         "1968-01-08",
         "Roma",
         "Roma",
         "ITA",
         "Italy",
         "178.0",
         "70.0",
         null
        ],
        [
         "13293",
         "13374",
         "Roberto Amadio",
         "1963-07-10",
         "Portogruaro",
         "Venezia",
         "ITA",
         "Italy",
         "188.0",
         "78.0",
         null
        ],
        [
         "78156",
         "78747",
         "Robert Maxwell",
         "1902-06-09",
         "Los Angeles",
         "California",
         "USA",
         "United States",
         "183.0",
         "81.0",
         "1985-08-15"
        ],
        [
         "124484",
         "126787",
         "Rob Crane",
         "1986-02-19",
         "Stamford",
         "Connecticut",
         "USA",
         "United States",
         "188.0",
         "84.0",
         null
        ]
       ],
       "shape": {
        "columns": 10,
        "rows": 5
       }
      },
      "text/html": [
       "<div>\n",
       "<style scoped>\n",
       "    .dataframe tbody tr th:only-of-type {\n",
       "        vertical-align: middle;\n",
       "    }\n",
       "\n",
       "    .dataframe tbody tr th {\n",
       "        vertical-align: top;\n",
       "    }\n",
       "\n",
       "    .dataframe thead th {\n",
       "        text-align: right;\n",
       "    }\n",
       "</style>\n",
       "<table border=\"1\" class=\"dataframe\">\n",
       "  <thead>\n",
       "    <tr style=\"text-align: right;\">\n",
       "      <th></th>\n",
       "      <th>athlete_id</th>\n",
       "      <th>name</th>\n",
       "      <th>born_date</th>\n",
       "      <th>born_city</th>\n",
       "      <th>born_region</th>\n",
       "      <th>born_country</th>\n",
       "      <th>NOC</th>\n",
       "      <th>height_cm</th>\n",
       "      <th>weight_kg</th>\n",
       "      <th>died_date</th>\n",
       "    </tr>\n",
       "  </thead>\n",
       "  <tbody>\n",
       "    <tr>\n",
       "      <th>61797</th>\n",
       "      <td>62252</td>\n",
       "      <td>Robbie Haines</td>\n",
       "      <td>1954-03-27</td>\n",
       "      <td>San Diego</td>\n",
       "      <td>California</td>\n",
       "      <td>USA</td>\n",
       "      <td>United States</td>\n",
       "      <td>188.0</td>\n",
       "      <td>95.0</td>\n",
       "      <td>NaN</td>\n",
       "    </tr>\n",
       "    <tr>\n",
       "      <th>48137</th>\n",
       "      <td>48490</td>\n",
       "      <td>Roberto Cassio</td>\n",
       "      <td>1968-01-08</td>\n",
       "      <td>Roma</td>\n",
       "      <td>Roma</td>\n",
       "      <td>ITA</td>\n",
       "      <td>Italy</td>\n",
       "      <td>178.0</td>\n",
       "      <td>70.0</td>\n",
       "      <td>NaN</td>\n",
       "    </tr>\n",
       "    <tr>\n",
       "      <th>13293</th>\n",
       "      <td>13374</td>\n",
       "      <td>Roberto Amadio</td>\n",
       "      <td>1963-07-10</td>\n",
       "      <td>Portogruaro</td>\n",
       "      <td>Venezia</td>\n",
       "      <td>ITA</td>\n",
       "      <td>Italy</td>\n",
       "      <td>188.0</td>\n",
       "      <td>78.0</td>\n",
       "      <td>NaN</td>\n",
       "    </tr>\n",
       "    <tr>\n",
       "      <th>78156</th>\n",
       "      <td>78747</td>\n",
       "      <td>Robert Maxwell</td>\n",
       "      <td>1902-06-09</td>\n",
       "      <td>Los Angeles</td>\n",
       "      <td>California</td>\n",
       "      <td>USA</td>\n",
       "      <td>United States</td>\n",
       "      <td>183.0</td>\n",
       "      <td>81.0</td>\n",
       "      <td>1985-08-15</td>\n",
       "    </tr>\n",
       "    <tr>\n",
       "      <th>124484</th>\n",
       "      <td>126787</td>\n",
       "      <td>Rob Crane</td>\n",
       "      <td>1986-02-19</td>\n",
       "      <td>Stamford</td>\n",
       "      <td>Connecticut</td>\n",
       "      <td>USA</td>\n",
       "      <td>United States</td>\n",
       "      <td>188.0</td>\n",
       "      <td>84.0</td>\n",
       "      <td>NaN</td>\n",
       "    </tr>\n",
       "  </tbody>\n",
       "</table>\n",
       "</div>"
      ],
      "text/plain": [
       "        athlete_id            name   born_date    born_city  born_region  \\\n",
       "61797        62252   Robbie Haines  1954-03-27    San Diego   California   \n",
       "48137        48490  Roberto Cassio  1968-01-08         Roma         Roma   \n",
       "13293        13374  Roberto Amadio  1963-07-10  Portogruaro      Venezia   \n",
       "78156        78747  Robert Maxwell  1902-06-09  Los Angeles   California   \n",
       "124484      126787       Rob Crane  1986-02-19     Stamford  Connecticut   \n",
       "\n",
       "       born_country            NOC  height_cm  weight_kg   died_date  \n",
       "61797           USA  United States      188.0       95.0         NaN  \n",
       "48137           ITA          Italy      178.0       70.0         NaN  \n",
       "13293           ITA          Italy      188.0       78.0         NaN  \n",
       "78156           USA  United States      183.0       81.0  1985-08-15  \n",
       "124484          USA  United States      188.0       84.0         NaN  "
      ]
     },
     "execution_count": 50,
     "metadata": {},
     "output_type": "execute_result"
    }
   ],
   "source": [
    "bios[\n",
    "    (bios['born_country'].str.lower()\n",
    "    .isin('usa ita fra'.split())) &\n",
    "    (bios['name'].str.lower().str.startswith('rob'))\n",
    "].sample(5).head()"
   ]
  },
  {
   "cell_type": "markdown",
   "metadata": {},
   "source": [
    "## using .query"
   ]
  },
  {
   "cell_type": "code",
   "execution_count": 53,
   "metadata": {},
   "outputs": [
    {
     "data": {
      "application/vnd.microsoft.datawrangler.viewer.v0+json": {
       "columns": [
        {
         "name": "index",
         "rawType": "int64",
         "type": "integer"
        },
        {
         "name": "athlete_id",
         "rawType": "int64",
         "type": "integer"
        },
        {
         "name": "name",
         "rawType": "object",
         "type": "string"
        },
        {
         "name": "born_date",
         "rawType": "object",
         "type": "string"
        },
        {
         "name": "born_city",
         "rawType": "object",
         "type": "string"
        },
        {
         "name": "born_region",
         "rawType": "object",
         "type": "string"
        },
        {
         "name": "born_country",
         "rawType": "object",
         "type": "string"
        },
        {
         "name": "NOC",
         "rawType": "object",
         "type": "string"
        },
        {
         "name": "height_cm",
         "rawType": "float64",
         "type": "float"
        },
        {
         "name": "weight_kg",
         "rawType": "float64",
         "type": "float"
        },
        {
         "name": "died_date",
         "rawType": "object",
         "type": "unknown"
        }
       ],
       "conversionMethod": "pd.DataFrame",
       "ref": "a5b0a425-e6b2-4ed2-979c-c5ce8f73addc",
       "rows": [
        [
         "801",
         "805",
         "Paola Bologna",
         "1898-08-20",
         "Torino",
         "Torino",
         "ITA",
         "Italy",
         null,
         null,
         "1960-01-13"
        ],
        [
         "1555",
         "1562",
         "Dante Carbini",
         "1973-08-09",
         "Torino",
         "Torino",
         "ITA",
         "Italy",
         "188.0",
         "86.0",
         null
        ],
        [
         "5512",
         "5533",
         "Rosanna Vergnano",
         "1954-05-21",
         "Torino",
         "Torino",
         "ITA",
         "Italy",
         "172.0",
         "64.0",
         null
        ],
        [
         "10088",
         "10144",
         "Maria Cristina Giai Pron",
         "1974-08-21",
         "Torino",
         "Torino",
         "ITA",
         "Italy",
         "168.0",
         "60.0",
         null
        ],
        [
         "10158",
         "10214",
         "Eligio Valentino",
         "1925-07-19",
         "Torino",
         "Torino",
         "ITA",
         "Italy",
         null,
         null,
         "2012-10-10"
        ]
       ],
       "shape": {
        "columns": 10,
        "rows": 5
       }
      },
      "text/html": [
       "<div>\n",
       "<style scoped>\n",
       "    .dataframe tbody tr th:only-of-type {\n",
       "        vertical-align: middle;\n",
       "    }\n",
       "\n",
       "    .dataframe tbody tr th {\n",
       "        vertical-align: top;\n",
       "    }\n",
       "\n",
       "    .dataframe thead th {\n",
       "        text-align: right;\n",
       "    }\n",
       "</style>\n",
       "<table border=\"1\" class=\"dataframe\">\n",
       "  <thead>\n",
       "    <tr style=\"text-align: right;\">\n",
       "      <th></th>\n",
       "      <th>athlete_id</th>\n",
       "      <th>name</th>\n",
       "      <th>born_date</th>\n",
       "      <th>born_city</th>\n",
       "      <th>born_region</th>\n",
       "      <th>born_country</th>\n",
       "      <th>NOC</th>\n",
       "      <th>height_cm</th>\n",
       "      <th>weight_kg</th>\n",
       "      <th>died_date</th>\n",
       "    </tr>\n",
       "  </thead>\n",
       "  <tbody>\n",
       "    <tr>\n",
       "      <th>801</th>\n",
       "      <td>805</td>\n",
       "      <td>Paola Bologna</td>\n",
       "      <td>1898-08-20</td>\n",
       "      <td>Torino</td>\n",
       "      <td>Torino</td>\n",
       "      <td>ITA</td>\n",
       "      <td>Italy</td>\n",
       "      <td>NaN</td>\n",
       "      <td>NaN</td>\n",
       "      <td>1960-01-13</td>\n",
       "    </tr>\n",
       "    <tr>\n",
       "      <th>1555</th>\n",
       "      <td>1562</td>\n",
       "      <td>Dante Carbini</td>\n",
       "      <td>1973-08-09</td>\n",
       "      <td>Torino</td>\n",
       "      <td>Torino</td>\n",
       "      <td>ITA</td>\n",
       "      <td>Italy</td>\n",
       "      <td>188.0</td>\n",
       "      <td>86.0</td>\n",
       "      <td>NaN</td>\n",
       "    </tr>\n",
       "    <tr>\n",
       "      <th>5512</th>\n",
       "      <td>5533</td>\n",
       "      <td>Rosanna Vergnano</td>\n",
       "      <td>1954-05-21</td>\n",
       "      <td>Torino</td>\n",
       "      <td>Torino</td>\n",
       "      <td>ITA</td>\n",
       "      <td>Italy</td>\n",
       "      <td>172.0</td>\n",
       "      <td>64.0</td>\n",
       "      <td>NaN</td>\n",
       "    </tr>\n",
       "    <tr>\n",
       "      <th>10088</th>\n",
       "      <td>10144</td>\n",
       "      <td>Maria Cristina Giai Pron</td>\n",
       "      <td>1974-08-21</td>\n",
       "      <td>Torino</td>\n",
       "      <td>Torino</td>\n",
       "      <td>ITA</td>\n",
       "      <td>Italy</td>\n",
       "      <td>168.0</td>\n",
       "      <td>60.0</td>\n",
       "      <td>NaN</td>\n",
       "    </tr>\n",
       "    <tr>\n",
       "      <th>10158</th>\n",
       "      <td>10214</td>\n",
       "      <td>Eligio Valentino</td>\n",
       "      <td>1925-07-19</td>\n",
       "      <td>Torino</td>\n",
       "      <td>Torino</td>\n",
       "      <td>ITA</td>\n",
       "      <td>Italy</td>\n",
       "      <td>NaN</td>\n",
       "      <td>NaN</td>\n",
       "      <td>2012-10-10</td>\n",
       "    </tr>\n",
       "  </tbody>\n",
       "</table>\n",
       "</div>"
      ],
      "text/plain": [
       "       athlete_id                      name   born_date born_city born_region  \\\n",
       "801           805             Paola Bologna  1898-08-20    Torino      Torino   \n",
       "1555         1562             Dante Carbini  1973-08-09    Torino      Torino   \n",
       "5512         5533          Rosanna Vergnano  1954-05-21    Torino      Torino   \n",
       "10088       10144  Maria Cristina Giai Pron  1974-08-21    Torino      Torino   \n",
       "10158       10214          Eligio Valentino  1925-07-19    Torino      Torino   \n",
       "\n",
       "      born_country    NOC  height_cm  weight_kg   died_date  \n",
       "801            ITA  Italy        NaN        NaN  1960-01-13  \n",
       "1555           ITA  Italy      188.0       86.0         NaN  \n",
       "5512           ITA  Italy      172.0       64.0         NaN  \n",
       "10088          ITA  Italy      168.0       60.0         NaN  \n",
       "10158          ITA  Italy        NaN        NaN  2012-10-10  "
      ]
     },
     "execution_count": 53,
     "metadata": {},
     "output_type": "execute_result"
    }
   ],
   "source": [
    "bios.query('born_country == \"ITA\" and born_city == \"Torino\"').head()"
   ]
  },
  {
   "cell_type": "code",
   "execution_count": 56,
   "metadata": {},
   "outputs": [
    {
     "data": {
      "application/vnd.microsoft.datawrangler.viewer.v0+json": {
       "columns": [
        {
         "name": "index",
         "rawType": "int64",
         "type": "integer"
        },
        {
         "name": "athlete_id",
         "rawType": "int64",
         "type": "integer"
        },
        {
         "name": "name",
         "rawType": "object",
         "type": "string"
        },
        {
         "name": "born_date",
         "rawType": "object",
         "type": "string"
        },
        {
         "name": "born_city",
         "rawType": "object",
         "type": "string"
        },
        {
         "name": "born_region",
         "rawType": "object",
         "type": "string"
        },
        {
         "name": "born_country",
         "rawType": "object",
         "type": "string"
        },
        {
         "name": "NOC",
         "rawType": "object",
         "type": "string"
        },
        {
         "name": "height_cm",
         "rawType": "float64",
         "type": "float"
        },
        {
         "name": "weight_kg",
         "rawType": "float64",
         "type": "float"
        },
        {
         "name": "died_date",
         "rawType": "object",
         "type": "unknown"
        }
       ],
       "conversionMethod": "pd.DataFrame",
       "ref": "d188745f-b4d3-4b6c-b38e-7cab1887170b",
       "rows": [
        [
         "801",
         "805",
         "Paola Bologna",
         "1898-08-20",
         "Torino",
         "Torino",
         "ITA",
         "Italy",
         null,
         null,
         "1960-01-13"
        ],
        [
         "1555",
         "1562",
         "Dante Carbini",
         "1973-08-09",
         "Torino",
         "Torino",
         "ITA",
         "Italy",
         "188.0",
         "86.0",
         null
        ],
        [
         "5512",
         "5533",
         "Rosanna Vergnano",
         "1954-05-21",
         "Torino",
         "Torino",
         "ITA",
         "Italy",
         "172.0",
         "64.0",
         null
        ],
        [
         "10088",
         "10144",
         "Maria Cristina Giai Pron",
         "1974-08-21",
         "Torino",
         "Torino",
         "ITA",
         "Italy",
         "168.0",
         "60.0",
         null
        ],
        [
         "10158",
         "10214",
         "Eligio Valentino",
         "1925-07-19",
         "Torino",
         "Torino",
         "ITA",
         "Italy",
         null,
         null,
         "2012-10-10"
        ]
       ],
       "shape": {
        "columns": 10,
        "rows": 5
       }
      },
      "text/html": [
       "<div>\n",
       "<style scoped>\n",
       "    .dataframe tbody tr th:only-of-type {\n",
       "        vertical-align: middle;\n",
       "    }\n",
       "\n",
       "    .dataframe tbody tr th {\n",
       "        vertical-align: top;\n",
       "    }\n",
       "\n",
       "    .dataframe thead th {\n",
       "        text-align: right;\n",
       "    }\n",
       "</style>\n",
       "<table border=\"1\" class=\"dataframe\">\n",
       "  <thead>\n",
       "    <tr style=\"text-align: right;\">\n",
       "      <th></th>\n",
       "      <th>athlete_id</th>\n",
       "      <th>name</th>\n",
       "      <th>born_date</th>\n",
       "      <th>born_city</th>\n",
       "      <th>born_region</th>\n",
       "      <th>born_country</th>\n",
       "      <th>NOC</th>\n",
       "      <th>height_cm</th>\n",
       "      <th>weight_kg</th>\n",
       "      <th>died_date</th>\n",
       "    </tr>\n",
       "  </thead>\n",
       "  <tbody>\n",
       "    <tr>\n",
       "      <th>801</th>\n",
       "      <td>805</td>\n",
       "      <td>Paola Bologna</td>\n",
       "      <td>1898-08-20</td>\n",
       "      <td>Torino</td>\n",
       "      <td>Torino</td>\n",
       "      <td>ITA</td>\n",
       "      <td>Italy</td>\n",
       "      <td>NaN</td>\n",
       "      <td>NaN</td>\n",
       "      <td>1960-01-13</td>\n",
       "    </tr>\n",
       "    <tr>\n",
       "      <th>1555</th>\n",
       "      <td>1562</td>\n",
       "      <td>Dante Carbini</td>\n",
       "      <td>1973-08-09</td>\n",
       "      <td>Torino</td>\n",
       "      <td>Torino</td>\n",
       "      <td>ITA</td>\n",
       "      <td>Italy</td>\n",
       "      <td>188.0</td>\n",
       "      <td>86.0</td>\n",
       "      <td>NaN</td>\n",
       "    </tr>\n",
       "    <tr>\n",
       "      <th>5512</th>\n",
       "      <td>5533</td>\n",
       "      <td>Rosanna Vergnano</td>\n",
       "      <td>1954-05-21</td>\n",
       "      <td>Torino</td>\n",
       "      <td>Torino</td>\n",
       "      <td>ITA</td>\n",
       "      <td>Italy</td>\n",
       "      <td>172.0</td>\n",
       "      <td>64.0</td>\n",
       "      <td>NaN</td>\n",
       "    </tr>\n",
       "    <tr>\n",
       "      <th>10088</th>\n",
       "      <td>10144</td>\n",
       "      <td>Maria Cristina Giai Pron</td>\n",
       "      <td>1974-08-21</td>\n",
       "      <td>Torino</td>\n",
       "      <td>Torino</td>\n",
       "      <td>ITA</td>\n",
       "      <td>Italy</td>\n",
       "      <td>168.0</td>\n",
       "      <td>60.0</td>\n",
       "      <td>NaN</td>\n",
       "    </tr>\n",
       "    <tr>\n",
       "      <th>10158</th>\n",
       "      <td>10214</td>\n",
       "      <td>Eligio Valentino</td>\n",
       "      <td>1925-07-19</td>\n",
       "      <td>Torino</td>\n",
       "      <td>Torino</td>\n",
       "      <td>ITA</td>\n",
       "      <td>Italy</td>\n",
       "      <td>NaN</td>\n",
       "      <td>NaN</td>\n",
       "      <td>2012-10-10</td>\n",
       "    </tr>\n",
       "  </tbody>\n",
       "</table>\n",
       "</div>"
      ],
      "text/plain": [
       "       athlete_id                      name   born_date born_city born_region  \\\n",
       "801           805             Paola Bologna  1898-08-20    Torino      Torino   \n",
       "1555         1562             Dante Carbini  1973-08-09    Torino      Torino   \n",
       "5512         5533          Rosanna Vergnano  1954-05-21    Torino      Torino   \n",
       "10088       10144  Maria Cristina Giai Pron  1974-08-21    Torino      Torino   \n",
       "10158       10214          Eligio Valentino  1925-07-19    Torino      Torino   \n",
       "\n",
       "      born_country    NOC  height_cm  weight_kg   died_date  \n",
       "801            ITA  Italy        NaN        NaN  1960-01-13  \n",
       "1555           ITA  Italy      188.0       86.0         NaN  \n",
       "5512           ITA  Italy      172.0       64.0         NaN  \n",
       "10088          ITA  Italy      168.0       60.0         NaN  \n",
       "10158          ITA  Italy        NaN        NaN  2012-10-10  "
      ]
     },
     "execution_count": 56,
     "metadata": {},
     "output_type": "execute_result"
    }
   ],
   "source": [
    "bios.query(\n",
    "    'born_country.str.lower() == \"ita\" '\n",
    "    'and born_city.str.lower() == \"torino\"'\n",
    ").head()"
   ]
  },
  {
   "cell_type": "markdown",
   "metadata": {},
   "source": [
    "## using .isin() inside .query()"
   ]
  },
  {
   "cell_type": "code",
   "execution_count": 60,
   "metadata": {},
   "outputs": [
    {
     "data": {
      "application/vnd.microsoft.datawrangler.viewer.v0+json": {
       "columns": [
        {
         "name": "index",
         "rawType": "int64",
         "type": "integer"
        },
        {
         "name": "athlete_id",
         "rawType": "int64",
         "type": "integer"
        },
        {
         "name": "name",
         "rawType": "object",
         "type": "string"
        },
        {
         "name": "born_date",
         "rawType": "object",
         "type": "string"
        },
        {
         "name": "born_city",
         "rawType": "object",
         "type": "string"
        },
        {
         "name": "born_region",
         "rawType": "object",
         "type": "string"
        },
        {
         "name": "born_country",
         "rawType": "object",
         "type": "string"
        },
        {
         "name": "NOC",
         "rawType": "object",
         "type": "string"
        },
        {
         "name": "height_cm",
         "rawType": "float64",
         "type": "float"
        },
        {
         "name": "weight_kg",
         "rawType": "float64",
         "type": "float"
        },
        {
         "name": "died_date",
         "rawType": "object",
         "type": "unknown"
        }
       ],
       "conversionMethod": "pd.DataFrame",
       "ref": "49b6f3fa-9e54-4405-86cf-10d6ead72de9",
       "rows": [
        [
         "58481",
         "58899",
         "Dante Ceccatelli",
         "1895-07-14",
         "Prato",
         "Prato",
         "ITA",
         "Italy",
         null,
         null,
         "1936-03-13"
        ],
        [
         "48153",
         "48506",
         "Ezio Della Savia",
         "1942-06-24",
         "Cormons",
         "Gorizia",
         "ITA",
         "Italy",
         "185.0",
         "92.0",
         "2021-09-05"
        ],
        [
         "90592",
         "91315",
         "Anne-Laure Klein",
         "1983-11-14",
         "Calais",
         "Pas-de-Calais",
         "FRA",
         "France",
         "171.0",
         "53.0",
         null
        ],
        [
         "145339",
         "149061",
         "Katie Hensien",
         "1999-12-01",
         "Redmond",
         "Washington",
         "USA",
         "United States",
         null,
         null,
         null
        ],
        [
         "36640",
         "36933",
         "Clément Dorlia",
         "1870-12-07",
         "Paris XIIIe",
         "Paris",
         "FRA",
         "France",
         null,
         null,
         "1942-01-23"
        ]
       ],
       "shape": {
        "columns": 10,
        "rows": 5
       }
      },
      "text/html": [
       "<div>\n",
       "<style scoped>\n",
       "    .dataframe tbody tr th:only-of-type {\n",
       "        vertical-align: middle;\n",
       "    }\n",
       "\n",
       "    .dataframe tbody tr th {\n",
       "        vertical-align: top;\n",
       "    }\n",
       "\n",
       "    .dataframe thead th {\n",
       "        text-align: right;\n",
       "    }\n",
       "</style>\n",
       "<table border=\"1\" class=\"dataframe\">\n",
       "  <thead>\n",
       "    <tr style=\"text-align: right;\">\n",
       "      <th></th>\n",
       "      <th>athlete_id</th>\n",
       "      <th>name</th>\n",
       "      <th>born_date</th>\n",
       "      <th>born_city</th>\n",
       "      <th>born_region</th>\n",
       "      <th>born_country</th>\n",
       "      <th>NOC</th>\n",
       "      <th>height_cm</th>\n",
       "      <th>weight_kg</th>\n",
       "      <th>died_date</th>\n",
       "    </tr>\n",
       "  </thead>\n",
       "  <tbody>\n",
       "    <tr>\n",
       "      <th>58481</th>\n",
       "      <td>58899</td>\n",
       "      <td>Dante Ceccatelli</td>\n",
       "      <td>1895-07-14</td>\n",
       "      <td>Prato</td>\n",
       "      <td>Prato</td>\n",
       "      <td>ITA</td>\n",
       "      <td>Italy</td>\n",
       "      <td>NaN</td>\n",
       "      <td>NaN</td>\n",
       "      <td>1936-03-13</td>\n",
       "    </tr>\n",
       "    <tr>\n",
       "      <th>48153</th>\n",
       "      <td>48506</td>\n",
       "      <td>Ezio Della Savia</td>\n",
       "      <td>1942-06-24</td>\n",
       "      <td>Cormons</td>\n",
       "      <td>Gorizia</td>\n",
       "      <td>ITA</td>\n",
       "      <td>Italy</td>\n",
       "      <td>185.0</td>\n",
       "      <td>92.0</td>\n",
       "      <td>2021-09-05</td>\n",
       "    </tr>\n",
       "    <tr>\n",
       "      <th>90592</th>\n",
       "      <td>91315</td>\n",
       "      <td>Anne-Laure Klein</td>\n",
       "      <td>1983-11-14</td>\n",
       "      <td>Calais</td>\n",
       "      <td>Pas-de-Calais</td>\n",
       "      <td>FRA</td>\n",
       "      <td>France</td>\n",
       "      <td>171.0</td>\n",
       "      <td>53.0</td>\n",
       "      <td>NaN</td>\n",
       "    </tr>\n",
       "    <tr>\n",
       "      <th>145339</th>\n",
       "      <td>149061</td>\n",
       "      <td>Katie Hensien</td>\n",
       "      <td>1999-12-01</td>\n",
       "      <td>Redmond</td>\n",
       "      <td>Washington</td>\n",
       "      <td>USA</td>\n",
       "      <td>United States</td>\n",
       "      <td>NaN</td>\n",
       "      <td>NaN</td>\n",
       "      <td>NaN</td>\n",
       "    </tr>\n",
       "    <tr>\n",
       "      <th>36640</th>\n",
       "      <td>36933</td>\n",
       "      <td>Clément Dorlia</td>\n",
       "      <td>1870-12-07</td>\n",
       "      <td>Paris XIIIe</td>\n",
       "      <td>Paris</td>\n",
       "      <td>FRA</td>\n",
       "      <td>France</td>\n",
       "      <td>NaN</td>\n",
       "      <td>NaN</td>\n",
       "      <td>1942-01-23</td>\n",
       "    </tr>\n",
       "  </tbody>\n",
       "</table>\n",
       "</div>"
      ],
      "text/plain": [
       "        athlete_id              name   born_date    born_city    born_region  \\\n",
       "58481        58899  Dante Ceccatelli  1895-07-14        Prato          Prato   \n",
       "48153        48506  Ezio Della Savia  1942-06-24      Cormons        Gorizia   \n",
       "90592        91315  Anne-Laure Klein  1983-11-14       Calais  Pas-de-Calais   \n",
       "145339      149061     Katie Hensien  1999-12-01      Redmond     Washington   \n",
       "36640        36933    Clément Dorlia  1870-12-07  Paris XIIIe          Paris   \n",
       "\n",
       "       born_country            NOC  height_cm  weight_kg   died_date  \n",
       "58481           ITA          Italy        NaN        NaN  1936-03-13  \n",
       "48153           ITA          Italy      185.0       92.0  2021-09-05  \n",
       "90592           FRA         France      171.0       53.0         NaN  \n",
       "145339          USA  United States        NaN        NaN         NaN  \n",
       "36640           FRA         France        NaN        NaN  1942-01-23  "
      ]
     },
     "execution_count": 60,
     "metadata": {},
     "output_type": "execute_result"
    }
   ],
   "source": [
    "states = 'ITA FRA USA'.lower().split()\n",
    "bios.query(\n",
    "    'born_country.str.lower().isin(@states)'\n",
    ").sample(5)"
   ]
  }
 ],
 "metadata": {
  "kernelspec": {
   "display_name": ".venv",
   "language": "python",
   "name": "python3"
  },
  "language_info": {
   "codemirror_mode": {
    "name": "ipython",
    "version": 3
   },
   "file_extension": ".py",
   "mimetype": "text/x-python",
   "name": "python",
   "nbconvert_exporter": "python",
   "pygments_lexer": "ipython3",
   "version": "3.12.4"
  }
 },
 "nbformat": 4,
 "nbformat_minor": 2
}
